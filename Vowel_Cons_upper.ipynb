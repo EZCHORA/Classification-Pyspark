{
  "nbformat": 4,
  "nbformat_minor": 0,
  "metadata": {
    "colab": {
      "name": "Vowel_Cons_upper.ipynb",
      "provenance": [],
      "collapsed_sections": [],
      "authorship_tag": "ABX9TyOvU3hFGe2062Zt5Qxrmi3f",
      "include_colab_link": true
    },
    "kernelspec": {
      "name": "python3",
      "display_name": "Python 3"
    }
  },
  "cells": [
    {
      "cell_type": "markdown",
      "metadata": {
        "id": "view-in-github",
        "colab_type": "text"
      },
      "source": [
        "<a href=\"https://colab.research.google.com/github/EZCHORA/Classification-Pyspark/blob/master/Vowel_Cons_upper.ipynb\" target=\"_parent\"><img src=\"https://colab.research.google.com/assets/colab-badge.svg\" alt=\"Open In Colab\"/></a>"
      ]
    },
    {
      "cell_type": "code",
      "metadata": {
        "id": "yfcUBlAUc6EY"
      },
      "source": [
        "x= input()\r\n",
        "y = input()\r\n",
        "z = input()\r\n",
        "print(x,y,z,sep='\\n')\r\n",
        "lst ={'a','e','i','o','u'}\r\n",
        "# lst ='aeiou'\r\n",
        "cons ='bcdfghjklmnpqrstvwxyz'\r\n",
        "for char in x:\r\n",
        "  if char in lst:\r\n",
        "    x= x.replace(char,'*')\r\n",
        "for char in y:\r\n",
        "  if char in cons:\r\n",
        "    y =y.replace(char,'@')\r\n",
        "z=z.upper()\r\n",
        "\r\n",
        "print(x+y+z) \r\n",
        "  "
      ],
      "execution_count": null,
      "outputs": []
    }
  ]
}