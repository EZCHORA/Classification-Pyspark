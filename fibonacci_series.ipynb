{
  "nbformat": 4,
  "nbformat_minor": 0,
  "metadata": {
    "colab": {
      "name": "Untitled7.ipynb",
      "provenance": [],
      "authorship_tag": "ABX9TyNGkM+YmYBKMo42GGiHTEpj",
      "include_colab_link": true
    },
    "kernelspec": {
      "name": "python3",
      "display_name": "Python 3"
    }
  },
  "cells": [
    {
      "cell_type": "markdown",
      "metadata": {
        "id": "view-in-github",
        "colab_type": "text"
      },
      "source": [
        "<a href=\"https://colab.research.google.com/github/EZCHORA/Classification-Pyspark/blob/master/fibonacci_series.ipynb\" target=\"_parent\"><img src=\"https://colab.research.google.com/assets/colab-badge.svg\" alt=\"Open In Colab\"/></a>"
      ]
    },
    {
      "cell_type": "code",
      "metadata": {
        "colab": {
          "base_uri": "https://localhost:8080/"
        },
        "id": "OYGi_NDDQKQK",
        "outputId": "4d30fb14-b0cb-4015-c0e2-0194479f806e"
      },
      "source": [
        "def fibo(n):\r\n",
        "    a =0\r\n",
        "    b=1\r\n",
        "    if n<=0:\r\n",
        "      print(\"envalid input\")\r\n",
        "      return \r\n",
        "\r\n",
        "    elif n==1:\r\n",
        "      print(b)\r\n",
        "    else:\r\n",
        "      print(a)\r\n",
        "      print(b)\r\n",
        "      for i in range(2,n):\r\n",
        "          # print(i)\r\n",
        "          a,b=b,a+b\r\n",
        "          print(a+b)\r\n",
        "\r\n",
        "\r\n",
        "fibo(0)\r\n",
        "\r\n",
        "\r\n"
      ],
      "execution_count": 44,
      "outputs": [
        {
          "output_type": "stream",
          "text": [
            "envalid input\n"
          ],
          "name": "stdout"
        }
      ]
    }
  ]
}