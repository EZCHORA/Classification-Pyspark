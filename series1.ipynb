{
  "nbformat": 4,
  "nbformat_minor": 0,
  "metadata": {
    "colab": {
      "name": "series1.ipynb",
      "provenance": [],
      "collapsed_sections": [],
      "authorship_tag": "ABX9TyOySozg+pZCRveDwHm6E1/Q",
      "include_colab_link": true
    },
    "kernelspec": {
      "name": "python3",
      "display_name": "Python 3"
    }
  },
  "cells": [
    {
      "cell_type": "markdown",
      "metadata": {
        "id": "view-in-github",
        "colab_type": "text"
      },
      "source": [
        "<a href=\"https://colab.research.google.com/github/EZCHORA/Classification-Pyspark/blob/master/series1.ipynb\" target=\"_parent\"><img src=\"https://colab.research.google.com/assets/colab-badge.svg\" alt=\"Open In Colab\"/></a>"
      ]
    },
    {
      "cell_type": "markdown",
      "metadata": {
        "id": "o6lwFPYDe5qy"
      },
      "source": [
        "# , 0, 2, 1, 4, 2, 6, 3, 8, 4, 10, 5, 12, 6, 14, 7, 16, 8 This series is a mixture of 2 series all the odd terms in this series form even numbers in ascending order and every even terms is derived from the previous  term using the formula (x/2)\r\n",
        "\r\n",
        "**Consider the below series :\r\n",
        "\r\n",
        "0,0,2,1,4,2,6,3,8,4,10,5,12,6,14,7,16,8\r\n",
        "This series is a mixture of 2 series all the odd terms in this series form even numbers in ascending order\r\n",
        "Every even terms is derived from the previous  term using the formula (x/2)\r\n",
        "\r\n",
        "Write a program to find the nth term in this series.\r\n",
        "\r\n",
        "The value n in a positive integer that should be read from STDIN the nth term that is calculated by the program should be written to STDOUT.\r\n",
        "Other than the value of the nth term no other characters /strings or message should be written to STDOUT.\r\n",
        "For example\r\n",
        "\r\n",
        "if n=10,the 10 th term in the series is to be derived from the 9th term in the series. The 9th term is 8 so the 10th term is (8/2)=4. Only the value 4 should be printed to STDOUT.\r\n",
        "\r\n",
        "You can assume that the n will not exceed 20,000.**"
      ]
    },
    {
      "cell_type": "code",
      "metadata": {
        "colab": {
          "base_uri": "https://localhost:8080/"
        },
        "id": "t3hvZAI-VRdX",
        "outputId": "0ba335c4-379a-47e2-c16c-dd3ce23da755"
      },
      "source": [
        "n= int(input(\"enter a number of terms = \"))\r\n",
        "if (n%2==0):\r\n",
        "  n =int((n-1)/2)\r\n",
        "else:\r\n",
        "  n=int(n-1)\r\n",
        "\r\n",
        "print(n)\r\n"
      ],
      "execution_count": 12,
      "outputs": [
        {
          "output_type": "stream",
          "text": [
            "enter a number of terms = 10\n",
            "4\n"
          ],
          "name": "stdout"
        }
      ]
    }
  ]
}