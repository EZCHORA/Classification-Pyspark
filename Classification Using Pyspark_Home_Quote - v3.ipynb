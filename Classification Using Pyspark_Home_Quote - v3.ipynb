{
 "cells": [
  {
   "cell_type": "markdown",
   "metadata": {},
   "source": [
    "## Classification Using Pyspark"
   ]
  },
  {
   "cell_type": "markdown",
   "metadata": {},
   "source": [
    "### Pyspark Initializasing"
   ]
  },
  {
   "cell_type": "code",
   "execution_count": 1,
   "metadata": {
    "collapsed": true
   },
   "outputs": [],
   "source": [
    "# to make pyspark importable as a regular library\n",
    "import findspark\n",
    "findspark.init()\n",
    "\n",
    "import pyspark\n",
    "\n",
    "from pyspark import SparkContext\n",
    "sc = SparkContext.getOrCreate()\n",
    "\n",
    "#initializasing SparkSession for creating Spark DataFrame\n",
    "from pyspark.sql import SparkSession\n",
    "spark = SparkSession.builder.getOrCreate()"
   ]
  },
  {
   "cell_type": "markdown",
   "metadata": {
    "collapsed": true
   },
   "source": [
    "### Load Libraries"
   ]
  },
  {
   "cell_type": "code",
   "execution_count": 2,
   "metadata": {
    "collapsed": true
   },
   "outputs": [],
   "source": [
    "# Data Frame spark profiling \n",
    "from pyspark.sql.types import IntegerType, StringType, DoubleType, ShortType, DecimalType\n",
    "import pyspark.sql.functions as func\n",
    "from pyspark.sql.functions import isnull\n",
    "from pyspark.sql.functions import isnan, when, count, col, round\n",
    "from pyspark.sql.functions import mean\n",
    "from pyspark.sql.types import Row\n",
    "import matplotlib.pyplot as plt\n",
    "from pyspark.sql.functions import udf\n",
    "\n",
    "\n",
    "# Pandas DF operation\n",
    "import pandas as pd\n",
    "import numpy as np\n",
    "import matplotlib.pyplot as plt\n",
    "import seaborn as sns\n",
    "from numpy import array\n",
    "\n",
    "# Modeling + Evaluation\n",
    "from pyspark.ml.feature import VectorAssembler, VectorIndexer, OneHotEncoder, StringIndexer\n",
    "from pyspark.sql.functions import when\n",
    "from pyspark.sql import functions as F\n",
    "from pyspark.sql.functions import avg\n",
    "from pyspark.ml import Pipeline\n",
    "from pyspark.ml.classification import LogisticRegression, RandomForestClassifier, GBTClassifier\n",
    "from pyspark.ml.classification import DecisionTreeClassifier\n",
    "from pyspark.ml.evaluation import BinaryClassificationEvaluator, MulticlassClassificationEvaluator\n",
    "from pyspark.mllib.evaluation import BinaryClassificationMetrics\n",
    "from pyspark.ml.tuning import CrossValidator, ParamGridBuilder \n",
    "from sklearn.metrics import roc_curve, auc\n",
    "from sklearn.metrics import log_loss\n",
    "from pyspark.sql import Window\n",
    "from pyspark.sql.functions import rank,sum,col\n",
    "from pyspark.ml.linalg import Vectors\n",
    "from pyspark.ml.feature import VectorSlicer\n",
    "\n",
    "window = Window.rowsBetween(Window.unboundedPreceding,Window.unboundedFollowing)"
   ]
  },
  {
   "cell_type": "markdown",
   "metadata": {
    "collapsed": true
   },
   "source": [
    "### Load Data to Spark DataFrame"
   ]
  },
  {
   "cell_type": "code",
   "execution_count": 3,
   "metadata": {
    "collapsed": true
   },
   "outputs": [],
   "source": [
    "#Initializing File Type and path for data train\n",
    "file_type = 'text'\n",
    "path=r'train.csv'\n",
    "delimeter=','"
   ]
  },
  {
   "cell_type": "code",
   "execution_count": 4,
   "metadata": {
    "collapsed": true
   },
   "outputs": [],
   "source": [
    "def load_data(file_type):\n",
    "    \"\"\"input type of file \"text\" or \"parquet\" and Return pyspark dataframe\"\"\"\n",
    "    if file_type ==\"text\": # use text as file type input\n",
    "        df = spark.read.option(\"header\", \"true\") \\\n",
    "                       .option(\"delimeter\",delimeter)\\\n",
    "                       .option(\"inferSchema\", \"true\") \\\n",
    "                       .csv(path)  #path file that you want import\n",
    "    else:  \n",
    "        df= spark.read.parquet(\"example.parquet\") #path file that you want import\n",
    "    return df"
   ]
  },
  {
   "cell_type": "code",
   "execution_count": 5,
   "metadata": {
    "collapsed": true,
    "scrolled": true
   },
   "outputs": [],
   "source": [
    "df = load_data(file_type)"
   ]
  },
  {
   "cell_type": "code",
   "execution_count": 6,
   "metadata": {
    "collapsed": true
   },
   "outputs": [],
   "source": [
    "#Initializing File Type and path for data test\n",
    "file_type = 'text'\n",
    "path=r'test.csv'\n",
    "delimeter=','"
   ]
  },
  {
   "cell_type": "code",
   "execution_count": 7,
   "metadata": {
    "collapsed": true
   },
   "outputs": [],
   "source": [
    "test_data = load_data(file_type)"
   ]
  },
  {
   "cell_type": "code",
   "execution_count": 8,
   "metadata": {},
   "outputs": [
    {
     "name": "stdout",
     "output_type": "stream",
     "text": [
      "Help on function load_data in module __main__:\n",
      "\n",
      "load_data(file_type)\n",
      "    input type of file \"text\" or \"parquet\" and Return pyspark dataframe\n",
      "\n"
     ]
    }
   ],
   "source": [
    "help(load_data)"
   ]
  },
  {
   "cell_type": "markdown",
   "metadata": {},
   "source": [
    "### Check Data"
   ]
  },
  {
   "cell_type": "code",
   "execution_count": 96,
   "metadata": {},
   "outputs": [
    {
     "data": {
      "text/plain": [
       "pyspark.sql.dataframe.DataFrame"
      ]
     },
     "execution_count": 96,
     "metadata": {},
     "output_type": "execute_result"
    }
   ],
   "source": [
    "type(df)"
   ]
  },
  {
   "cell_type": "code",
   "execution_count": 97,
   "metadata": {},
   "outputs": [
    {
     "data": {
      "text/plain": [
       "pyspark.sql.dataframe.DataFrame"
      ]
     },
     "execution_count": 97,
     "metadata": {},
     "output_type": "execute_result"
    }
   ],
   "source": [
    "type(test_data)"
   ]
  },
  {
   "cell_type": "code",
   "execution_count": 98,
   "metadata": {},
   "outputs": [
    {
     "name": "stdout",
     "output_type": "stream",
     "text": [
      "+-----------+-------------------+--------------------+------+------+------+------+-------+-------+-------+---------------+---------------+---------------+---------------+---------------+---------------+---------------+---------------+---------------+---------------+---------------+---------------+--------------+--------------+----------------+----------------+------------+------------+------------+------------+-----------+-----------+-----------+-----------+-----------+-----------+-----------+------------+------------+------------+------------+------------+------------+--------------+--------------+---------------+---------------+--------------+--------------+--------------+--------------+--------------+----------------+----------------+---------------+---------------+---------------+---------------+---------------+---------------+---------------+---------------+---------------+---------------+---------------+---------------+---------------+---------------+---------------+---------------+---------------+---------------+---------------+---------------+---------------+---------------+---------------+---------------+---------------+---------------+---------------+---------------+---------------+---------------+---------------+---------------+---------------+---------------+---------------+---------------+---------------+---------------+---------------+---------------+---------------+---------------+---------------+---------------+---------------+---------------+---------------+---------------+---------------+---------------+---------------+---------------+---------------+---------------+---------------+---------------+---------------+---------------+---------------+---------------+---------------+---------------+---------------+---------------+---------------+---------------+---------------+---------------+---------------+---------------+---------------+---------------+---------------+---------------+---------------+---------------+--------------+--------------+--------------+--------------+--------------+--------------+--------------+---------------+----------------+----------------+---------------+---------------+---------------+---------------+----------------+----------------+---------------+---------------+---------------+---------------+----------------+----------------+---------------+---------------+----------------+----------------+---------------+----------------+----------------+---------------+---------------+---------------+---------------+---------------+---------------+---------------+---------------+---------------+---------------+---------------+---------------+----------------+----------------+-----------------+-----------------+-----------------+-----------------+-----------------+-----------------+-----------------+-----------------+-----------------+-----------------+-----------------+-----------------+-----------------+-----------------+-----------------+-----------------+-----------------+-----------------+------------------+------------------+------------------+------------------+------------------+------------------+------------------+------------------+------------------+------------------+------------------+------------------+------------------+------------------+------------------+------------------+------------------+------------------+------------------+------------------+------------------+------------------+------------------+------------------+------------------+------------------+------------------+------------------+------------------+------------------+------------------+------------------+------------------+------------------+------------------+------------------+------------------+------------------+------------------+------------------+------------------+------------------+------------------+------------------+------------------+------------------+------------------+------------------+------------------+------------------+------------------+------------------+------------------+------------------+------------------+------------------+------------------+------------------+------------------+------------------+------------------+------------------+------------------+------------------+------------------+------------------+------------------+------------------+------------------+------------------+------------------+------------------+------------------+------------------+------------------+------------------+------------------+------------------+------------------+------------------+------------------+------------------+------------------+------------------+------------------+------------------+------------------+------------------+------------------+------------------+------------------+------------------+------------------+------------------+------------------+------------------+------------------+------------------+------------------+------------------+------------------+------------------+------------------+------------------+------------------+------------------+-----------------+-----------------+\n",
      "|QuoteNumber|Original_Quote_Date|QuoteConversion_Flag|Field6|Field7|Field8|Field9|Field10|Field11|Field12|CoverageField1A|CoverageField1B|CoverageField2A|CoverageField2B|CoverageField3A|CoverageField3B|CoverageField4A|CoverageField4B|CoverageField5A|CoverageField5B|CoverageField6A|CoverageField6B|CoverageField8|CoverageField9|CoverageField11A|CoverageField11B|SalesField1A|SalesField1B|SalesField2A|SalesField2B|SalesField3|SalesField4|SalesField5|SalesField6|SalesField7|SalesField8|SalesField9|SalesField10|SalesField11|SalesField12|SalesField13|SalesField14|SalesField15|PersonalField1|PersonalField2|PersonalField4A|PersonalField4B|PersonalField5|PersonalField6|PersonalField7|PersonalField8|PersonalField9|PersonalField10A|PersonalField10B|PersonalField11|PersonalField12|PersonalField13|PersonalField14|PersonalField15|PersonalField16|PersonalField17|PersonalField18|PersonalField19|PersonalField22|PersonalField23|PersonalField24|PersonalField25|PersonalField26|PersonalField27|PersonalField28|PersonalField29|PersonalField30|PersonalField31|PersonalField32|PersonalField33|PersonalField34|PersonalField35|PersonalField36|PersonalField37|PersonalField38|PersonalField39|PersonalField40|PersonalField41|PersonalField42|PersonalField43|PersonalField44|PersonalField45|PersonalField46|PersonalField47|PersonalField48|PersonalField49|PersonalField50|PersonalField51|PersonalField52|PersonalField53|PersonalField54|PersonalField55|PersonalField56|PersonalField57|PersonalField58|PersonalField59|PersonalField60|PersonalField61|PersonalField62|PersonalField63|PersonalField64|PersonalField65|PersonalField66|PersonalField67|PersonalField68|PersonalField69|PersonalField70|PersonalField71|PersonalField72|PersonalField73|PersonalField74|PersonalField75|PersonalField76|PersonalField77|PersonalField78|PersonalField79|PersonalField80|PersonalField81|PersonalField82|PersonalField83|PersonalField84|PropertyField1A|PropertyField1B|PropertyField2A|PropertyField2B|PropertyField3|PropertyField4|PropertyField5|PropertyField6|PropertyField7|PropertyField8|PropertyField9|PropertyField10|PropertyField11A|PropertyField11B|PropertyField12|PropertyField13|PropertyField14|PropertyField15|PropertyField16A|PropertyField16B|PropertyField17|PropertyField18|PropertyField19|PropertyField20|PropertyField21A|PropertyField21B|PropertyField22|PropertyField23|PropertyField24A|PropertyField24B|PropertyField25|PropertyField26A|PropertyField26B|PropertyField27|PropertyField28|PropertyField29|PropertyField30|PropertyField31|PropertyField32|PropertyField33|PropertyField34|PropertyField35|PropertyField36|PropertyField37|PropertyField38|PropertyField39A|PropertyField39B|GeographicField1A|GeographicField1B|GeographicField2A|GeographicField2B|GeographicField3A|GeographicField3B|GeographicField4A|GeographicField4B|GeographicField5A|GeographicField5B|GeographicField6A|GeographicField6B|GeographicField7A|GeographicField7B|GeographicField8A|GeographicField8B|GeographicField9A|GeographicField9B|GeographicField10A|GeographicField10B|GeographicField11A|GeographicField11B|GeographicField12A|GeographicField12B|GeographicField13A|GeographicField13B|GeographicField14A|GeographicField14B|GeographicField15A|GeographicField15B|GeographicField16A|GeographicField16B|GeographicField17A|GeographicField17B|GeographicField18A|GeographicField18B|GeographicField19A|GeographicField19B|GeographicField20A|GeographicField20B|GeographicField21A|GeographicField21B|GeographicField22A|GeographicField22B|GeographicField23A|GeographicField23B|GeographicField24A|GeographicField24B|GeographicField25A|GeographicField25B|GeographicField26A|GeographicField26B|GeographicField27A|GeographicField27B|GeographicField28A|GeographicField28B|GeographicField29A|GeographicField29B|GeographicField30A|GeographicField30B|GeographicField31A|GeographicField31B|GeographicField32A|GeographicField32B|GeographicField33A|GeographicField33B|GeographicField34A|GeographicField34B|GeographicField35A|GeographicField35B|GeographicField36A|GeographicField36B|GeographicField37A|GeographicField37B|GeographicField38A|GeographicField38B|GeographicField39A|GeographicField39B|GeographicField40A|GeographicField40B|GeographicField41A|GeographicField41B|GeographicField42A|GeographicField42B|GeographicField43A|GeographicField43B|GeographicField44A|GeographicField44B|GeographicField45A|GeographicField45B|GeographicField46A|GeographicField46B|GeographicField47A|GeographicField47B|GeographicField48A|GeographicField48B|GeographicField49A|GeographicField49B|GeographicField50A|GeographicField50B|GeographicField51A|GeographicField51B|GeographicField52A|GeographicField52B|GeographicField53A|GeographicField53B|GeographicField54A|GeographicField54B|GeographicField55A|GeographicField55B|GeographicField56A|GeographicField56B|GeographicField57A|GeographicField57B|GeographicField58A|GeographicField58B|GeographicField59A|GeographicField59B|GeographicField60A|GeographicField60B|GeographicField61A|GeographicField61B|GeographicField62A|GeographicField62B|GeographicField63|GeographicField64|\n",
      "+-----------+-------------------+--------------------+------+------+------+------+-------+-------+-------+---------------+---------------+---------------+---------------+---------------+---------------+---------------+---------------+---------------+---------------+---------------+---------------+--------------+--------------+----------------+----------------+------------+------------+------------+------------+-----------+-----------+-----------+-----------+-----------+-----------+-----------+------------+------------+------------+------------+------------+------------+--------------+--------------+---------------+---------------+--------------+--------------+--------------+--------------+--------------+----------------+----------------+---------------+---------------+---------------+---------------+---------------+---------------+---------------+---------------+---------------+---------------+---------------+---------------+---------------+---------------+---------------+---------------+---------------+---------------+---------------+---------------+---------------+---------------+---------------+---------------+---------------+---------------+---------------+---------------+---------------+---------------+---------------+---------------+---------------+---------------+---------------+---------------+---------------+---------------+---------------+---------------+---------------+---------------+---------------+---------------+---------------+---------------+---------------+---------------+---------------+---------------+---------------+---------------+---------------+---------------+---------------+---------------+---------------+---------------+---------------+---------------+---------------+---------------+---------------+---------------+---------------+---------------+---------------+---------------+---------------+---------------+---------------+---------------+---------------+---------------+---------------+---------------+--------------+--------------+--------------+--------------+--------------+--------------+--------------+---------------+----------------+----------------+---------------+---------------+---------------+---------------+----------------+----------------+---------------+---------------+---------------+---------------+----------------+----------------+---------------+---------------+----------------+----------------+---------------+----------------+----------------+---------------+---------------+---------------+---------------+---------------+---------------+---------------+---------------+---------------+---------------+---------------+---------------+----------------+----------------+-----------------+-----------------+-----------------+-----------------+-----------------+-----------------+-----------------+-----------------+-----------------+-----------------+-----------------+-----------------+-----------------+-----------------+-----------------+-----------------+-----------------+-----------------+------------------+------------------+------------------+------------------+------------------+------------------+------------------+------------------+------------------+------------------+------------------+------------------+------------------+------------------+------------------+------------------+------------------+------------------+------------------+------------------+------------------+------------------+------------------+------------------+------------------+------------------+------------------+------------------+------------------+------------------+------------------+------------------+------------------+------------------+------------------+------------------+------------------+------------------+------------------+------------------+------------------+------------------+------------------+------------------+------------------+------------------+------------------+------------------+------------------+------------------+------------------+------------------+------------------+------------------+------------------+------------------+------------------+------------------+------------------+------------------+------------------+------------------+------------------+------------------+------------------+------------------+------------------+------------------+------------------+------------------+------------------+------------------+------------------+------------------+------------------+------------------+------------------+------------------+------------------+------------------+------------------+------------------+------------------+------------------+------------------+------------------+------------------+------------------+------------------+------------------+------------------+------------------+------------------+------------------+------------------+------------------+------------------+------------------+------------------+------------------+------------------+------------------+------------------+------------------+------------------+------------------+-----------------+-----------------+\n",
      "|          1|         16/08/2013|                   0|     B|    23|0.9403|6.0E-4|    965|   1.02|      N|             17|             23|             17|             23|             15|             22|             16|             22|             13|             22|             13|             23|             T|             D|               2|               1|           7|          18|           3|           8|          0|          5|          5|         24|          V|      48649|          0|           0|           0|           0|           0|           0|           0|             0|             0|             -1|             -1|             7|             0|             N|             1|             2|               5|               7|              0|              1|              2|              2|             24|             ZA|             ZE|             XR|             XD|              1|              0|              0|              0|              0|              1|              2|              2|              0|              1|              1|              1|              1|              0|              0|              0|              0|              0|              0|              0|              0|              1|              0|              1|              1|              1|              2|              0|              0|              0|              0|              1|              0|              0|              0|              0|              1|              0|              0|              0|              0|              1|              0|              0|              0|              0|              1|              0|              0|              0|              0|              1|              0|              1|              1|              1|              2|              0|              0|              0|              0|              1|              2|              5|              7|             -1|             19|             N|             N|             Y|             0|             O|             0|             0|              1|              -1|              21|              4|              2|              C|              4|              14|              22|              0|              3|              0|              0|              17|              23|              2|              4|              15|              21|            3.0|               5|               5|              6|              B|              0|              N|              N|              Y|              G|              Y|              2|              N|              N|              N|               7|               5|                3|                6|               15|               14|               12|               13|               20|               22|               -1|               13|                2|                5|                1|                1|                1|                1|                2|                9|                -1|                25|                 1|                 1|                 1|                 1|                 1|                 1|                -1|                 7|                 1|                 2|                 1|                 2|                13|                22|                -1|                12|                 3|                 6|                 4|                12|                -1|                10|                -1|                15|                -1|                 5|                14|                 9|                16|                16|                15|                18|                17|                16|                11|                18|                24|                25|                 5|                 4|                 7|                10|                13|                20|                14|                21|                12|                14|                14|                22|                 3|                 2|                15|                24|                 2|                 2|                15|                23|                 1|                 1|                15|                13|                 9|                10|                 2|                 2|                 8|                 4|                20|                22|                10|                 8|                 6|                 5|                15|                13|                19|                18|                16|                14|                21|                23|                21|                23|                16|                11|                22|                24|                 7|                14|                -1|                17|                15|                17|                14|                18|                 9|                 9|                -1|                 8|                -1|                18|                -1|                10|                N|               CA|\n",
      "|          2|         22/04/2014|                   0|     F|     7|1.0006| 0.004|    548| 1.2433|      N|              6|              8|              6|              8|              5|              7|              5|              8|             13|             22|             13|             23|             T|             E|               5|               9|           5|          14|           6|          18|          1|          5|          5|         11|          P|      26778|          0|           0|           1|           1|           0|           0|           0|             1|             1|             14|             19|             7|             0|             N|             1|             2|              24|              25|              0|              1|              2|              5|             19|             XB|             YJ|             YE|             XT|              1|              0|              0|              0|              0|              0|              1|              1|              0|              0|              0|              0|              1|              0|              0|              0|              0|              0|              0|              0|              0|              1|              0|              0|              0|              0|              1|              0|              0|              0|              0|              1|              0|              0|              0|              0|              1|              0|              0|              0|              0|              1|              0|              0|              0|              0|              1|              0|              0|              0|              0|              1|              0|              0|              0|              0|              1|              0|              0|              0|              0|              1|           null|             17|             21|             -1|             22|             N|             N|             Y|             0|             N|             0|             0|              1|              -1|              23|              3|              0|              B|              4|               7|              15|              0|              1|              0|              0|               6|               8|              2|              1|               6|               8|            2.0|               4|               3|              3|              B|           null|              N|              O|              N|              H|              Y|              2|              N|              N|              N|              11|              12|                8|               17|               19|               20|               12|               14|               16|               18|               -1|               19|                4|               13|                9|               13|                5|               13|                5|               12|                -1|                25|                 4|                15|                 8|                13|                 5|                14|                -1|                13|                 9|                11|                 5|                12|                 2|                16|                -1|                22|                23|                24|                20|                22|                -1|                22|                -1|                22|                -1|                13|                10|                 4|                10|                 5|                 5|                 5|                13|                 6|                 7|                10|                21|                24|                10|                19|                 7|                10|                 9|                15|                 4|                 3|                13|                17|                 6|                 9|                17|                23|                11|                21|                13|                21|                 9|                17|                12|                21|                25|                25|                15|                21|                10|                13|                23|                24|                11|                15|                21|                24|                 6|                11|                21|                21|                18|                15|                20|                20|                13|                12|                12|                12|                15|                 9|                13|                11|                11|                20|                -1|                 9|                18|                21|                 8|                 7|                10|                10|                -1|                11|                -1|                17|                -1|                20|                N|               NJ|\n",
      "|          4|         25/08/2014|                   0|     F|     7|1.0006| 0.004|    548| 1.2433|      N|              7|             12|              7|             12|              6|             10|              7|             11|             25|             25|             13|             23|             T|             J|               4|               6|           3|          10|           4|          11|          1|          5|          5|         11|          K|       8751|          0|           0|           2|           2|           0|           0|           0|             1|             1|             16|             21|             7|             0|             N|             1|             2|               7|              16|              0|              1|              2|              3|              7|             ZH|             XS|             YP|             XC|              1|              0|              0|              0|              0|              0|              1|              1|              0|              0|              0|              0|              1|              0|              0|              0|              0|              0|              0|              0|              0|              1|              0|              0|              0|              0|              1|              0|              0|              0|              0|              1|              0|              0|              0|              0|              1|              0|              0|              0|              0|              1|              0|              0|              0|              0|              1|              0|              0|              0|              0|              1|              0|              0|              0|              0|              1|              0|              0|              0|              0|              1|           null|             12|             16|             -1|             13|             Y|             Y|             Y|             0|             R|             1|             0|              1|              -1|              21|              4|              2|              C|              4|               9|              17|              1|              3|              0|              0|               7|              12|              2|              1|              15|              21|            1.5|              14|              20|              3|              B|           null|              N|              K|              Y|              H|              Y|              2|              N|              N|              N|              23|              24|                2|                4|               20|               22|               18|               20|               16|               18|               -1|               21|                4|               12|               10|               14|                5|               13|                6|               14|                -1|                25|                 4|                11|                 9|                15|                 5|                12|                -1|                12|                10|                16|                 6|                14|                 2|                13|                -1|                17|                21|                21|                20|                21|                -1|                19|                -1|                19|                -1|                10|                18|                17|                12|                 8|                 7|                 8|                15|                11|                 6|                 9|                 8|                11|                 7|                12|                13|                21|                11|                18|                12|                19|                15|                20|                10|                17|                 9|                13|                 4|                10|                14|                22|                17|                24|                10|                16|                24|                22|                12|                15|                12|                20|                21|                22|                24|                25|                20|                22|                 7|                13|                23|                23|                20|                19|                20|                20|                18|                20|                19|                21|                20|                19|                11|                 8|                 3|                 3|                -1|                 5|                21|                24|                12|                15|                15|                18|                -1|                21|                -1|                11|                -1|                 8|                N|               NJ|\n",
      "|          6|         15/04/2013|                   0|     J|    10|0.9769|4.0E-4|   1165| 1.2665|      N|              3|              2|              3|              2|              2|              2|              3|              2|             13|             22|             13|             23|             Y|             F|              15|              23|           8|          19|          14|          24|          0|          5|          5|         23|          V|      43854|          0|           0|           0|           0|           0|           0|           0|             1|             1|              2|              2|             6|             1|             N|             1|             3|              -1|              -1|              0|              5|              2|              3|             13|             XO|             XE|             YI|             XX|              1|              0|              0|              0|              0|              0|              1|              1|              0|              0|              0|              0|              1|              0|              0|              0|              0|              0|              0|              0|              0|              1|              0|              0|              0|              0|              1|              0|              0|              0|              0|              1|              0|              0|              0|              0|              1|              0|              0|              0|              0|              1|              0|              0|              0|              0|              1|              0|              0|              0|              0|              1|              0|              0|              0|              0|              1|              0|              0|              0|              0|              1|           null|              1|              1|             -1|              2|             N|             N|             Y|             0|             R|             1|             0|              1|              -1|              21|              4|              2|              C|              1|               3|               6|              0|              2|              0|              0|               3|               2|              2|              1|               7|               9|            1.0|              13|              18|             10|              B|           null|              N|              O|              Y|              G|              N|              2|              N|              Y|              N|              24|              25|                2|                3|               10|                8|                8|                9|               21|               23|               -1|               23|               13|               21|               22|               22|               14|               21|               18|               21|                -1|                25|                15|                22|                21|                22|                15|                22|                -1|                15|                24|                23|                 9|                18|                 2|                 3|                -1|                 6|                10|                13|                 2|                 3|                -1|                 8|                -1|                15|                -1|                24|                19|                20|                13|                10|                 7|                10|                16|                14|                 3|                 3|                11|                16|                 2|                 1|                10|                15|                 3|                 3|                14|                21|                 1|                 1|                 9|                16|                 3|                 2|                 4|                 8|                 4|                 3|                 9|                18|                 2|                 1|                13|                 9|                 7|                 7|                25|                25|                 3|                 1|                14|                22|                 6|                 2|                 7|                14|                11|                 8|                19|                18|                18|                16|                13|                12|                13|                12|                17|                13|                 5|                 2|                 3|                 4|                -1|                 7|                14|                14|                14|                18|                 6|                 5|                -1|                10|                -1|                 9|                -1|                21|                N|               TX|\n",
      "+-----------+-------------------+--------------------+------+------+------+------+-------+-------+-------+---------------+---------------+---------------+---------------+---------------+---------------+---------------+---------------+---------------+---------------+---------------+---------------+--------------+--------------+----------------+----------------+------------+------------+------------+------------+-----------+-----------+-----------+-----------+-----------+-----------+-----------+------------+------------+------------+------------+------------+------------+--------------+--------------+---------------+---------------+--------------+--------------+--------------+--------------+--------------+----------------+----------------+---------------+---------------+---------------+---------------+---------------+---------------+---------------+---------------+---------------+---------------+---------------+---------------+---------------+---------------+---------------+---------------+---------------+---------------+---------------+---------------+---------------+---------------+---------------+---------------+---------------+---------------+---------------+---------------+---------------+---------------+---------------+---------------+---------------+---------------+---------------+---------------+---------------+---------------+---------------+---------------+---------------+---------------+---------------+---------------+---------------+---------------+---------------+---------------+---------------+---------------+---------------+---------------+---------------+---------------+---------------+---------------+---------------+---------------+---------------+---------------+---------------+---------------+---------------+---------------+---------------+---------------+---------------+---------------+---------------+---------------+---------------+---------------+---------------+---------------+---------------+---------------+--------------+--------------+--------------+--------------+--------------+--------------+--------------+---------------+----------------+----------------+---------------+---------------+---------------+---------------+----------------+----------------+---------------+---------------+---------------+---------------+----------------+----------------+---------------+---------------+----------------+----------------+---------------+----------------+----------------+---------------+---------------+---------------+---------------+---------------+---------------+---------------+---------------+---------------+---------------+---------------+---------------+----------------+----------------+-----------------+-----------------+-----------------+-----------------+-----------------+-----------------+-----------------+-----------------+-----------------+-----------------+-----------------+-----------------+-----------------+-----------------+-----------------+-----------------+-----------------+-----------------+------------------+------------------+------------------+------------------+------------------+------------------+------------------+------------------+------------------+------------------+------------------+------------------+------------------+------------------+------------------+------------------+------------------+------------------+------------------+------------------+------------------+------------------+------------------+------------------+------------------+------------------+------------------+------------------+------------------+------------------+------------------+------------------+------------------+------------------+------------------+------------------+------------------+------------------+------------------+------------------+------------------+------------------+------------------+------------------+------------------+------------------+------------------+------------------+------------------+------------------+------------------+------------------+------------------+------------------+------------------+------------------+------------------+------------------+------------------+------------------+------------------+------------------+------------------+------------------+------------------+------------------+------------------+------------------+------------------+------------------+------------------+------------------+------------------+------------------+------------------+------------------+------------------+------------------+------------------+------------------+------------------+------------------+------------------+------------------+------------------+------------------+------------------+------------------+------------------+------------------+------------------+------------------+------------------+------------------+------------------+------------------+------------------+------------------+------------------+------------------+------------------+------------------+------------------+------------------+------------------+------------------+-----------------+-----------------+\n",
      "only showing top 4 rows\n",
      "\n"
     ]
    }
   ],
   "source": [
    "#show 5 observation in DataFrame\n",
    "df.show(4)"
   ]
  },
  {
   "cell_type": "code",
   "execution_count": 99,
   "metadata": {},
   "outputs": [
    {
     "name": "stdout",
     "output_type": "stream",
     "text": [
      "+-----------+-------------------+------+------+------+------+-------+-------+-------+---------------+---------------+---------------+---------------+---------------+---------------+---------------+---------------+---------------+---------------+---------------+---------------+--------------+--------------+----------------+----------------+------------+------------+------------+------------+-----------+-----------+-----------+-----------+-----------+-----------+-----------+------------+------------+------------+------------+------------+------------+--------------+--------------+---------------+---------------+--------------+--------------+--------------+--------------+--------------+----------------+----------------+---------------+---------------+---------------+---------------+---------------+---------------+---------------+---------------+---------------+---------------+---------------+---------------+---------------+---------------+---------------+---------------+---------------+---------------+---------------+---------------+---------------+---------------+---------------+---------------+---------------+---------------+---------------+---------------+---------------+---------------+---------------+---------------+---------------+---------------+---------------+---------------+---------------+---------------+---------------+---------------+---------------+---------------+---------------+---------------+---------------+---------------+---------------+---------------+---------------+---------------+---------------+---------------+---------------+---------------+---------------+---------------+---------------+---------------+---------------+---------------+---------------+---------------+---------------+---------------+---------------+---------------+---------------+---------------+---------------+---------------+---------------+---------------+---------------+---------------+---------------+---------------+--------------+--------------+--------------+--------------+--------------+--------------+--------------+---------------+----------------+----------------+---------------+---------------+---------------+---------------+----------------+----------------+---------------+---------------+---------------+---------------+----------------+----------------+---------------+---------------+----------------+----------------+---------------+----------------+----------------+---------------+---------------+---------------+---------------+---------------+---------------+---------------+---------------+---------------+---------------+---------------+---------------+----------------+----------------+-----------------+-----------------+-----------------+-----------------+-----------------+-----------------+-----------------+-----------------+-----------------+-----------------+-----------------+-----------------+-----------------+-----------------+-----------------+-----------------+-----------------+-----------------+------------------+------------------+------------------+------------------+------------------+------------------+------------------+------------------+------------------+------------------+------------------+------------------+------------------+------------------+------------------+------------------+------------------+------------------+------------------+------------------+------------------+------------------+------------------+------------------+------------------+------------------+------------------+------------------+------------------+------------------+------------------+------------------+------------------+------------------+------------------+------------------+------------------+------------------+------------------+------------------+------------------+------------------+------------------+------------------+------------------+------------------+------------------+------------------+------------------+------------------+------------------+------------------+------------------+------------------+------------------+------------------+------------------+------------------+------------------+------------------+------------------+------------------+------------------+------------------+------------------+------------------+------------------+------------------+------------------+------------------+------------------+------------------+------------------+------------------+------------------+------------------+------------------+------------------+------------------+------------------+------------------+------------------+------------------+------------------+------------------+------------------+------------------+------------------+------------------+------------------+------------------+------------------+------------------+------------------+------------------+------------------+------------------+------------------+------------------+------------------+------------------+------------------+------------------+------------------+------------------+------------------+-----------------+-----------------+\n",
      "|QuoteNumber|Original_Quote_Date|Field6|Field7|Field8|Field9|Field10|Field11|Field12|CoverageField1A|CoverageField1B|CoverageField2A|CoverageField2B|CoverageField3A|CoverageField3B|CoverageField4A|CoverageField4B|CoverageField5A|CoverageField5B|CoverageField6A|CoverageField6B|CoverageField8|CoverageField9|CoverageField11A|CoverageField11B|SalesField1A|SalesField1B|SalesField2A|SalesField2B|SalesField3|SalesField4|SalesField5|SalesField6|SalesField7|SalesField8|SalesField9|SalesField10|SalesField11|SalesField12|SalesField13|SalesField14|SalesField15|PersonalField1|PersonalField2|PersonalField4A|PersonalField4B|PersonalField5|PersonalField6|PersonalField7|PersonalField8|PersonalField9|PersonalField10A|PersonalField10B|PersonalField11|PersonalField12|PersonalField13|PersonalField14|PersonalField15|PersonalField16|PersonalField17|PersonalField18|PersonalField19|PersonalField22|PersonalField23|PersonalField24|PersonalField25|PersonalField26|PersonalField27|PersonalField28|PersonalField29|PersonalField30|PersonalField31|PersonalField32|PersonalField33|PersonalField34|PersonalField35|PersonalField36|PersonalField37|PersonalField38|PersonalField39|PersonalField40|PersonalField41|PersonalField42|PersonalField43|PersonalField44|PersonalField45|PersonalField46|PersonalField47|PersonalField48|PersonalField49|PersonalField50|PersonalField51|PersonalField52|PersonalField53|PersonalField54|PersonalField55|PersonalField56|PersonalField57|PersonalField58|PersonalField59|PersonalField60|PersonalField61|PersonalField62|PersonalField63|PersonalField64|PersonalField65|PersonalField66|PersonalField67|PersonalField68|PersonalField69|PersonalField70|PersonalField71|PersonalField72|PersonalField73|PersonalField74|PersonalField75|PersonalField76|PersonalField77|PersonalField78|PersonalField79|PersonalField80|PersonalField81|PersonalField82|PersonalField83|PersonalField84|PropertyField1A|PropertyField1B|PropertyField2A|PropertyField2B|PropertyField3|PropertyField4|PropertyField5|PropertyField6|PropertyField7|PropertyField8|PropertyField9|PropertyField10|PropertyField11A|PropertyField11B|PropertyField12|PropertyField13|PropertyField14|PropertyField15|PropertyField16A|PropertyField16B|PropertyField17|PropertyField18|PropertyField19|PropertyField20|PropertyField21A|PropertyField21B|PropertyField22|PropertyField23|PropertyField24A|PropertyField24B|PropertyField25|PropertyField26A|PropertyField26B|PropertyField27|PropertyField28|PropertyField29|PropertyField30|PropertyField31|PropertyField32|PropertyField33|PropertyField34|PropertyField35|PropertyField36|PropertyField37|PropertyField38|PropertyField39A|PropertyField39B|GeographicField1A|GeographicField1B|GeographicField2A|GeographicField2B|GeographicField3A|GeographicField3B|GeographicField4A|GeographicField4B|GeographicField5A|GeographicField5B|GeographicField6A|GeographicField6B|GeographicField7A|GeographicField7B|GeographicField8A|GeographicField8B|GeographicField9A|GeographicField9B|GeographicField10A|GeographicField10B|GeographicField11A|GeographicField11B|GeographicField12A|GeographicField12B|GeographicField13A|GeographicField13B|GeographicField14A|GeographicField14B|GeographicField15A|GeographicField15B|GeographicField16A|GeographicField16B|GeographicField17A|GeographicField17B|GeographicField18A|GeographicField18B|GeographicField19A|GeographicField19B|GeographicField20A|GeographicField20B|GeographicField21A|GeographicField21B|GeographicField22A|GeographicField22B|GeographicField23A|GeographicField23B|GeographicField24A|GeographicField24B|GeographicField25A|GeographicField25B|GeographicField26A|GeographicField26B|GeographicField27A|GeographicField27B|GeographicField28A|GeographicField28B|GeographicField29A|GeographicField29B|GeographicField30A|GeographicField30B|GeographicField31A|GeographicField31B|GeographicField32A|GeographicField32B|GeographicField33A|GeographicField33B|GeographicField34A|GeographicField34B|GeographicField35A|GeographicField35B|GeographicField36A|GeographicField36B|GeographicField37A|GeographicField37B|GeographicField38A|GeographicField38B|GeographicField39A|GeographicField39B|GeographicField40A|GeographicField40B|GeographicField41A|GeographicField41B|GeographicField42A|GeographicField42B|GeographicField43A|GeographicField43B|GeographicField44A|GeographicField44B|GeographicField45A|GeographicField45B|GeographicField46A|GeographicField46B|GeographicField47A|GeographicField47B|GeographicField48A|GeographicField48B|GeographicField49A|GeographicField49B|GeographicField50A|GeographicField50B|GeographicField51A|GeographicField51B|GeographicField52A|GeographicField52B|GeographicField53A|GeographicField53B|GeographicField54A|GeographicField54B|GeographicField55A|GeographicField55B|GeographicField56A|GeographicField56B|GeographicField57A|GeographicField57B|GeographicField58A|GeographicField58B|GeographicField59A|GeographicField59B|GeographicField60A|GeographicField60B|GeographicField61A|GeographicField61B|GeographicField62A|GeographicField62B|GeographicField63|GeographicField64|\n",
      "+-----------+-------------------+------+------+------+------+-------+-------+-------+---------------+---------------+---------------+---------------+---------------+---------------+---------------+---------------+---------------+---------------+---------------+---------------+--------------+--------------+----------------+----------------+------------+------------+------------+------------+-----------+-----------+-----------+-----------+-----------+-----------+-----------+------------+------------+------------+------------+------------+------------+--------------+--------------+---------------+---------------+--------------+--------------+--------------+--------------+--------------+----------------+----------------+---------------+---------------+---------------+---------------+---------------+---------------+---------------+---------------+---------------+---------------+---------------+---------------+---------------+---------------+---------------+---------------+---------------+---------------+---------------+---------------+---------------+---------------+---------------+---------------+---------------+---------------+---------------+---------------+---------------+---------------+---------------+---------------+---------------+---------------+---------------+---------------+---------------+---------------+---------------+---------------+---------------+---------------+---------------+---------------+---------------+---------------+---------------+---------------+---------------+---------------+---------------+---------------+---------------+---------------+---------------+---------------+---------------+---------------+---------------+---------------+---------------+---------------+---------------+---------------+---------------+---------------+---------------+---------------+---------------+---------------+---------------+---------------+---------------+---------------+---------------+---------------+--------------+--------------+--------------+--------------+--------------+--------------+--------------+---------------+----------------+----------------+---------------+---------------+---------------+---------------+----------------+----------------+---------------+---------------+---------------+---------------+----------------+----------------+---------------+---------------+----------------+----------------+---------------+----------------+----------------+---------------+---------------+---------------+---------------+---------------+---------------+---------------+---------------+---------------+---------------+---------------+---------------+----------------+----------------+-----------------+-----------------+-----------------+-----------------+-----------------+-----------------+-----------------+-----------------+-----------------+-----------------+-----------------+-----------------+-----------------+-----------------+-----------------+-----------------+-----------------+-----------------+------------------+------------------+------------------+------------------+------------------+------------------+------------------+------------------+------------------+------------------+------------------+------------------+------------------+------------------+------------------+------------------+------------------+------------------+------------------+------------------+------------------+------------------+------------------+------------------+------------------+------------------+------------------+------------------+------------------+------------------+------------------+------------------+------------------+------------------+------------------+------------------+------------------+------------------+------------------+------------------+------------------+------------------+------------------+------------------+------------------+------------------+------------------+------------------+------------------+------------------+------------------+------------------+------------------+------------------+------------------+------------------+------------------+------------------+------------------+------------------+------------------+------------------+------------------+------------------+------------------+------------------+------------------+------------------+------------------+------------------+------------------+------------------+------------------+------------------+------------------+------------------+------------------+------------------+------------------+------------------+------------------+------------------+------------------+------------------+------------------+------------------+------------------+------------------+------------------+------------------+------------------+------------------+------------------+------------------+------------------+------------------+------------------+------------------+------------------+------------------+------------------+------------------+------------------+------------------+------------------+------------------+-----------------+-----------------+\n",
      "|          3|         12/08/2014|     E|    16|0.9364|6.0E-4|   1487| 1.3045|      N|              4|              4|              4|              4|              3|              3|              3|              4|             13|             22|             13|             23|             Y|             K|              13|              22|           6|          16|           9|          21|          0|          5|          5|         11|          P|      67052|          0|           0|           0|           0|           0|           0|           0|             1|             1|             11|             14|             6|             1|             N|             1|             3|              -1|              -1|              0|              5|              2|              5|             14|             YH|             XR|             XQ|             ZQ|              1|              0|              0|              0|              0|              0|              1|              1|              0|              0|              0|              0|              1|              0|              0|              0|              0|              0|              0|              0|              0|              1|              0|              0|              0|              0|              1|              0|              0|              0|              0|              1|              0|              0|              0|              0|              1|              0|              0|              0|              0|              1|              0|              0|              0|              0|              1|              0|              0|              0|              0|              1|              0|              0|              0|              0|              1|              0|              0|              0|              0|              1|           null|             18|             23|             -1|              4|             N|             N|             Y|             0|             D|             1|             0|              1|              -1|              24|              1|              2|              A|              1|               3|               5|              0|              2|              0|              0|               4|               4|              2|              1|               6|               8|            1.5|               7|               8|             19|              B|           null|              N|              N|              Y|              G|              N|              2|              N|              Y|              N|              18|              21|               25|               25|                9|                6|                1|                1|               24|               25|               -1|               13|                9|               18|               12|               18|               10|               18|               16|               19|                -1|                25|                 9|                18|                13|                18|                 9|                18|                -1|                19|                10|                13|                 8|                17|                 2|                10|                -1|                20|                19|                18|                 4|                 9|                -1|                25|                -1|                24|                -1|                15|                16|                15|                17|                17|                10|                13|                21|                20|                25|                25|                16|                22|                25|                25|                 8|                11|                10|                17|                11|                17|                24|                25|                15|                23|                25|                25|                -1|                -1|                21|                24|                18|                24|                11|                18|                18|                16|                20|                24|                11|                17|                22|                23|                 9|                12|                25|                25|                 6|                 9|                 4|                 2|                16|                12|                20|                20|                 2|                 2|                 2|                 1|                 1|                 1|                10|                 7|                25|                25|                -1|                19|                19|                22|                12|                15|                 1|                 1|                -1|                 1|                -1|                20|                -1|                25|                Y|               IL|\n",
      "|          5|         07/09/2013|     F|    11|0.9919|0.0038|    564| 1.1886|      N|              8|             14|              8|             14|              7|             12|              8|             13|             13|             22|             13|             23|             T|             E|               4|               5|           3|           6|           3|           6|          1|          5|          5|          4|          R|      27288|          1|           0|           0|           0|           0|           0|           0|             1|             1|             15|             20|             6|             1|             N|             1|             2|               9|              18|              0|              1|              2|              2|              4|             YF|             XS|             YP|             XC|              1|              0|              0|              0|              0|              0|              1|              1|              0|              0|              0|              0|              1|              0|              0|              0|              0|              0|              0|              0|              0|              1|              0|              0|              0|              0|              1|              0|              0|              0|              0|              1|              0|              0|              0|              0|              1|              0|              0|              0|              0|              1|              0|              0|              0|              0|              1|              0|              0|              0|              0|              1|              0|              0|              0|              0|              1|              0|              0|              0|              0|              1|           null|             22|             24|             -1|             10|             N|             N|             Y|             0|             J|             1|             0|              1|              -1|              21|              1|              1|              A|              4|               7|              15|              1|              1|              1|              0|               8|              14|              2|              1|               5|               6|            1.0|              10|              15|             10|              B|           null|              N|              O|              Y|              H|              N|              1|              N|              N|              N|               5|               3|               17|               24|               17|               17|               15|               17|               10|                9|               -1|               20|                4|               13|                9|               13|                5|               13|                5|               12|                -1|                25|                 4|                15|                 8|                13|                 5|                14|                -1|                13|                 9|                11|                 5|                12|                 2|                16|                -1|                22|                23|                24|                21|                22|                -1|                22|                -1|                22|                -1|                14|                10|                 4|                10|                 5|                 5|                 5|                13|                 6|                 9|                14|                 8|                10|                12|                22|                 7|                10|                 9|                15|                11|                18|                14|                18|                 5|                 7|                19|                24|                 6|                14|                16|                23|                 6|                12|                11|                19|                25|                25|                15|                20|                12|                20|                23|                24|                12|                21|                23|                25|                 7|                11|                16|                14|                13|                 6|                17|                15|                 7|                 5|                 7|                 5|                13|                 7|                14|                14|                 7|                14|                -1|                 4|                 1|                 1|                 5|                 3|                10|                10|                -1|                 5|                -1|                 5|                -1|                21|                N|               NJ|\n",
      "|          7|         29/03/2013|     F|    15|0.8945|0.0038|    564|  1.067|      N|             11|             18|             11|             18|             10|             16|             10|             18|             13|             22|             13|             23|             T|             E|               3|               3|           5|          14|           3|           9|          1|          5|          5|         23|          V|      65264|          0|           1|           2|           2|           0|           0|           0|             1|             1|             12|             15|             6|             1|             N|             1|             2|              22|              24|              0|              1|              2|              4|             10|             XE|             ZH|             YK|             ZN|              1|              0|              0|              0|              0|              0|              1|              1|              0|              0|              0|              0|              1|              0|              0|              0|              0|              0|              0|              0|              0|              1|              0|              0|              0|              0|              1|              0|              0|              0|              0|              1|              0|              0|              0|              0|              1|              0|              0|              0|              0|              1|              0|              0|              0|              0|              1|              0|              0|              0|              0|              1|              0|              0|              0|              0|              1|              0|              0|              0|              0|              1|           null|              6|              9|             -1|             23|             N|             N|             Y|             0|             R|             1|             0|              1|              -1|              24|              1|              2|              C|              1|               8|              17|              0|              2|              1|              0|              11|              18|              2|              1|              12|              18|            1.0|              20|              24|             10|              B|           null|              N|              M|              Y|              G|              Y|              1|              N|              N|              N|              11|              12|                3|                6|               16|               16|               15|               18|               14|               16|               -1|               16|                4|               10|               10|               16|                5|               11|                6|               13|                -1|                25|                 4|                10|                10|                16|                 5|                10|                -1|                11|                11|                18|                 5|                13|                 2|                13|                -1|                15|                21|                20|                19|                21|                -1|                16|                -1|                18|                -1|                16|                15|                11|                11|                 7|                 6|                 7|                13|                 7|                 7|                11|                15|                21|                 5|                 5|                 3|                 2|                14|                21|                 8|                12|                12|                15|                14|                22|                 7|                 7|                 5|                11|                 9|                14|                13|                22|                 8|                13|                22|                19|                11|                14|                11|                16|                16|                18|                 9|                10|                14|                16|                 6|                 8|                20|                19|                17|                14|                16|                13|                20|                22|                20|                22|                20|                18|                10|                 7|                 4|                 7|                -1|                11|                13|                12|                18|                22|                10|                11|                -1|                20|                -1|                22|                -1|                11|                N|               NJ|\n",
      "|          9|         21/03/2015|     K|    21| 0.887|4.0E-4|   1113| 1.2665|      Y|             14|             22|             15|             22|             13|             20|             22|             25|             13|             22|             13|             23|             Y|             F|               5|               9|           9|          20|           5|          16|          1|          5|          5|         11|          R|      32725|          1|           1|           1|           1|           0|           0|           0|             1|             1|              5|              6|             6|             1|             N|             1|             2|               7|              15|              0|              1|              2|              3|              5|             XR|             YY|             XT|             XC|              1|              0|              0|              0|              0|              0|              1|              1|              0|              0|              0|              0|              1|              0|              0|              0|              0|              0|              0|              0|              0|              1|              0|              0|              0|              0|              1|              0|              0|              0|              0|              1|              0|              0|              0|              0|              1|              0|              0|              0|              0|              1|              0|              0|              0|              0|              1|              0|              0|              0|              0|              1|              0|              0|              0|              0|              1|              0|              0|              0|              0|              1|           null|              5|              8|             -1|              6|             N|             N|             Y|             0|             Q|             1|             0|              1|              -1|              21|              4|              2|              C|              4|               5|              10|              1|              2|              1|              0|              14|              22|              2|              1|              13|              18|            2.0|               8|              11|              4|              B|           null|              N|              M|              N|              G|              N|              0|              N|              N|              N|               7|               5|                9|               18|               11|                9|               13|               15|               22|               24|               -1|               14|               24|               25|               23|               23|               24|               25|               25|               25|                -1|                25|                24|                24|                23|                23|                24|                24|                25|                25|                23|                22|                24|                25|                 2|                 7|                -1|                13|                11|                14|                 6|                16|                -1|                15|                -1|                15|                -1|                22|                11|                 5|                10|                 4|                 5|                 4|                13|                 5|                 7|                10|                 3|                 2|                 5|                 5|                 9|                14|                15|                22|                 7|                10|                 9|                 8|                13|                22|                 6|                 5|                 3|                 7|                 8|                11|                11|                20|                17|                23|                14|                12|                15|                20|                10|                14|                11|                11|                 9|                10|                11|                13|                15|                21|                14|                12|                17|                13|                10|                 6|                20|                22|                20|                22|                19|                16|                12|                11|                 4|                 6|                -1|                13|                10|                 8|                 5|                 3|                 8|                 8|                -1|                13|                -1|                 8|                -1|                21|                N|               TX|\n",
      "+-----------+-------------------+------+------+------+------+-------+-------+-------+---------------+---------------+---------------+---------------+---------------+---------------+---------------+---------------+---------------+---------------+---------------+---------------+--------------+--------------+----------------+----------------+------------+------------+------------+------------+-----------+-----------+-----------+-----------+-----------+-----------+-----------+------------+------------+------------+------------+------------+------------+--------------+--------------+---------------+---------------+--------------+--------------+--------------+--------------+--------------+----------------+----------------+---------------+---------------+---------------+---------------+---------------+---------------+---------------+---------------+---------------+---------------+---------------+---------------+---------------+---------------+---------------+---------------+---------------+---------------+---------------+---------------+---------------+---------------+---------------+---------------+---------------+---------------+---------------+---------------+---------------+---------------+---------------+---------------+---------------+---------------+---------------+---------------+---------------+---------------+---------------+---------------+---------------+---------------+---------------+---------------+---------------+---------------+---------------+---------------+---------------+---------------+---------------+---------------+---------------+---------------+---------------+---------------+---------------+---------------+---------------+---------------+---------------+---------------+---------------+---------------+---------------+---------------+---------------+---------------+---------------+---------------+---------------+---------------+---------------+---------------+---------------+---------------+--------------+--------------+--------------+--------------+--------------+--------------+--------------+---------------+----------------+----------------+---------------+---------------+---------------+---------------+----------------+----------------+---------------+---------------+---------------+---------------+----------------+----------------+---------------+---------------+----------------+----------------+---------------+----------------+----------------+---------------+---------------+---------------+---------------+---------------+---------------+---------------+---------------+---------------+---------------+---------------+---------------+----------------+----------------+-----------------+-----------------+-----------------+-----------------+-----------------+-----------------+-----------------+-----------------+-----------------+-----------------+-----------------+-----------------+-----------------+-----------------+-----------------+-----------------+-----------------+-----------------+------------------+------------------+------------------+------------------+------------------+------------------+------------------+------------------+------------------+------------------+------------------+------------------+------------------+------------------+------------------+------------------+------------------+------------------+------------------+------------------+------------------+------------------+------------------+------------------+------------------+------------------+------------------+------------------+------------------+------------------+------------------+------------------+------------------+------------------+------------------+------------------+------------------+------------------+------------------+------------------+------------------+------------------+------------------+------------------+------------------+------------------+------------------+------------------+------------------+------------------+------------------+------------------+------------------+------------------+------------------+------------------+------------------+------------------+------------------+------------------+------------------+------------------+------------------+------------------+------------------+------------------+------------------+------------------+------------------+------------------+------------------+------------------+------------------+------------------+------------------+------------------+------------------+------------------+------------------+------------------+------------------+------------------+------------------+------------------+------------------+------------------+------------------+------------------+------------------+------------------+------------------+------------------+------------------+------------------+------------------+------------------+------------------+------------------+------------------+------------------+------------------+------------------+------------------+------------------+------------------+------------------+-----------------+-----------------+\n",
      "only showing top 4 rows\n",
      "\n"
     ]
    }
   ],
   "source": [
    "#Print Schema\n",
    "test_data.show(4)"
   ]
  },
  {
   "cell_type": "code",
   "execution_count": 13,
   "metadata": {},
   "outputs": [
    {
     "name": "stdout",
     "output_type": "stream",
     "text": [
      "root\n",
      " |-- QuoteNumber: integer (nullable = true)\n",
      " |-- Original_Quote_Date: string (nullable = true)\n",
      " |-- QuoteConversion_Flag: integer (nullable = true)\n",
      " |-- Field6: string (nullable = true)\n",
      " |-- Field7: integer (nullable = true)\n",
      " |-- Field8: double (nullable = true)\n",
      " |-- Field9: double (nullable = true)\n",
      " |-- Field10: integer (nullable = true)\n",
      " |-- Field11: double (nullable = true)\n",
      " |-- Field12: string (nullable = true)\n",
      " |-- CoverageField1A: integer (nullable = true)\n",
      " |-- CoverageField1B: integer (nullable = true)\n",
      " |-- CoverageField2A: integer (nullable = true)\n",
      " |-- CoverageField2B: integer (nullable = true)\n",
      " |-- CoverageField3A: integer (nullable = true)\n",
      " |-- CoverageField3B: integer (nullable = true)\n",
      " |-- CoverageField4A: integer (nullable = true)\n",
      " |-- CoverageField4B: integer (nullable = true)\n",
      " |-- CoverageField5A: integer (nullable = true)\n",
      " |-- CoverageField5B: integer (nullable = true)\n",
      " |-- CoverageField6A: integer (nullable = true)\n",
      " |-- CoverageField6B: integer (nullable = true)\n",
      " |-- CoverageField8: string (nullable = true)\n",
      " |-- CoverageField9: string (nullable = true)\n",
      " |-- CoverageField11A: integer (nullable = true)\n",
      " |-- CoverageField11B: integer (nullable = true)\n",
      " |-- SalesField1A: integer (nullable = true)\n",
      " |-- SalesField1B: integer (nullable = true)\n",
      " |-- SalesField2A: integer (nullable = true)\n",
      " |-- SalesField2B: integer (nullable = true)\n",
      " |-- SalesField3: integer (nullable = true)\n",
      " |-- SalesField4: integer (nullable = true)\n",
      " |-- SalesField5: integer (nullable = true)\n",
      " |-- SalesField6: integer (nullable = true)\n",
      " |-- SalesField7: string (nullable = true)\n",
      " |-- SalesField8: integer (nullable = true)\n",
      " |-- SalesField9: integer (nullable = true)\n",
      " |-- SalesField10: integer (nullable = true)\n",
      " |-- SalesField11: integer (nullable = true)\n",
      " |-- SalesField12: integer (nullable = true)\n",
      " |-- SalesField13: integer (nullable = true)\n",
      " |-- SalesField14: integer (nullable = true)\n",
      " |-- SalesField15: integer (nullable = true)\n",
      " |-- PersonalField1: integer (nullable = true)\n",
      " |-- PersonalField2: integer (nullable = true)\n",
      " |-- PersonalField4A: integer (nullable = true)\n",
      " |-- PersonalField4B: integer (nullable = true)\n",
      " |-- PersonalField5: integer (nullable = true)\n",
      " |-- PersonalField6: integer (nullable = true)\n",
      " |-- PersonalField7: string (nullable = true)\n",
      " |-- PersonalField8: integer (nullable = true)\n",
      " |-- PersonalField9: integer (nullable = true)\n",
      " |-- PersonalField10A: integer (nullable = true)\n",
      " |-- PersonalField10B: integer (nullable = true)\n",
      " |-- PersonalField11: integer (nullable = true)\n",
      " |-- PersonalField12: integer (nullable = true)\n",
      " |-- PersonalField13: integer (nullable = true)\n",
      " |-- PersonalField14: integer (nullable = true)\n",
      " |-- PersonalField15: integer (nullable = true)\n",
      " |-- PersonalField16: string (nullable = true)\n",
      " |-- PersonalField17: string (nullable = true)\n",
      " |-- PersonalField18: string (nullable = true)\n",
      " |-- PersonalField19: string (nullable = true)\n",
      " |-- PersonalField22: integer (nullable = true)\n",
      " |-- PersonalField23: integer (nullable = true)\n",
      " |-- PersonalField24: integer (nullable = true)\n",
      " |-- PersonalField25: integer (nullable = true)\n",
      " |-- PersonalField26: integer (nullable = true)\n",
      " |-- PersonalField27: integer (nullable = true)\n",
      " |-- PersonalField28: integer (nullable = true)\n",
      " |-- PersonalField29: integer (nullable = true)\n",
      " |-- PersonalField30: integer (nullable = true)\n",
      " |-- PersonalField31: integer (nullable = true)\n",
      " |-- PersonalField32: integer (nullable = true)\n",
      " |-- PersonalField33: integer (nullable = true)\n",
      " |-- PersonalField34: integer (nullable = true)\n",
      " |-- PersonalField35: integer (nullable = true)\n",
      " |-- PersonalField36: integer (nullable = true)\n",
      " |-- PersonalField37: integer (nullable = true)\n",
      " |-- PersonalField38: integer (nullable = true)\n",
      " |-- PersonalField39: integer (nullable = true)\n",
      " |-- PersonalField40: integer (nullable = true)\n",
      " |-- PersonalField41: integer (nullable = true)\n",
      " |-- PersonalField42: integer (nullable = true)\n",
      " |-- PersonalField43: integer (nullable = true)\n",
      " |-- PersonalField44: integer (nullable = true)\n",
      " |-- PersonalField45: integer (nullable = true)\n",
      " |-- PersonalField46: integer (nullable = true)\n",
      " |-- PersonalField47: integer (nullable = true)\n",
      " |-- PersonalField48: integer (nullable = true)\n",
      " |-- PersonalField49: integer (nullable = true)\n",
      " |-- PersonalField50: integer (nullable = true)\n",
      " |-- PersonalField51: integer (nullable = true)\n",
      " |-- PersonalField52: integer (nullable = true)\n",
      " |-- PersonalField53: integer (nullable = true)\n",
      " |-- PersonalField54: integer (nullable = true)\n",
      " |-- PersonalField55: integer (nullable = true)\n",
      " |-- PersonalField56: integer (nullable = true)\n",
      " |-- PersonalField57: integer (nullable = true)\n",
      " |-- PersonalField58: integer (nullable = true)\n",
      " |-- PersonalField59: integer (nullable = true)\n",
      " |-- PersonalField60: integer (nullable = true)\n",
      " |-- PersonalField61: integer (nullable = true)\n",
      " |-- PersonalField62: integer (nullable = true)\n",
      " |-- PersonalField63: integer (nullable = true)\n",
      " |-- PersonalField64: integer (nullable = true)\n",
      " |-- PersonalField65: integer (nullable = true)\n",
      " |-- PersonalField66: integer (nullable = true)\n",
      " |-- PersonalField67: integer (nullable = true)\n",
      " |-- PersonalField68: integer (nullable = true)\n",
      " |-- PersonalField69: integer (nullable = true)\n",
      " |-- PersonalField70: integer (nullable = true)\n",
      " |-- PersonalField71: integer (nullable = true)\n",
      " |-- PersonalField72: integer (nullable = true)\n",
      " |-- PersonalField73: integer (nullable = true)\n",
      " |-- PersonalField74: integer (nullable = true)\n",
      " |-- PersonalField75: integer (nullable = true)\n",
      " |-- PersonalField76: integer (nullable = true)\n",
      " |-- PersonalField77: integer (nullable = true)\n",
      " |-- PersonalField78: integer (nullable = true)\n",
      " |-- PersonalField79: integer (nullable = true)\n",
      " |-- PersonalField80: integer (nullable = true)\n",
      " |-- PersonalField81: integer (nullable = true)\n",
      " |-- PersonalField82: integer (nullable = true)\n",
      " |-- PersonalField83: integer (nullable = true)\n",
      " |-- PersonalField84: integer (nullable = true)\n",
      " |-- PropertyField1A: integer (nullable = true)\n",
      " |-- PropertyField1B: integer (nullable = true)\n",
      " |-- PropertyField2A: integer (nullable = true)\n",
      " |-- PropertyField2B: integer (nullable = true)\n",
      " |-- PropertyField3: string (nullable = true)\n",
      " |-- PropertyField4: string (nullable = true)\n",
      " |-- PropertyField5: string (nullable = true)\n",
      " |-- PropertyField6: integer (nullable = true)\n",
      " |-- PropertyField7: string (nullable = true)\n",
      " |-- PropertyField8: integer (nullable = true)\n",
      " |-- PropertyField9: integer (nullable = true)\n",
      " |-- PropertyField10: integer (nullable = true)\n",
      " |-- PropertyField11A: integer (nullable = true)\n",
      " |-- PropertyField11B: integer (nullable = true)\n",
      " |-- PropertyField12: integer (nullable = true)\n",
      " |-- PropertyField13: integer (nullable = true)\n",
      " |-- PropertyField14: string (nullable = true)\n",
      " |-- PropertyField15: integer (nullable = true)\n",
      " |-- PropertyField16A: integer (nullable = true)\n",
      " |-- PropertyField16B: integer (nullable = true)\n",
      " |-- PropertyField17: integer (nullable = true)\n",
      " |-- PropertyField18: integer (nullable = true)\n",
      " |-- PropertyField19: integer (nullable = true)\n",
      " |-- PropertyField20: integer (nullable = true)\n",
      " |-- PropertyField21A: integer (nullable = true)\n",
      " |-- PropertyField21B: integer (nullable = true)\n",
      " |-- PropertyField22: integer (nullable = true)\n",
      " |-- PropertyField23: integer (nullable = true)\n",
      " |-- PropertyField24A: integer (nullable = true)\n",
      " |-- PropertyField24B: integer (nullable = true)\n",
      " |-- PropertyField25: double (nullable = true)\n",
      " |-- PropertyField26A: integer (nullable = true)\n",
      " |-- PropertyField26B: integer (nullable = true)\n",
      " |-- PropertyField27: integer (nullable = true)\n",
      " |-- PropertyField28: string (nullable = true)\n",
      " |-- PropertyField29: integer (nullable = true)\n",
      " |-- PropertyField30: string (nullable = true)\n",
      " |-- PropertyField31: string (nullable = true)\n",
      " |-- PropertyField32: string (nullable = true)\n",
      " |-- PropertyField33: string (nullable = true)\n",
      " |-- PropertyField34: string (nullable = true)\n",
      " |-- PropertyField35: integer (nullable = true)\n",
      " |-- PropertyField36: string (nullable = true)\n",
      " |-- PropertyField37: string (nullable = true)\n",
      " |-- PropertyField38: string (nullable = true)\n",
      " |-- PropertyField39A: integer (nullable = true)\n",
      " |-- PropertyField39B: integer (nullable = true)\n",
      " |-- GeographicField1A: integer (nullable = true)\n",
      " |-- GeographicField1B: integer (nullable = true)\n",
      " |-- GeographicField2A: integer (nullable = true)\n",
      " |-- GeographicField2B: integer (nullable = true)\n",
      " |-- GeographicField3A: integer (nullable = true)\n",
      " |-- GeographicField3B: integer (nullable = true)\n",
      " |-- GeographicField4A: integer (nullable = true)\n",
      " |-- GeographicField4B: integer (nullable = true)\n",
      " |-- GeographicField5A: integer (nullable = true)\n",
      " |-- GeographicField5B: integer (nullable = true)\n",
      " |-- GeographicField6A: integer (nullable = true)\n",
      " |-- GeographicField6B: integer (nullable = true)\n",
      " |-- GeographicField7A: integer (nullable = true)\n",
      " |-- GeographicField7B: integer (nullable = true)\n",
      " |-- GeographicField8A: integer (nullable = true)\n",
      " |-- GeographicField8B: integer (nullable = true)\n",
      " |-- GeographicField9A: integer (nullable = true)\n",
      " |-- GeographicField9B: integer (nullable = true)\n",
      " |-- GeographicField10A: integer (nullable = true)\n",
      " |-- GeographicField10B: integer (nullable = true)\n",
      " |-- GeographicField11A: integer (nullable = true)\n",
      " |-- GeographicField11B: integer (nullable = true)\n",
      " |-- GeographicField12A: integer (nullable = true)\n",
      " |-- GeographicField12B: integer (nullable = true)\n",
      " |-- GeographicField13A: integer (nullable = true)\n",
      " |-- GeographicField13B: integer (nullable = true)\n",
      " |-- GeographicField14A: integer (nullable = true)\n",
      " |-- GeographicField14B: integer (nullable = true)\n",
      " |-- GeographicField15A: integer (nullable = true)\n",
      " |-- GeographicField15B: integer (nullable = true)\n",
      " |-- GeographicField16A: integer (nullable = true)\n",
      " |-- GeographicField16B: integer (nullable = true)\n",
      " |-- GeographicField17A: integer (nullable = true)\n",
      " |-- GeographicField17B: integer (nullable = true)\n",
      " |-- GeographicField18A: integer (nullable = true)\n",
      " |-- GeographicField18B: integer (nullable = true)\n",
      " |-- GeographicField19A: integer (nullable = true)\n",
      " |-- GeographicField19B: integer (nullable = true)\n",
      " |-- GeographicField20A: integer (nullable = true)\n",
      " |-- GeographicField20B: integer (nullable = true)\n",
      " |-- GeographicField21A: integer (nullable = true)\n",
      " |-- GeographicField21B: integer (nullable = true)\n",
      " |-- GeographicField22A: integer (nullable = true)\n",
      " |-- GeographicField22B: integer (nullable = true)\n",
      " |-- GeographicField23A: integer (nullable = true)\n",
      " |-- GeographicField23B: integer (nullable = true)\n",
      " |-- GeographicField24A: integer (nullable = true)\n",
      " |-- GeographicField24B: integer (nullable = true)\n",
      " |-- GeographicField25A: integer (nullable = true)\n",
      " |-- GeographicField25B: integer (nullable = true)\n",
      " |-- GeographicField26A: integer (nullable = true)\n",
      " |-- GeographicField26B: integer (nullable = true)\n",
      " |-- GeographicField27A: integer (nullable = true)\n",
      " |-- GeographicField27B: integer (nullable = true)\n",
      " |-- GeographicField28A: integer (nullable = true)\n",
      " |-- GeographicField28B: integer (nullable = true)\n",
      " |-- GeographicField29A: integer (nullable = true)\n",
      " |-- GeographicField29B: integer (nullable = true)\n",
      " |-- GeographicField30A: integer (nullable = true)\n",
      " |-- GeographicField30B: integer (nullable = true)\n",
      " |-- GeographicField31A: integer (nullable = true)\n",
      " |-- GeographicField31B: integer (nullable = true)\n",
      " |-- GeographicField32A: integer (nullable = true)\n",
      " |-- GeographicField32B: integer (nullable = true)\n",
      " |-- GeographicField33A: integer (nullable = true)\n",
      " |-- GeographicField33B: integer (nullable = true)\n",
      " |-- GeographicField34A: integer (nullable = true)\n",
      " |-- GeographicField34B: integer (nullable = true)\n",
      " |-- GeographicField35A: integer (nullable = true)\n",
      " |-- GeographicField35B: integer (nullable = true)\n",
      " |-- GeographicField36A: integer (nullable = true)\n",
      " |-- GeographicField36B: integer (nullable = true)\n",
      " |-- GeographicField37A: integer (nullable = true)\n",
      " |-- GeographicField37B: integer (nullable = true)\n",
      " |-- GeographicField38A: integer (nullable = true)\n",
      " |-- GeographicField38B: integer (nullable = true)\n",
      " |-- GeographicField39A: integer (nullable = true)\n",
      " |-- GeographicField39B: integer (nullable = true)\n",
      " |-- GeographicField40A: integer (nullable = true)\n",
      " |-- GeographicField40B: integer (nullable = true)\n",
      " |-- GeographicField41A: integer (nullable = true)\n",
      " |-- GeographicField41B: integer (nullable = true)\n",
      " |-- GeographicField42A: integer (nullable = true)\n",
      " |-- GeographicField42B: integer (nullable = true)\n",
      " |-- GeographicField43A: integer (nullable = true)\n",
      " |-- GeographicField43B: integer (nullable = true)\n",
      " |-- GeographicField44A: integer (nullable = true)\n",
      " |-- GeographicField44B: integer (nullable = true)\n",
      " |-- GeographicField45A: integer (nullable = true)\n",
      " |-- GeographicField45B: integer (nullable = true)\n",
      " |-- GeographicField46A: integer (nullable = true)\n",
      " |-- GeographicField46B: integer (nullable = true)\n",
      " |-- GeographicField47A: integer (nullable = true)\n",
      " |-- GeographicField47B: integer (nullable = true)\n",
      " |-- GeographicField48A: integer (nullable = true)\n",
      " |-- GeographicField48B: integer (nullable = true)\n",
      " |-- GeographicField49A: integer (nullable = true)\n",
      " |-- GeographicField49B: integer (nullable = true)\n",
      " |-- GeographicField50A: integer (nullable = true)\n",
      " |-- GeographicField50B: integer (nullable = true)\n",
      " |-- GeographicField51A: integer (nullable = true)\n",
      " |-- GeographicField51B: integer (nullable = true)\n",
      " |-- GeographicField52A: integer (nullable = true)\n",
      " |-- GeographicField52B: integer (nullable = true)\n",
      " |-- GeographicField53A: integer (nullable = true)\n",
      " |-- GeographicField53B: integer (nullable = true)\n",
      " |-- GeographicField54A: integer (nullable = true)\n",
      " |-- GeographicField54B: integer (nullable = true)\n",
      " |-- GeographicField55A: integer (nullable = true)\n",
      " |-- GeographicField55B: integer (nullable = true)\n",
      " |-- GeographicField56A: integer (nullable = true)\n",
      " |-- GeographicField56B: integer (nullable = true)\n",
      " |-- GeographicField57A: integer (nullable = true)\n",
      " |-- GeographicField57B: integer (nullable = true)\n",
      " |-- GeographicField58A: integer (nullable = true)\n",
      " |-- GeographicField58B: integer (nullable = true)\n",
      " |-- GeographicField59A: integer (nullable = true)\n",
      " |-- GeographicField59B: integer (nullable = true)\n",
      " |-- GeographicField60A: integer (nullable = true)\n",
      " |-- GeographicField60B: integer (nullable = true)\n",
      " |-- GeographicField61A: integer (nullable = true)\n",
      " |-- GeographicField61B: integer (nullable = true)\n",
      " |-- GeographicField62A: integer (nullable = true)\n",
      " |-- GeographicField62B: integer (nullable = true)\n",
      " |-- GeographicField63: string (nullable = true)\n",
      " |-- GeographicField64: string (nullable = true)\n",
      "\n"
     ]
    },
    {
     "data": {
      "text/plain": [
       "(299, None)"
      ]
     },
     "execution_count": 13,
     "metadata": {},
     "output_type": "execute_result"
    }
   ],
   "source": [
    "#Print Schema\n",
    "len(df.columns), df.printSchema()"
   ]
  },
  {
   "cell_type": "code",
   "execution_count": 100,
   "metadata": {},
   "outputs": [
    {
     "name": "stdout",
     "output_type": "stream",
     "text": [
      "root\n",
      " |-- QuoteNumber: integer (nullable = true)\n",
      " |-- Original_Quote_Date: string (nullable = true)\n",
      " |-- Field6: string (nullable = true)\n",
      " |-- Field7: integer (nullable = true)\n",
      " |-- Field8: double (nullable = true)\n",
      " |-- Field9: double (nullable = true)\n",
      " |-- Field10: integer (nullable = true)\n",
      " |-- Field11: double (nullable = true)\n",
      " |-- Field12: string (nullable = true)\n",
      " |-- CoverageField1A: integer (nullable = true)\n",
      " |-- CoverageField1B: integer (nullable = true)\n",
      " |-- CoverageField2A: integer (nullable = true)\n",
      " |-- CoverageField2B: integer (nullable = true)\n",
      " |-- CoverageField3A: integer (nullable = true)\n",
      " |-- CoverageField3B: integer (nullable = true)\n",
      " |-- CoverageField4A: integer (nullable = true)\n",
      " |-- CoverageField4B: integer (nullable = true)\n",
      " |-- CoverageField5A: integer (nullable = true)\n",
      " |-- CoverageField5B: integer (nullable = true)\n",
      " |-- CoverageField6A: integer (nullable = true)\n",
      " |-- CoverageField6B: integer (nullable = true)\n",
      " |-- CoverageField8: string (nullable = true)\n",
      " |-- CoverageField9: string (nullable = true)\n",
      " |-- CoverageField11A: integer (nullable = true)\n",
      " |-- CoverageField11B: integer (nullable = true)\n",
      " |-- SalesField1A: integer (nullable = true)\n",
      " |-- SalesField1B: integer (nullable = true)\n",
      " |-- SalesField2A: integer (nullable = true)\n",
      " |-- SalesField2B: integer (nullable = true)\n",
      " |-- SalesField3: integer (nullable = true)\n",
      " |-- SalesField4: integer (nullable = true)\n",
      " |-- SalesField5: integer (nullable = true)\n",
      " |-- SalesField6: integer (nullable = true)\n",
      " |-- SalesField7: string (nullable = true)\n",
      " |-- SalesField8: integer (nullable = true)\n",
      " |-- SalesField9: integer (nullable = true)\n",
      " |-- SalesField10: integer (nullable = true)\n",
      " |-- SalesField11: integer (nullable = true)\n",
      " |-- SalesField12: integer (nullable = true)\n",
      " |-- SalesField13: integer (nullable = true)\n",
      " |-- SalesField14: integer (nullable = true)\n",
      " |-- SalesField15: integer (nullable = true)\n",
      " |-- PersonalField1: integer (nullable = true)\n",
      " |-- PersonalField2: integer (nullable = true)\n",
      " |-- PersonalField4A: integer (nullable = true)\n",
      " |-- PersonalField4B: integer (nullable = true)\n",
      " |-- PersonalField5: integer (nullable = true)\n",
      " |-- PersonalField6: integer (nullable = true)\n",
      " |-- PersonalField7: string (nullable = true)\n",
      " |-- PersonalField8: integer (nullable = true)\n",
      " |-- PersonalField9: integer (nullable = true)\n",
      " |-- PersonalField10A: integer (nullable = true)\n",
      " |-- PersonalField10B: integer (nullable = true)\n",
      " |-- PersonalField11: integer (nullable = true)\n",
      " |-- PersonalField12: integer (nullable = true)\n",
      " |-- PersonalField13: integer (nullable = true)\n",
      " |-- PersonalField14: integer (nullable = true)\n",
      " |-- PersonalField15: integer (nullable = true)\n",
      " |-- PersonalField16: string (nullable = true)\n",
      " |-- PersonalField17: string (nullable = true)\n",
      " |-- PersonalField18: string (nullable = true)\n",
      " |-- PersonalField19: string (nullable = true)\n",
      " |-- PersonalField22: integer (nullable = true)\n",
      " |-- PersonalField23: integer (nullable = true)\n",
      " |-- PersonalField24: integer (nullable = true)\n",
      " |-- PersonalField25: integer (nullable = true)\n",
      " |-- PersonalField26: integer (nullable = true)\n",
      " |-- PersonalField27: integer (nullable = true)\n",
      " |-- PersonalField28: integer (nullable = true)\n",
      " |-- PersonalField29: integer (nullable = true)\n",
      " |-- PersonalField30: integer (nullable = true)\n",
      " |-- PersonalField31: integer (nullable = true)\n",
      " |-- PersonalField32: integer (nullable = true)\n",
      " |-- PersonalField33: integer (nullable = true)\n",
      " |-- PersonalField34: integer (nullable = true)\n",
      " |-- PersonalField35: integer (nullable = true)\n",
      " |-- PersonalField36: integer (nullable = true)\n",
      " |-- PersonalField37: integer (nullable = true)\n",
      " |-- PersonalField38: integer (nullable = true)\n",
      " |-- PersonalField39: integer (nullable = true)\n",
      " |-- PersonalField40: integer (nullable = true)\n",
      " |-- PersonalField41: integer (nullable = true)\n",
      " |-- PersonalField42: integer (nullable = true)\n",
      " |-- PersonalField43: integer (nullable = true)\n",
      " |-- PersonalField44: integer (nullable = true)\n",
      " |-- PersonalField45: integer (nullable = true)\n",
      " |-- PersonalField46: integer (nullable = true)\n",
      " |-- PersonalField47: integer (nullable = true)\n",
      " |-- PersonalField48: integer (nullable = true)\n",
      " |-- PersonalField49: integer (nullable = true)\n",
      " |-- PersonalField50: integer (nullable = true)\n",
      " |-- PersonalField51: integer (nullable = true)\n",
      " |-- PersonalField52: integer (nullable = true)\n",
      " |-- PersonalField53: integer (nullable = true)\n",
      " |-- PersonalField54: integer (nullable = true)\n",
      " |-- PersonalField55: integer (nullable = true)\n",
      " |-- PersonalField56: integer (nullable = true)\n",
      " |-- PersonalField57: integer (nullable = true)\n",
      " |-- PersonalField58: integer (nullable = true)\n",
      " |-- PersonalField59: integer (nullable = true)\n",
      " |-- PersonalField60: integer (nullable = true)\n",
      " |-- PersonalField61: integer (nullable = true)\n",
      " |-- PersonalField62: integer (nullable = true)\n",
      " |-- PersonalField63: integer (nullable = true)\n",
      " |-- PersonalField64: integer (nullable = true)\n",
      " |-- PersonalField65: integer (nullable = true)\n",
      " |-- PersonalField66: integer (nullable = true)\n",
      " |-- PersonalField67: integer (nullable = true)\n",
      " |-- PersonalField68: integer (nullable = true)\n",
      " |-- PersonalField69: integer (nullable = true)\n",
      " |-- PersonalField70: integer (nullable = true)\n",
      " |-- PersonalField71: integer (nullable = true)\n",
      " |-- PersonalField72: integer (nullable = true)\n",
      " |-- PersonalField73: integer (nullable = true)\n",
      " |-- PersonalField74: integer (nullable = true)\n",
      " |-- PersonalField75: integer (nullable = true)\n",
      " |-- PersonalField76: integer (nullable = true)\n",
      " |-- PersonalField77: integer (nullable = true)\n",
      " |-- PersonalField78: integer (nullable = true)\n",
      " |-- PersonalField79: integer (nullable = true)\n",
      " |-- PersonalField80: integer (nullable = true)\n",
      " |-- PersonalField81: integer (nullable = true)\n",
      " |-- PersonalField82: integer (nullable = true)\n",
      " |-- PersonalField83: integer (nullable = true)\n",
      " |-- PersonalField84: integer (nullable = true)\n",
      " |-- PropertyField1A: integer (nullable = true)\n",
      " |-- PropertyField1B: integer (nullable = true)\n",
      " |-- PropertyField2A: integer (nullable = true)\n",
      " |-- PropertyField2B: integer (nullable = true)\n",
      " |-- PropertyField3: string (nullable = true)\n",
      " |-- PropertyField4: string (nullable = true)\n",
      " |-- PropertyField5: string (nullable = true)\n",
      " |-- PropertyField6: integer (nullable = true)\n",
      " |-- PropertyField7: string (nullable = true)\n",
      " |-- PropertyField8: integer (nullable = true)\n",
      " |-- PropertyField9: integer (nullable = true)\n",
      " |-- PropertyField10: integer (nullable = true)\n",
      " |-- PropertyField11A: integer (nullable = true)\n",
      " |-- PropertyField11B: integer (nullable = true)\n",
      " |-- PropertyField12: integer (nullable = true)\n",
      " |-- PropertyField13: integer (nullable = true)\n",
      " |-- PropertyField14: string (nullable = true)\n",
      " |-- PropertyField15: integer (nullable = true)\n",
      " |-- PropertyField16A: integer (nullable = true)\n",
      " |-- PropertyField16B: integer (nullable = true)\n",
      " |-- PropertyField17: integer (nullable = true)\n",
      " |-- PropertyField18: integer (nullable = true)\n",
      " |-- PropertyField19: integer (nullable = true)\n",
      " |-- PropertyField20: integer (nullable = true)\n",
      " |-- PropertyField21A: integer (nullable = true)\n",
      " |-- PropertyField21B: integer (nullable = true)\n",
      " |-- PropertyField22: integer (nullable = true)\n",
      " |-- PropertyField23: integer (nullable = true)\n",
      " |-- PropertyField24A: integer (nullable = true)\n",
      " |-- PropertyField24B: integer (nullable = true)\n",
      " |-- PropertyField25: double (nullable = true)\n",
      " |-- PropertyField26A: integer (nullable = true)\n",
      " |-- PropertyField26B: integer (nullable = true)\n",
      " |-- PropertyField27: integer (nullable = true)\n",
      " |-- PropertyField28: string (nullable = true)\n",
      " |-- PropertyField29: integer (nullable = true)\n",
      " |-- PropertyField30: string (nullable = true)\n",
      " |-- PropertyField31: string (nullable = true)\n",
      " |-- PropertyField32: string (nullable = true)\n",
      " |-- PropertyField33: string (nullable = true)\n",
      " |-- PropertyField34: string (nullable = true)\n",
      " |-- PropertyField35: integer (nullable = true)\n",
      " |-- PropertyField36: string (nullable = true)\n",
      " |-- PropertyField37: string (nullable = true)\n",
      " |-- PropertyField38: string (nullable = true)\n",
      " |-- PropertyField39A: integer (nullable = true)\n",
      " |-- PropertyField39B: integer (nullable = true)\n",
      " |-- GeographicField1A: integer (nullable = true)\n",
      " |-- GeographicField1B: integer (nullable = true)\n",
      " |-- GeographicField2A: integer (nullable = true)\n",
      " |-- GeographicField2B: integer (nullable = true)\n",
      " |-- GeographicField3A: integer (nullable = true)\n",
      " |-- GeographicField3B: integer (nullable = true)\n",
      " |-- GeographicField4A: integer (nullable = true)\n",
      " |-- GeographicField4B: integer (nullable = true)\n",
      " |-- GeographicField5A: integer (nullable = true)\n",
      " |-- GeographicField5B: integer (nullable = true)\n",
      " |-- GeographicField6A: integer (nullable = true)\n",
      " |-- GeographicField6B: integer (nullable = true)\n",
      " |-- GeographicField7A: integer (nullable = true)\n",
      " |-- GeographicField7B: integer (nullable = true)\n",
      " |-- GeographicField8A: integer (nullable = true)\n",
      " |-- GeographicField8B: integer (nullable = true)\n",
      " |-- GeographicField9A: integer (nullable = true)\n",
      " |-- GeographicField9B: integer (nullable = true)\n",
      " |-- GeographicField10A: integer (nullable = true)\n",
      " |-- GeographicField10B: integer (nullable = true)\n",
      " |-- GeographicField11A: integer (nullable = true)\n",
      " |-- GeographicField11B: integer (nullable = true)\n",
      " |-- GeographicField12A: integer (nullable = true)\n",
      " |-- GeographicField12B: integer (nullable = true)\n",
      " |-- GeographicField13A: integer (nullable = true)\n",
      " |-- GeographicField13B: integer (nullable = true)\n",
      " |-- GeographicField14A: integer (nullable = true)\n",
      " |-- GeographicField14B: integer (nullable = true)\n",
      " |-- GeographicField15A: integer (nullable = true)\n",
      " |-- GeographicField15B: integer (nullable = true)\n",
      " |-- GeographicField16A: integer (nullable = true)\n",
      " |-- GeographicField16B: integer (nullable = true)\n",
      " |-- GeographicField17A: integer (nullable = true)\n",
      " |-- GeographicField17B: integer (nullable = true)\n",
      " |-- GeographicField18A: integer (nullable = true)\n",
      " |-- GeographicField18B: integer (nullable = true)\n",
      " |-- GeographicField19A: integer (nullable = true)\n",
      " |-- GeographicField19B: integer (nullable = true)\n",
      " |-- GeographicField20A: integer (nullable = true)\n",
      " |-- GeographicField20B: integer (nullable = true)\n",
      " |-- GeographicField21A: integer (nullable = true)\n",
      " |-- GeographicField21B: integer (nullable = true)\n",
      " |-- GeographicField22A: integer (nullable = true)\n",
      " |-- GeographicField22B: integer (nullable = true)\n",
      " |-- GeographicField23A: integer (nullable = true)\n",
      " |-- GeographicField23B: integer (nullable = true)\n",
      " |-- GeographicField24A: integer (nullable = true)\n",
      " |-- GeographicField24B: integer (nullable = true)\n",
      " |-- GeographicField25A: integer (nullable = true)\n",
      " |-- GeographicField25B: integer (nullable = true)\n",
      " |-- GeographicField26A: integer (nullable = true)\n",
      " |-- GeographicField26B: integer (nullable = true)\n",
      " |-- GeographicField27A: integer (nullable = true)\n",
      " |-- GeographicField27B: integer (nullable = true)\n",
      " |-- GeographicField28A: integer (nullable = true)\n",
      " |-- GeographicField28B: integer (nullable = true)\n",
      " |-- GeographicField29A: integer (nullable = true)\n",
      " |-- GeographicField29B: integer (nullable = true)\n",
      " |-- GeographicField30A: integer (nullable = true)\n",
      " |-- GeographicField30B: integer (nullable = true)\n",
      " |-- GeographicField31A: integer (nullable = true)\n",
      " |-- GeographicField31B: integer (nullable = true)\n",
      " |-- GeographicField32A: integer (nullable = true)\n",
      " |-- GeographicField32B: integer (nullable = true)\n",
      " |-- GeographicField33A: integer (nullable = true)\n",
      " |-- GeographicField33B: integer (nullable = true)\n",
      " |-- GeographicField34A: integer (nullable = true)\n",
      " |-- GeographicField34B: integer (nullable = true)\n",
      " |-- GeographicField35A: integer (nullable = true)\n",
      " |-- GeographicField35B: integer (nullable = true)\n",
      " |-- GeographicField36A: integer (nullable = true)\n",
      " |-- GeographicField36B: integer (nullable = true)\n",
      " |-- GeographicField37A: integer (nullable = true)\n",
      " |-- GeographicField37B: integer (nullable = true)\n",
      " |-- GeographicField38A: integer (nullable = true)\n",
      " |-- GeographicField38B: integer (nullable = true)\n",
      " |-- GeographicField39A: integer (nullable = true)\n",
      " |-- GeographicField39B: integer (nullable = true)\n",
      " |-- GeographicField40A: integer (nullable = true)\n",
      " |-- GeographicField40B: integer (nullable = true)\n",
      " |-- GeographicField41A: integer (nullable = true)\n",
      " |-- GeographicField41B: integer (nullable = true)\n",
      " |-- GeographicField42A: integer (nullable = true)\n",
      " |-- GeographicField42B: integer (nullable = true)\n",
      " |-- GeographicField43A: integer (nullable = true)\n",
      " |-- GeographicField43B: integer (nullable = true)\n",
      " |-- GeographicField44A: integer (nullable = true)\n",
      " |-- GeographicField44B: integer (nullable = true)\n",
      " |-- GeographicField45A: integer (nullable = true)\n",
      " |-- GeographicField45B: integer (nullable = true)\n",
      " |-- GeographicField46A: integer (nullable = true)\n",
      " |-- GeographicField46B: integer (nullable = true)\n",
      " |-- GeographicField47A: integer (nullable = true)\n",
      " |-- GeographicField47B: integer (nullable = true)\n",
      " |-- GeographicField48A: integer (nullable = true)\n",
      " |-- GeographicField48B: integer (nullable = true)\n",
      " |-- GeographicField49A: integer (nullable = true)\n",
      " |-- GeographicField49B: integer (nullable = true)\n",
      " |-- GeographicField50A: integer (nullable = true)\n",
      " |-- GeographicField50B: integer (nullable = true)\n",
      " |-- GeographicField51A: integer (nullable = true)\n",
      " |-- GeographicField51B: integer (nullable = true)\n",
      " |-- GeographicField52A: integer (nullable = true)\n",
      " |-- GeographicField52B: integer (nullable = true)\n",
      " |-- GeographicField53A: integer (nullable = true)\n",
      " |-- GeographicField53B: integer (nullable = true)\n",
      " |-- GeographicField54A: integer (nullable = true)\n",
      " |-- GeographicField54B: integer (nullable = true)\n",
      " |-- GeographicField55A: integer (nullable = true)\n",
      " |-- GeographicField55B: integer (nullable = true)\n",
      " |-- GeographicField56A: integer (nullable = true)\n",
      " |-- GeographicField56B: integer (nullable = true)\n",
      " |-- GeographicField57A: integer (nullable = true)\n",
      " |-- GeographicField57B: integer (nullable = true)\n",
      " |-- GeographicField58A: integer (nullable = true)\n",
      " |-- GeographicField58B: integer (nullable = true)\n",
      " |-- GeographicField59A: integer (nullable = true)\n",
      " |-- GeographicField59B: integer (nullable = true)\n",
      " |-- GeographicField60A: integer (nullable = true)\n",
      " |-- GeographicField60B: integer (nullable = true)\n",
      " |-- GeographicField61A: integer (nullable = true)\n",
      " |-- GeographicField61B: integer (nullable = true)\n",
      " |-- GeographicField62A: integer (nullable = true)\n",
      " |-- GeographicField62B: integer (nullable = true)\n",
      " |-- GeographicField63: string (nullable = true)\n",
      " |-- GeographicField64: string (nullable = true)\n",
      "\n"
     ]
    },
    {
     "data": {
      "text/plain": [
       "(None, 298)"
      ]
     },
     "execution_count": 100,
     "metadata": {},
     "output_type": "execute_result"
    }
   ],
   "source": [
    "test_data.printSchema(), len (test_data.columns)"
   ]
  },
  {
   "cell_type": "code",
   "execution_count": 9,
   "metadata": {
    "collapsed": true
   },
   "outputs": [],
   "source": [
    "#rename Target to 'label in data train\n",
    "df = df.withColumnRenamed('QuoteConversion_Flag','label')\n",
    "#rename Id number ('QuoteNumber') to 'Id' in data train\n",
    "df = df.withColumnRenamed('QuoteNumber','Id')"
   ]
  },
  {
   "cell_type": "code",
   "execution_count": 10,
   "metadata": {
    "collapsed": true
   },
   "outputs": [],
   "source": [
    "#rename Id number ('QuoteNumber') to 'Id' in data test\n",
    "test_data = test_data.withColumnRenamed('QuoteNumber','Id')"
   ]
  },
  {
   "cell_type": "code",
   "execution_count": 10,
   "metadata": {},
   "outputs": [
    {
     "name": "stdout",
     "output_type": "stream",
     "text": [
      "root\n",
      " |-- QuoteNumber: integer (nullable = true)\n",
      " |-- Original_Quote_Date: string (nullable = true)\n",
      " |-- label: integer (nullable = true)\n",
      " |-- Field6: string (nullable = true)\n",
      " |-- Field7: integer (nullable = true)\n",
      " |-- Field8: double (nullable = true)\n",
      " |-- Field9: double (nullable = true)\n",
      " |-- Field10: integer (nullable = true)\n",
      " |-- Field11: double (nullable = true)\n",
      " |-- Field12: string (nullable = true)\n",
      " |-- CoverageField1A: integer (nullable = true)\n",
      " |-- CoverageField1B: integer (nullable = true)\n",
      " |-- CoverageField2A: integer (nullable = true)\n",
      " |-- CoverageField2B: integer (nullable = true)\n",
      " |-- CoverageField3A: integer (nullable = true)\n",
      " |-- CoverageField3B: integer (nullable = true)\n",
      " |-- CoverageField4A: integer (nullable = true)\n",
      " |-- CoverageField4B: integer (nullable = true)\n",
      " |-- CoverageField5A: integer (nullable = true)\n",
      " |-- CoverageField5B: integer (nullable = true)\n",
      " |-- CoverageField6A: integer (nullable = true)\n",
      " |-- CoverageField6B: integer (nullable = true)\n",
      " |-- CoverageField8: string (nullable = true)\n",
      " |-- CoverageField9: string (nullable = true)\n",
      " |-- CoverageField11A: integer (nullable = true)\n",
      " |-- CoverageField11B: integer (nullable = true)\n",
      " |-- SalesField1A: integer (nullable = true)\n",
      " |-- SalesField1B: integer (nullable = true)\n",
      " |-- SalesField2A: integer (nullable = true)\n",
      " |-- SalesField2B: integer (nullable = true)\n",
      " |-- SalesField3: integer (nullable = true)\n",
      " |-- SalesField4: integer (nullable = true)\n",
      " |-- SalesField5: integer (nullable = true)\n",
      " |-- SalesField6: integer (nullable = true)\n",
      " |-- SalesField7: string (nullable = true)\n",
      " |-- SalesField8: integer (nullable = true)\n",
      " |-- SalesField9: integer (nullable = true)\n",
      " |-- SalesField10: integer (nullable = true)\n",
      " |-- SalesField11: integer (nullable = true)\n",
      " |-- SalesField12: integer (nullable = true)\n",
      " |-- SalesField13: integer (nullable = true)\n",
      " |-- SalesField14: integer (nullable = true)\n",
      " |-- SalesField15: integer (nullable = true)\n",
      " |-- PersonalField1: integer (nullable = true)\n",
      " |-- PersonalField2: integer (nullable = true)\n",
      " |-- PersonalField4A: integer (nullable = true)\n",
      " |-- PersonalField4B: integer (nullable = true)\n",
      " |-- PersonalField5: integer (nullable = true)\n",
      " |-- PersonalField6: integer (nullable = true)\n",
      " |-- PersonalField7: string (nullable = true)\n",
      " |-- PersonalField8: integer (nullable = true)\n",
      " |-- PersonalField9: integer (nullable = true)\n",
      " |-- PersonalField10A: integer (nullable = true)\n",
      " |-- PersonalField10B: integer (nullable = true)\n",
      " |-- PersonalField11: integer (nullable = true)\n",
      " |-- PersonalField12: integer (nullable = true)\n",
      " |-- PersonalField13: integer (nullable = true)\n",
      " |-- PersonalField14: integer (nullable = true)\n",
      " |-- PersonalField15: integer (nullable = true)\n",
      " |-- PersonalField16: string (nullable = true)\n",
      " |-- PersonalField17: string (nullable = true)\n",
      " |-- PersonalField18: string (nullable = true)\n",
      " |-- PersonalField19: string (nullable = true)\n",
      " |-- PersonalField22: integer (nullable = true)\n",
      " |-- PersonalField23: integer (nullable = true)\n",
      " |-- PersonalField24: integer (nullable = true)\n",
      " |-- PersonalField25: integer (nullable = true)\n",
      " |-- PersonalField26: integer (nullable = true)\n",
      " |-- PersonalField27: integer (nullable = true)\n",
      " |-- PersonalField28: integer (nullable = true)\n",
      " |-- PersonalField29: integer (nullable = true)\n",
      " |-- PersonalField30: integer (nullable = true)\n",
      " |-- PersonalField31: integer (nullable = true)\n",
      " |-- PersonalField32: integer (nullable = true)\n",
      " |-- PersonalField33: integer (nullable = true)\n",
      " |-- PersonalField34: integer (nullable = true)\n",
      " |-- PersonalField35: integer (nullable = true)\n",
      " |-- PersonalField36: integer (nullable = true)\n",
      " |-- PersonalField37: integer (nullable = true)\n",
      " |-- PersonalField38: integer (nullable = true)\n",
      " |-- PersonalField39: integer (nullable = true)\n",
      " |-- PersonalField40: integer (nullable = true)\n",
      " |-- PersonalField41: integer (nullable = true)\n",
      " |-- PersonalField42: integer (nullable = true)\n",
      " |-- PersonalField43: integer (nullable = true)\n",
      " |-- PersonalField44: integer (nullable = true)\n",
      " |-- PersonalField45: integer (nullable = true)\n",
      " |-- PersonalField46: integer (nullable = true)\n",
      " |-- PersonalField47: integer (nullable = true)\n",
      " |-- PersonalField48: integer (nullable = true)\n",
      " |-- PersonalField49: integer (nullable = true)\n",
      " |-- PersonalField50: integer (nullable = true)\n",
      " |-- PersonalField51: integer (nullable = true)\n",
      " |-- PersonalField52: integer (nullable = true)\n",
      " |-- PersonalField53: integer (nullable = true)\n",
      " |-- PersonalField54: integer (nullable = true)\n",
      " |-- PersonalField55: integer (nullable = true)\n",
      " |-- PersonalField56: integer (nullable = true)\n",
      " |-- PersonalField57: integer (nullable = true)\n",
      " |-- PersonalField58: integer (nullable = true)\n",
      " |-- PersonalField59: integer (nullable = true)\n",
      " |-- PersonalField60: integer (nullable = true)\n",
      " |-- PersonalField61: integer (nullable = true)\n",
      " |-- PersonalField62: integer (nullable = true)\n",
      " |-- PersonalField63: integer (nullable = true)\n",
      " |-- PersonalField64: integer (nullable = true)\n",
      " |-- PersonalField65: integer (nullable = true)\n",
      " |-- PersonalField66: integer (nullable = true)\n",
      " |-- PersonalField67: integer (nullable = true)\n",
      " |-- PersonalField68: integer (nullable = true)\n",
      " |-- PersonalField69: integer (nullable = true)\n",
      " |-- PersonalField70: integer (nullable = true)\n",
      " |-- PersonalField71: integer (nullable = true)\n",
      " |-- PersonalField72: integer (nullable = true)\n",
      " |-- PersonalField73: integer (nullable = true)\n",
      " |-- PersonalField74: integer (nullable = true)\n",
      " |-- PersonalField75: integer (nullable = true)\n",
      " |-- PersonalField76: integer (nullable = true)\n",
      " |-- PersonalField77: integer (nullable = true)\n",
      " |-- PersonalField78: integer (nullable = true)\n",
      " |-- PersonalField79: integer (nullable = true)\n",
      " |-- PersonalField80: integer (nullable = true)\n",
      " |-- PersonalField81: integer (nullable = true)\n",
      " |-- PersonalField82: integer (nullable = true)\n",
      " |-- PersonalField83: integer (nullable = true)\n",
      " |-- PersonalField84: integer (nullable = true)\n",
      " |-- PropertyField1A: integer (nullable = true)\n",
      " |-- PropertyField1B: integer (nullable = true)\n",
      " |-- PropertyField2A: integer (nullable = true)\n",
      " |-- PropertyField2B: integer (nullable = true)\n",
      " |-- PropertyField3: string (nullable = true)\n",
      " |-- PropertyField4: string (nullable = true)\n",
      " |-- PropertyField5: string (nullable = true)\n",
      " |-- PropertyField6: integer (nullable = true)\n",
      " |-- PropertyField7: string (nullable = true)\n",
      " |-- PropertyField8: integer (nullable = true)\n",
      " |-- PropertyField9: integer (nullable = true)\n",
      " |-- PropertyField10: integer (nullable = true)\n",
      " |-- PropertyField11A: integer (nullable = true)\n",
      " |-- PropertyField11B: integer (nullable = true)\n",
      " |-- PropertyField12: integer (nullable = true)\n",
      " |-- PropertyField13: integer (nullable = true)\n",
      " |-- PropertyField14: string (nullable = true)\n",
      " |-- PropertyField15: integer (nullable = true)\n",
      " |-- PropertyField16A: integer (nullable = true)\n",
      " |-- PropertyField16B: integer (nullable = true)\n",
      " |-- PropertyField17: integer (nullable = true)\n",
      " |-- PropertyField18: integer (nullable = true)\n",
      " |-- PropertyField19: integer (nullable = true)\n",
      " |-- PropertyField20: integer (nullable = true)\n",
      " |-- PropertyField21A: integer (nullable = true)\n",
      " |-- PropertyField21B: integer (nullable = true)\n",
      " |-- PropertyField22: integer (nullable = true)\n",
      " |-- PropertyField23: integer (nullable = true)\n",
      " |-- PropertyField24A: integer (nullable = true)\n",
      " |-- PropertyField24B: integer (nullable = true)\n",
      " |-- PropertyField25: double (nullable = true)\n",
      " |-- PropertyField26A: integer (nullable = true)\n",
      " |-- PropertyField26B: integer (nullable = true)\n",
      " |-- PropertyField27: integer (nullable = true)\n",
      " |-- PropertyField28: string (nullable = true)\n",
      " |-- PropertyField29: integer (nullable = true)\n",
      " |-- PropertyField30: string (nullable = true)\n",
      " |-- PropertyField31: string (nullable = true)\n",
      " |-- PropertyField32: string (nullable = true)\n",
      " |-- PropertyField33: string (nullable = true)\n",
      " |-- PropertyField34: string (nullable = true)\n",
      " |-- PropertyField35: integer (nullable = true)\n",
      " |-- PropertyField36: string (nullable = true)\n",
      " |-- PropertyField37: string (nullable = true)\n",
      " |-- PropertyField38: string (nullable = true)\n",
      " |-- PropertyField39A: integer (nullable = true)\n",
      " |-- PropertyField39B: integer (nullable = true)\n",
      " |-- GeographicField1A: integer (nullable = true)\n",
      " |-- GeographicField1B: integer (nullable = true)\n",
      " |-- GeographicField2A: integer (nullable = true)\n",
      " |-- GeographicField2B: integer (nullable = true)\n",
      " |-- GeographicField3A: integer (nullable = true)\n",
      " |-- GeographicField3B: integer (nullable = true)\n",
      " |-- GeographicField4A: integer (nullable = true)\n",
      " |-- GeographicField4B: integer (nullable = true)\n",
      " |-- GeographicField5A: integer (nullable = true)\n",
      " |-- GeographicField5B: integer (nullable = true)\n",
      " |-- GeographicField6A: integer (nullable = true)\n",
      " |-- GeographicField6B: integer (nullable = true)\n",
      " |-- GeographicField7A: integer (nullable = true)\n",
      " |-- GeographicField7B: integer (nullable = true)\n",
      " |-- GeographicField8A: integer (nullable = true)\n",
      " |-- GeographicField8B: integer (nullable = true)\n",
      " |-- GeographicField9A: integer (nullable = true)\n",
      " |-- GeographicField9B: integer (nullable = true)\n",
      " |-- GeographicField10A: integer (nullable = true)\n",
      " |-- GeographicField10B: integer (nullable = true)\n",
      " |-- GeographicField11A: integer (nullable = true)\n",
      " |-- GeographicField11B: integer (nullable = true)\n",
      " |-- GeographicField12A: integer (nullable = true)\n",
      " |-- GeographicField12B: integer (nullable = true)\n",
      " |-- GeographicField13A: integer (nullable = true)\n",
      " |-- GeographicField13B: integer (nullable = true)\n",
      " |-- GeographicField14A: integer (nullable = true)\n",
      " |-- GeographicField14B: integer (nullable = true)\n",
      " |-- GeographicField15A: integer (nullable = true)\n",
      " |-- GeographicField15B: integer (nullable = true)\n",
      " |-- GeographicField16A: integer (nullable = true)\n",
      " |-- GeographicField16B: integer (nullable = true)\n",
      " |-- GeographicField17A: integer (nullable = true)\n",
      " |-- GeographicField17B: integer (nullable = true)\n",
      " |-- GeographicField18A: integer (nullable = true)\n",
      " |-- GeographicField18B: integer (nullable = true)\n",
      " |-- GeographicField19A: integer (nullable = true)\n",
      " |-- GeographicField19B: integer (nullable = true)\n",
      " |-- GeographicField20A: integer (nullable = true)\n",
      " |-- GeographicField20B: integer (nullable = true)\n",
      " |-- GeographicField21A: integer (nullable = true)\n",
      " |-- GeographicField21B: integer (nullable = true)\n",
      " |-- GeographicField22A: integer (nullable = true)\n",
      " |-- GeographicField22B: integer (nullable = true)\n",
      " |-- GeographicField23A: integer (nullable = true)\n",
      " |-- GeographicField23B: integer (nullable = true)\n",
      " |-- GeographicField24A: integer (nullable = true)\n",
      " |-- GeographicField24B: integer (nullable = true)\n",
      " |-- GeographicField25A: integer (nullable = true)\n",
      " |-- GeographicField25B: integer (nullable = true)\n",
      " |-- GeographicField26A: integer (nullable = true)\n",
      " |-- GeographicField26B: integer (nullable = true)\n",
      " |-- GeographicField27A: integer (nullable = true)\n",
      " |-- GeographicField27B: integer (nullable = true)\n",
      " |-- GeographicField28A: integer (nullable = true)\n",
      " |-- GeographicField28B: integer (nullable = true)\n",
      " |-- GeographicField29A: integer (nullable = true)\n",
      " |-- GeographicField29B: integer (nullable = true)\n",
      " |-- GeographicField30A: integer (nullable = true)\n",
      " |-- GeographicField30B: integer (nullable = true)\n",
      " |-- GeographicField31A: integer (nullable = true)\n",
      " |-- GeographicField31B: integer (nullable = true)\n",
      " |-- GeographicField32A: integer (nullable = true)\n",
      " |-- GeographicField32B: integer (nullable = true)\n",
      " |-- GeographicField33A: integer (nullable = true)\n",
      " |-- GeographicField33B: integer (nullable = true)\n",
      " |-- GeographicField34A: integer (nullable = true)\n",
      " |-- GeographicField34B: integer (nullable = true)\n",
      " |-- GeographicField35A: integer (nullable = true)\n",
      " |-- GeographicField35B: integer (nullable = true)\n",
      " |-- GeographicField36A: integer (nullable = true)\n",
      " |-- GeographicField36B: integer (nullable = true)\n",
      " |-- GeographicField37A: integer (nullable = true)\n",
      " |-- GeographicField37B: integer (nullable = true)\n",
      " |-- GeographicField38A: integer (nullable = true)\n",
      " |-- GeographicField38B: integer (nullable = true)\n",
      " |-- GeographicField39A: integer (nullable = true)\n",
      " |-- GeographicField39B: integer (nullable = true)\n",
      " |-- GeographicField40A: integer (nullable = true)\n",
      " |-- GeographicField40B: integer (nullable = true)\n",
      " |-- GeographicField41A: integer (nullable = true)\n",
      " |-- GeographicField41B: integer (nullable = true)\n",
      " |-- GeographicField42A: integer (nullable = true)\n",
      " |-- GeographicField42B: integer (nullable = true)\n",
      " |-- GeographicField43A: integer (nullable = true)\n",
      " |-- GeographicField43B: integer (nullable = true)\n",
      " |-- GeographicField44A: integer (nullable = true)\n",
      " |-- GeographicField44B: integer (nullable = true)\n",
      " |-- GeographicField45A: integer (nullable = true)\n",
      " |-- GeographicField45B: integer (nullable = true)\n",
      " |-- GeographicField46A: integer (nullable = true)\n",
      " |-- GeographicField46B: integer (nullable = true)\n",
      " |-- GeographicField47A: integer (nullable = true)\n",
      " |-- GeographicField47B: integer (nullable = true)\n",
      " |-- GeographicField48A: integer (nullable = true)\n",
      " |-- GeographicField48B: integer (nullable = true)\n",
      " |-- GeographicField49A: integer (nullable = true)\n",
      " |-- GeographicField49B: integer (nullable = true)\n",
      " |-- GeographicField50A: integer (nullable = true)\n",
      " |-- GeographicField50B: integer (nullable = true)\n",
      " |-- GeographicField51A: integer (nullable = true)\n",
      " |-- GeographicField51B: integer (nullable = true)\n",
      " |-- GeographicField52A: integer (nullable = true)\n",
      " |-- GeographicField52B: integer (nullable = true)\n",
      " |-- GeographicField53A: integer (nullable = true)\n",
      " |-- GeographicField53B: integer (nullable = true)\n",
      " |-- GeographicField54A: integer (nullable = true)\n",
      " |-- GeographicField54B: integer (nullable = true)\n",
      " |-- GeographicField55A: integer (nullable = true)\n",
      " |-- GeographicField55B: integer (nullable = true)\n",
      " |-- GeographicField56A: integer (nullable = true)\n",
      " |-- GeographicField56B: integer (nullable = true)\n",
      " |-- GeographicField57A: integer (nullable = true)\n",
      " |-- GeographicField57B: integer (nullable = true)\n",
      " |-- GeographicField58A: integer (nullable = true)\n",
      " |-- GeographicField58B: integer (nullable = true)\n",
      " |-- GeographicField59A: integer (nullable = true)\n",
      " |-- GeographicField59B: integer (nullable = true)\n",
      " |-- GeographicField60A: integer (nullable = true)\n",
      " |-- GeographicField60B: integer (nullable = true)\n",
      " |-- GeographicField61A: integer (nullable = true)\n",
      " |-- GeographicField61B: integer (nullable = true)\n",
      " |-- GeographicField62A: integer (nullable = true)\n",
      " |-- GeographicField62B: integer (nullable = true)\n",
      " |-- GeographicField63: string (nullable = true)\n",
      " |-- GeographicField64: string (nullable = true)\n",
      "\n"
     ]
    },
    {
     "data": {
      "text/plain": [
       "(299, None)"
      ]
     },
     "execution_count": 10,
     "metadata": {},
     "output_type": "execute_result"
    }
   ],
   "source": [
    "len(df.columns), df.printSchema()"
   ]
  },
  {
   "cell_type": "code",
   "execution_count": 11,
   "metadata": {
    "collapsed": true
   },
   "outputs": [],
   "source": [
    "#drop column Original_Quote_Date from data train\n",
    "df_final=df.drop('Original_Quote_Date')\n",
    "\n",
    "\n",
    "#drop column Original_Quote_Date from data test\n",
    "test_data=test_data.drop('Original_Quote_Date')"
   ]
  },
  {
   "cell_type": "code",
   "execution_count": 12,
   "metadata": {
    "collapsed": true
   },
   "outputs": [],
   "source": [
    "target_percent=df_final.groupBy('label').count().sort(col(\"count\").desc())\\\n",
    "                        .withColumn('total',sum(col('count')).over(window))\\\n",
    "                        .withColumn('Percent',col('count')*100/col('total')) "
   ]
  },
  {
   "cell_type": "code",
   "execution_count": 13,
   "metadata": {},
   "outputs": [
    {
     "name": "stdout",
     "output_type": "stream",
     "text": [
      "+-----+------+------+-----------------+\n",
      "|label| count| total|          Percent|\n",
      "+-----+------+------+-----------------+\n",
      "|    0|211859|260753|81.24892139304245|\n",
      "|    1| 48894|260753|18.75107860695754|\n",
      "+-----+------+------+-----------------+\n",
      "\n"
     ]
    }
   ],
   "source": [
    "target_percent.show()"
   ]
  },
  {
   "cell_type": "markdown",
   "metadata": {},
   "source": [
    "##### categorical and nummerical variable in df-final"
   ]
  },
  {
   "cell_type": "code",
   "execution_count": 14,
   "metadata": {},
   "outputs": [
    {
     "name": "stdout",
     "output_type": "stream",
     "text": [
      "cat_cols: ['Field6', 'Field12', 'CoverageField8', 'CoverageField9', 'SalesField7', 'PersonalField7', 'PersonalField16', 'PersonalField17', 'PersonalField18', 'PersonalField19', 'PropertyField3', 'PropertyField4', 'PropertyField5', 'PropertyField7', 'PropertyField14', 'PropertyField28', 'PropertyField30', 'PropertyField31', 'PropertyField32', 'PropertyField33', 'PropertyField34', 'PropertyField36', 'PropertyField37', 'PropertyField38', 'GeographicField63', 'GeographicField64']\n",
      "num_cols: ['QuoteNumber', 'label', 'Field7', 'Field8', 'Field9', 'Field10', 'Field11', 'CoverageField1A', 'CoverageField1B', 'CoverageField2A', 'CoverageField2B', 'CoverageField3A', 'CoverageField3B', 'CoverageField4A', 'CoverageField4B', 'CoverageField5A', 'CoverageField5B', 'CoverageField6A', 'CoverageField6B', 'CoverageField11A', 'CoverageField11B', 'SalesField1A', 'SalesField1B', 'SalesField2A', 'SalesField2B', 'SalesField3', 'SalesField4', 'SalesField5', 'SalesField6', 'SalesField8', 'SalesField9', 'SalesField10', 'SalesField11', 'SalesField12', 'SalesField13', 'SalesField14', 'SalesField15', 'PersonalField1', 'PersonalField2', 'PersonalField4A', 'PersonalField4B', 'PersonalField5', 'PersonalField6', 'PersonalField8', 'PersonalField9', 'PersonalField10A', 'PersonalField10B', 'PersonalField11', 'PersonalField12', 'PersonalField13', 'PersonalField14', 'PersonalField15', 'PersonalField22', 'PersonalField23', 'PersonalField24', 'PersonalField25', 'PersonalField26', 'PersonalField27', 'PersonalField28', 'PersonalField29', 'PersonalField30', 'PersonalField31', 'PersonalField32', 'PersonalField33', 'PersonalField34', 'PersonalField35', 'PersonalField36', 'PersonalField37', 'PersonalField38', 'PersonalField39', 'PersonalField40', 'PersonalField41', 'PersonalField42', 'PersonalField43', 'PersonalField44', 'PersonalField45', 'PersonalField46', 'PersonalField47', 'PersonalField48', 'PersonalField49', 'PersonalField50', 'PersonalField51', 'PersonalField52', 'PersonalField53', 'PersonalField54', 'PersonalField55', 'PersonalField56', 'PersonalField57', 'PersonalField58', 'PersonalField59', 'PersonalField60', 'PersonalField61', 'PersonalField62', 'PersonalField63', 'PersonalField64', 'PersonalField65', 'PersonalField66', 'PersonalField67', 'PersonalField68', 'PersonalField69', 'PersonalField70', 'PersonalField71', 'PersonalField72', 'PersonalField73', 'PersonalField74', 'PersonalField75', 'PersonalField76', 'PersonalField77', 'PersonalField78', 'PersonalField79', 'PersonalField80', 'PersonalField81', 'PersonalField82', 'PersonalField83', 'PersonalField84', 'PropertyField1A', 'PropertyField1B', 'PropertyField2A', 'PropertyField2B', 'PropertyField6', 'PropertyField8', 'PropertyField9', 'PropertyField10', 'PropertyField11A', 'PropertyField11B', 'PropertyField12', 'PropertyField13', 'PropertyField15', 'PropertyField16A', 'PropertyField16B', 'PropertyField17', 'PropertyField18', 'PropertyField19', 'PropertyField20', 'PropertyField21A', 'PropertyField21B', 'PropertyField22', 'PropertyField23', 'PropertyField24A', 'PropertyField24B', 'PropertyField25', 'PropertyField26A', 'PropertyField26B', 'PropertyField27', 'PropertyField29', 'PropertyField35', 'PropertyField39A', 'PropertyField39B', 'GeographicField1A', 'GeographicField1B', 'GeographicField2A', 'GeographicField2B', 'GeographicField3A', 'GeographicField3B', 'GeographicField4A', 'GeographicField4B', 'GeographicField5A', 'GeographicField5B', 'GeographicField6A', 'GeographicField6B', 'GeographicField7A', 'GeographicField7B', 'GeographicField8A', 'GeographicField8B', 'GeographicField9A', 'GeographicField9B', 'GeographicField10A', 'GeographicField10B', 'GeographicField11A', 'GeographicField11B', 'GeographicField12A', 'GeographicField12B', 'GeographicField13A', 'GeographicField13B', 'GeographicField14A', 'GeographicField14B', 'GeographicField15A', 'GeographicField15B', 'GeographicField16A', 'GeographicField16B', 'GeographicField17A', 'GeographicField17B', 'GeographicField18A', 'GeographicField18B', 'GeographicField19A', 'GeographicField19B', 'GeographicField20A', 'GeographicField20B', 'GeographicField21A', 'GeographicField21B', 'GeographicField22A', 'GeographicField22B', 'GeographicField23A', 'GeographicField23B', 'GeographicField24A', 'GeographicField24B', 'GeographicField25A', 'GeographicField25B', 'GeographicField26A', 'GeographicField26B', 'GeographicField27A', 'GeographicField27B', 'GeographicField28A', 'GeographicField28B', 'GeographicField29A', 'GeographicField29B', 'GeographicField30A', 'GeographicField30B', 'GeographicField31A', 'GeographicField31B', 'GeographicField32A', 'GeographicField32B', 'GeographicField33A', 'GeographicField33B', 'GeographicField34A', 'GeographicField34B', 'GeographicField35A', 'GeographicField35B', 'GeographicField36A', 'GeographicField36B', 'GeographicField37A', 'GeographicField37B', 'GeographicField38A', 'GeographicField38B', 'GeographicField39A', 'GeographicField39B', 'GeographicField40A', 'GeographicField40B', 'GeographicField41A', 'GeographicField41B', 'GeographicField42A', 'GeographicField42B', 'GeographicField43A', 'GeographicField43B', 'GeographicField44A', 'GeographicField44B', 'GeographicField45A', 'GeographicField45B', 'GeographicField46A', 'GeographicField46B', 'GeographicField47A', 'GeographicField47B', 'GeographicField48A', 'GeographicField48B', 'GeographicField49A', 'GeographicField49B', 'GeographicField50A', 'GeographicField50B', 'GeographicField51A', 'GeographicField51B', 'GeographicField52A', 'GeographicField52B', 'GeographicField53A', 'GeographicField53B', 'GeographicField54A', 'GeographicField54B', 'GeographicField55A', 'GeographicField55B', 'GeographicField56A', 'GeographicField56B', 'GeographicField57A', 'GeographicField57B', 'GeographicField58A', 'GeographicField58B', 'GeographicField59A', 'GeographicField59B', 'GeographicField60A', 'GeographicField60B', 'GeographicField61A', 'GeographicField61B', 'GeographicField62A', 'GeographicField62B']\n"
     ]
    }
   ],
   "source": [
    "#Categorical and numerical variable\n",
    "#just will select string data type\n",
    "cat_cols = [item[0] for item in df_final.dtypes if item[1].startswith('string')] \n",
    "print(\"cat_cols:\", cat_cols)\n",
    "\n",
    "#just will select integer or double data type\n",
    "num_cols = [item[0] for item in df_final.dtypes if item[1].startswith('int') | item[1].startswith('double')] \n",
    "print(\"num_cols:\", num_cols)"
   ]
  },
  {
   "cell_type": "code",
   "execution_count": 15,
   "metadata": {},
   "outputs": [
    {
     "name": "stdout",
     "output_type": "stream",
     "text": [
      "num_id: QuoteNumber\n",
      "['QuoteNumber']\n",
      "num_cols: ['Field7', 'Field8', 'Field9', 'Field10', 'Field11', 'CoverageField1A', 'CoverageField1B', 'CoverageField2A', 'CoverageField2B', 'CoverageField3A', 'CoverageField3B', 'CoverageField4A', 'CoverageField4B', 'CoverageField5A', 'CoverageField5B', 'CoverageField6A', 'CoverageField6B', 'CoverageField11A', 'CoverageField11B', 'SalesField1A', 'SalesField1B', 'SalesField2A', 'SalesField2B', 'SalesField3', 'SalesField4', 'SalesField5', 'SalesField6', 'SalesField8', 'SalesField9', 'SalesField10', 'SalesField11', 'SalesField12', 'SalesField13', 'SalesField14', 'SalesField15', 'PersonalField1', 'PersonalField2', 'PersonalField4A', 'PersonalField4B', 'PersonalField5', 'PersonalField6', 'PersonalField8', 'PersonalField9', 'PersonalField10A', 'PersonalField10B', 'PersonalField11', 'PersonalField12', 'PersonalField13', 'PersonalField14', 'PersonalField15', 'PersonalField22', 'PersonalField23', 'PersonalField24', 'PersonalField25', 'PersonalField26', 'PersonalField27', 'PersonalField28', 'PersonalField29', 'PersonalField30', 'PersonalField31', 'PersonalField32', 'PersonalField33', 'PersonalField34', 'PersonalField35', 'PersonalField36', 'PersonalField37', 'PersonalField38', 'PersonalField39', 'PersonalField40', 'PersonalField41', 'PersonalField42', 'PersonalField43', 'PersonalField44', 'PersonalField45', 'PersonalField46', 'PersonalField47', 'PersonalField48', 'PersonalField49', 'PersonalField50', 'PersonalField51', 'PersonalField52', 'PersonalField53', 'PersonalField54', 'PersonalField55', 'PersonalField56', 'PersonalField57', 'PersonalField58', 'PersonalField59', 'PersonalField60', 'PersonalField61', 'PersonalField62', 'PersonalField63', 'PersonalField64', 'PersonalField65', 'PersonalField66', 'PersonalField67', 'PersonalField68', 'PersonalField69', 'PersonalField70', 'PersonalField71', 'PersonalField72', 'PersonalField73', 'PersonalField74', 'PersonalField75', 'PersonalField76', 'PersonalField77', 'PersonalField78', 'PersonalField79', 'PersonalField80', 'PersonalField81', 'PersonalField82', 'PersonalField83', 'PersonalField84', 'PropertyField1A', 'PropertyField1B', 'PropertyField2A', 'PropertyField2B', 'PropertyField6', 'PropertyField8', 'PropertyField9', 'PropertyField10', 'PropertyField11A', 'PropertyField11B', 'PropertyField12', 'PropertyField13', 'PropertyField15', 'PropertyField16A', 'PropertyField16B', 'PropertyField17', 'PropertyField18', 'PropertyField19', 'PropertyField20', 'PropertyField21A', 'PropertyField21B', 'PropertyField22', 'PropertyField23', 'PropertyField24A', 'PropertyField24B', 'PropertyField25', 'PropertyField26A', 'PropertyField26B', 'PropertyField27', 'PropertyField29', 'PropertyField35', 'PropertyField39A', 'PropertyField39B', 'GeographicField1A', 'GeographicField1B', 'GeographicField2A', 'GeographicField2B', 'GeographicField3A', 'GeographicField3B', 'GeographicField4A', 'GeographicField4B', 'GeographicField5A', 'GeographicField5B', 'GeographicField6A', 'GeographicField6B', 'GeographicField7A', 'GeographicField7B', 'GeographicField8A', 'GeographicField8B', 'GeographicField9A', 'GeographicField9B', 'GeographicField10A', 'GeographicField10B', 'GeographicField11A', 'GeographicField11B', 'GeographicField12A', 'GeographicField12B', 'GeographicField13A', 'GeographicField13B', 'GeographicField14A', 'GeographicField14B', 'GeographicField15A', 'GeographicField15B', 'GeographicField16A', 'GeographicField16B', 'GeographicField17A', 'GeographicField17B', 'GeographicField18A', 'GeographicField18B', 'GeographicField19A', 'GeographicField19B', 'GeographicField20A', 'GeographicField20B', 'GeographicField21A', 'GeographicField21B', 'GeographicField22A', 'GeographicField22B', 'GeographicField23A', 'GeographicField23B', 'GeographicField24A', 'GeographicField24B', 'GeographicField25A', 'GeographicField25B', 'GeographicField26A', 'GeographicField26B', 'GeographicField27A', 'GeographicField27B', 'GeographicField28A', 'GeographicField28B', 'GeographicField29A', 'GeographicField29B', 'GeographicField30A', 'GeographicField30B', 'GeographicField31A', 'GeographicField31B', 'GeographicField32A', 'GeographicField32B', 'GeographicField33A', 'GeographicField33B', 'GeographicField34A', 'GeographicField34B', 'GeographicField35A', 'GeographicField35B', 'GeographicField36A', 'GeographicField36B', 'GeographicField37A', 'GeographicField37B', 'GeographicField38A', 'GeographicField38B', 'GeographicField39A', 'GeographicField39B', 'GeographicField40A', 'GeographicField40B', 'GeographicField41A', 'GeographicField41B', 'GeographicField42A', 'GeographicField42B', 'GeographicField43A', 'GeographicField43B', 'GeographicField44A', 'GeographicField44B', 'GeographicField45A', 'GeographicField45B', 'GeographicField46A', 'GeographicField46B', 'GeographicField47A', 'GeographicField47B', 'GeographicField48A', 'GeographicField48B', 'GeographicField49A', 'GeographicField49B', 'GeographicField50A', 'GeographicField50B', 'GeographicField51A', 'GeographicField51B', 'GeographicField52A', 'GeographicField52B', 'GeographicField53A', 'GeographicField53B', 'GeographicField54A', 'GeographicField54B', 'GeographicField55A', 'GeographicField55B', 'GeographicField56A', 'GeographicField56B', 'GeographicField57A', 'GeographicField57B', 'GeographicField58A', 'GeographicField58B', 'GeographicField59A', 'GeographicField59B', 'GeographicField60A', 'GeographicField60B', 'GeographicField61A', 'GeographicField61B', 'GeographicField62A', 'GeographicField62B']\n"
     ]
    }
   ],
   "source": [
    "#Select column 'Id' from num_cols\n",
    "num_id=num_cols.pop(0)\n",
    "print(\"num_id:\", num_id)\n",
    "\n",
    "#save column 'Id' in num_id variable\n",
    "num_id=[num_id]\n",
    "#print num_id\n",
    "print(num_id)\n",
    "\n",
    "#Remove column 'label' from numerical columns group\n",
    "num_cols.remove('label') #label is removed because it's the target to validate the model\n",
    "\n",
    "#print num_cols variable\n",
    "print(\"num_cols:\", num_cols)"
   ]
  },
  {
   "cell_type": "code",
   "execution_count": 166,
   "metadata": {},
   "outputs": [
    {
     "data": {
      "text/plain": [
       "260753"
      ]
     },
     "execution_count": 166,
     "metadata": {},
     "output_type": "execute_result"
    }
   ],
   "source": [
    "#count number of observation\n",
    "df_final.count()"
   ]
  },
  {
   "cell_type": "code",
   "execution_count": null,
   "metadata": {
    "collapsed": true
   },
   "outputs": [],
   "source": []
  },
  {
   "cell_type": "markdown",
   "metadata": {},
   "source": [
    "##### Categorical and numerical variables in test_data"
   ]
  },
  {
   "cell_type": "code",
   "execution_count": 16,
   "metadata": {},
   "outputs": [
    {
     "name": "stdout",
     "output_type": "stream",
     "text": [
      "cat_cols_test: ['Field6', 'Field12', 'CoverageField8', 'CoverageField9', 'SalesField7', 'PersonalField7', 'PersonalField16', 'PersonalField17', 'PersonalField18', 'PersonalField19', 'PropertyField3', 'PropertyField4', 'PropertyField5', 'PropertyField7', 'PropertyField14', 'PropertyField28', 'PropertyField30', 'PropertyField31', 'PropertyField32', 'PropertyField33', 'PropertyField34', 'PropertyField36', 'PropertyField37', 'PropertyField38', 'GeographicField63', 'GeographicField64']\n",
      "num_cols_test: ['QuoteNumber', 'Field7', 'Field8', 'Field9', 'Field10', 'Field11', 'CoverageField1A', 'CoverageField1B', 'CoverageField2A', 'CoverageField2B', 'CoverageField3A', 'CoverageField3B', 'CoverageField4A', 'CoverageField4B', 'CoverageField5A', 'CoverageField5B', 'CoverageField6A', 'CoverageField6B', 'CoverageField11A', 'CoverageField11B', 'SalesField1A', 'SalesField1B', 'SalesField2A', 'SalesField2B', 'SalesField3', 'SalesField4', 'SalesField5', 'SalesField6', 'SalesField8', 'SalesField9', 'SalesField10', 'SalesField11', 'SalesField12', 'SalesField13', 'SalesField14', 'SalesField15', 'PersonalField1', 'PersonalField2', 'PersonalField4A', 'PersonalField4B', 'PersonalField5', 'PersonalField6', 'PersonalField8', 'PersonalField9', 'PersonalField10A', 'PersonalField10B', 'PersonalField11', 'PersonalField12', 'PersonalField13', 'PersonalField14', 'PersonalField15', 'PersonalField22', 'PersonalField23', 'PersonalField24', 'PersonalField25', 'PersonalField26', 'PersonalField27', 'PersonalField28', 'PersonalField29', 'PersonalField30', 'PersonalField31', 'PersonalField32', 'PersonalField33', 'PersonalField34', 'PersonalField35', 'PersonalField36', 'PersonalField37', 'PersonalField38', 'PersonalField39', 'PersonalField40', 'PersonalField41', 'PersonalField42', 'PersonalField43', 'PersonalField44', 'PersonalField45', 'PersonalField46', 'PersonalField47', 'PersonalField48', 'PersonalField49', 'PersonalField50', 'PersonalField51', 'PersonalField52', 'PersonalField53', 'PersonalField54', 'PersonalField55', 'PersonalField56', 'PersonalField57', 'PersonalField58', 'PersonalField59', 'PersonalField60', 'PersonalField61', 'PersonalField62', 'PersonalField63', 'PersonalField64', 'PersonalField65', 'PersonalField66', 'PersonalField67', 'PersonalField68', 'PersonalField69', 'PersonalField70', 'PersonalField71', 'PersonalField72', 'PersonalField73', 'PersonalField74', 'PersonalField75', 'PersonalField76', 'PersonalField77', 'PersonalField78', 'PersonalField79', 'PersonalField80', 'PersonalField81', 'PersonalField82', 'PersonalField83', 'PersonalField84', 'PropertyField1A', 'PropertyField1B', 'PropertyField2A', 'PropertyField2B', 'PropertyField6', 'PropertyField8', 'PropertyField9', 'PropertyField10', 'PropertyField11A', 'PropertyField11B', 'PropertyField12', 'PropertyField13', 'PropertyField15', 'PropertyField16A', 'PropertyField16B', 'PropertyField17', 'PropertyField18', 'PropertyField19', 'PropertyField20', 'PropertyField21A', 'PropertyField21B', 'PropertyField22', 'PropertyField23', 'PropertyField24A', 'PropertyField24B', 'PropertyField25', 'PropertyField26A', 'PropertyField26B', 'PropertyField27', 'PropertyField29', 'PropertyField35', 'PropertyField39A', 'PropertyField39B', 'GeographicField1A', 'GeographicField1B', 'GeographicField2A', 'GeographicField2B', 'GeographicField3A', 'GeographicField3B', 'GeographicField4A', 'GeographicField4B', 'GeographicField5A', 'GeographicField5B', 'GeographicField6A', 'GeographicField6B', 'GeographicField7A', 'GeographicField7B', 'GeographicField8A', 'GeographicField8B', 'GeographicField9A', 'GeographicField9B', 'GeographicField10A', 'GeographicField10B', 'GeographicField11A', 'GeographicField11B', 'GeographicField12A', 'GeographicField12B', 'GeographicField13A', 'GeographicField13B', 'GeographicField14A', 'GeographicField14B', 'GeographicField15A', 'GeographicField15B', 'GeographicField16A', 'GeographicField16B', 'GeographicField17A', 'GeographicField17B', 'GeographicField18A', 'GeographicField18B', 'GeographicField19A', 'GeographicField19B', 'GeographicField20A', 'GeographicField20B', 'GeographicField21A', 'GeographicField21B', 'GeographicField22A', 'GeographicField22B', 'GeographicField23A', 'GeographicField23B', 'GeographicField24A', 'GeographicField24B', 'GeographicField25A', 'GeographicField25B', 'GeographicField26A', 'GeographicField26B', 'GeographicField27A', 'GeographicField27B', 'GeographicField28A', 'GeographicField28B', 'GeographicField29A', 'GeographicField29B', 'GeographicField30A', 'GeographicField30B', 'GeographicField31A', 'GeographicField31B', 'GeographicField32A', 'GeographicField32B', 'GeographicField33A', 'GeographicField33B', 'GeographicField34A', 'GeographicField34B', 'GeographicField35A', 'GeographicField35B', 'GeographicField36A', 'GeographicField36B', 'GeographicField37A', 'GeographicField37B', 'GeographicField38A', 'GeographicField38B', 'GeographicField39A', 'GeographicField39B', 'GeographicField40A', 'GeographicField40B', 'GeographicField41A', 'GeographicField41B', 'GeographicField42A', 'GeographicField42B', 'GeographicField43A', 'GeographicField43B', 'GeographicField44A', 'GeographicField44B', 'GeographicField45A', 'GeographicField45B', 'GeographicField46A', 'GeographicField46B', 'GeographicField47A', 'GeographicField47B', 'GeographicField48A', 'GeographicField48B', 'GeographicField49A', 'GeographicField49B', 'GeographicField50A', 'GeographicField50B', 'GeographicField51A', 'GeographicField51B', 'GeographicField52A', 'GeographicField52B', 'GeographicField53A', 'GeographicField53B', 'GeographicField54A', 'GeographicField54B', 'GeographicField55A', 'GeographicField55B', 'GeographicField56A', 'GeographicField56B', 'GeographicField57A', 'GeographicField57B', 'GeographicField58A', 'GeographicField58B', 'GeographicField59A', 'GeographicField59B', 'GeographicField60A', 'GeographicField60B', 'GeographicField61A', 'GeographicField61B', 'GeographicField62A', 'GeographicField62B']\n"
     ]
    }
   ],
   "source": [
    "#Categorical and numerical variable\n",
    "#just will select string data type\n",
    "cat_cols_test = [item[0] for item in test_data.dtypes if item[1].startswith('string')] \n",
    "print(\"cat_cols_test:\", cat_cols_test)\n",
    "\n",
    "#just will select integer or double data type\n",
    "num_cols_test = [item[0] for item in test_data.dtypes if item[1].startswith('int') | item[1].startswith('double')] \n",
    "print(\"num_cols_test:\", num_cols_test)"
   ]
  },
  {
   "cell_type": "code",
   "execution_count": 17,
   "metadata": {},
   "outputs": [
    {
     "name": "stdout",
     "output_type": "stream",
     "text": [
      "num_id_test: QuoteNumber\n",
      "['QuoteNumber']\n",
      "['Field7', 'Field8', 'Field9', 'Field10', 'Field11', 'CoverageField1A', 'CoverageField1B', 'CoverageField2A', 'CoverageField2B', 'CoverageField3A', 'CoverageField3B', 'CoverageField4A', 'CoverageField4B', 'CoverageField5A', 'CoverageField5B', 'CoverageField6A', 'CoverageField6B', 'CoverageField11A', 'CoverageField11B', 'SalesField1A', 'SalesField1B', 'SalesField2A', 'SalesField2B', 'SalesField3', 'SalesField4', 'SalesField5', 'SalesField6', 'SalesField8', 'SalesField9', 'SalesField10', 'SalesField11', 'SalesField12', 'SalesField13', 'SalesField14', 'SalesField15', 'PersonalField1', 'PersonalField2', 'PersonalField4A', 'PersonalField4B', 'PersonalField5', 'PersonalField6', 'PersonalField8', 'PersonalField9', 'PersonalField10A', 'PersonalField10B', 'PersonalField11', 'PersonalField12', 'PersonalField13', 'PersonalField14', 'PersonalField15', 'PersonalField22', 'PersonalField23', 'PersonalField24', 'PersonalField25', 'PersonalField26', 'PersonalField27', 'PersonalField28', 'PersonalField29', 'PersonalField30', 'PersonalField31', 'PersonalField32', 'PersonalField33', 'PersonalField34', 'PersonalField35', 'PersonalField36', 'PersonalField37', 'PersonalField38', 'PersonalField39', 'PersonalField40', 'PersonalField41', 'PersonalField42', 'PersonalField43', 'PersonalField44', 'PersonalField45', 'PersonalField46', 'PersonalField47', 'PersonalField48', 'PersonalField49', 'PersonalField50', 'PersonalField51', 'PersonalField52', 'PersonalField53', 'PersonalField54', 'PersonalField55', 'PersonalField56', 'PersonalField57', 'PersonalField58', 'PersonalField59', 'PersonalField60', 'PersonalField61', 'PersonalField62', 'PersonalField63', 'PersonalField64', 'PersonalField65', 'PersonalField66', 'PersonalField67', 'PersonalField68', 'PersonalField69', 'PersonalField70', 'PersonalField71', 'PersonalField72', 'PersonalField73', 'PersonalField74', 'PersonalField75', 'PersonalField76', 'PersonalField77', 'PersonalField78', 'PersonalField79', 'PersonalField80', 'PersonalField81', 'PersonalField82', 'PersonalField83', 'PersonalField84', 'PropertyField1A', 'PropertyField1B', 'PropertyField2A', 'PropertyField2B', 'PropertyField6', 'PropertyField8', 'PropertyField9', 'PropertyField10', 'PropertyField11A', 'PropertyField11B', 'PropertyField12', 'PropertyField13', 'PropertyField15', 'PropertyField16A', 'PropertyField16B', 'PropertyField17', 'PropertyField18', 'PropertyField19', 'PropertyField20', 'PropertyField21A', 'PropertyField21B', 'PropertyField22', 'PropertyField23', 'PropertyField24A', 'PropertyField24B', 'PropertyField25', 'PropertyField26A', 'PropertyField26B', 'PropertyField27', 'PropertyField29', 'PropertyField35', 'PropertyField39A', 'PropertyField39B', 'GeographicField1A', 'GeographicField1B', 'GeographicField2A', 'GeographicField2B', 'GeographicField3A', 'GeographicField3B', 'GeographicField4A', 'GeographicField4B', 'GeographicField5A', 'GeographicField5B', 'GeographicField6A', 'GeographicField6B', 'GeographicField7A', 'GeographicField7B', 'GeographicField8A', 'GeographicField8B', 'GeographicField9A', 'GeographicField9B', 'GeographicField10A', 'GeographicField10B', 'GeographicField11A', 'GeographicField11B', 'GeographicField12A', 'GeographicField12B', 'GeographicField13A', 'GeographicField13B', 'GeographicField14A', 'GeographicField14B', 'GeographicField15A', 'GeographicField15B', 'GeographicField16A', 'GeographicField16B', 'GeographicField17A', 'GeographicField17B', 'GeographicField18A', 'GeographicField18B', 'GeographicField19A', 'GeographicField19B', 'GeographicField20A', 'GeographicField20B', 'GeographicField21A', 'GeographicField21B', 'GeographicField22A', 'GeographicField22B', 'GeographicField23A', 'GeographicField23B', 'GeographicField24A', 'GeographicField24B', 'GeographicField25A', 'GeographicField25B', 'GeographicField26A', 'GeographicField26B', 'GeographicField27A', 'GeographicField27B', 'GeographicField28A', 'GeographicField28B', 'GeographicField29A', 'GeographicField29B', 'GeographicField30A', 'GeographicField30B', 'GeographicField31A', 'GeographicField31B', 'GeographicField32A', 'GeographicField32B', 'GeographicField33A', 'GeographicField33B', 'GeographicField34A', 'GeographicField34B', 'GeographicField35A', 'GeographicField35B', 'GeographicField36A', 'GeographicField36B', 'GeographicField37A', 'GeographicField37B', 'GeographicField38A', 'GeographicField38B', 'GeographicField39A', 'GeographicField39B', 'GeographicField40A', 'GeographicField40B', 'GeographicField41A', 'GeographicField41B', 'GeographicField42A', 'GeographicField42B', 'GeographicField43A', 'GeographicField43B', 'GeographicField44A', 'GeographicField44B', 'GeographicField45A', 'GeographicField45B', 'GeographicField46A', 'GeographicField46B', 'GeographicField47A', 'GeographicField47B', 'GeographicField48A', 'GeographicField48B', 'GeographicField49A', 'GeographicField49B', 'GeographicField50A', 'GeographicField50B', 'GeographicField51A', 'GeographicField51B', 'GeographicField52A', 'GeographicField52B', 'GeographicField53A', 'GeographicField53B', 'GeographicField54A', 'GeographicField54B', 'GeographicField55A', 'GeographicField55B', 'GeographicField56A', 'GeographicField56B', 'GeographicField57A', 'GeographicField57B', 'GeographicField58A', 'GeographicField58B', 'GeographicField59A', 'GeographicField59B', 'GeographicField60A', 'GeographicField60B', 'GeographicField61A', 'GeographicField61B', 'GeographicField62A', 'GeographicField62B']\n"
     ]
    }
   ],
   "source": [
    "#Select 'Id' from num_cols_test and save in variable called 'num_id_test'\n",
    "num_id_test=num_cols_test.pop(0)\n",
    "print(\"num_id_test:\", num_id_test)\n",
    "\n",
    "#save num_id_test to list called 'num_id_test'\n",
    "num_id_test=[num_id_test]\n",
    "print(num_id_test)\n",
    "print(num_cols_test)"
   ]
  },
  {
   "cell_type": "code",
   "execution_count": 111,
   "metadata": {},
   "outputs": [
    {
     "data": {
      "text/plain": [
       "173836"
      ]
     },
     "execution_count": 111,
     "metadata": {},
     "output_type": "execute_result"
    }
   ],
   "source": [
    "test_data.count()"
   ]
  },
  {
   "cell_type": "code",
   "execution_count": 112,
   "metadata": {},
   "outputs": [
    {
     "data": {
      "text/plain": [
       "(270, 26)"
      ]
     },
     "execution_count": 112,
     "metadata": {},
     "output_type": "execute_result"
    }
   ],
   "source": [
    "len(num_cols_test), len(cat_cols_test)"
   ]
  },
  {
   "cell_type": "code",
   "execution_count": null,
   "metadata": {
    "collapsed": true
   },
   "outputs": [],
   "source": []
  },
  {
   "cell_type": "markdown",
   "metadata": {
    "collapsed": true
   },
   "source": [
    "### Sample data"
   ]
  },
  {
   "cell_type": "code",
   "execution_count": 18,
   "metadata": {
    "collapsed": true
   },
   "outputs": [],
   "source": [
    "ratio=0.1"
   ]
  },
  {
   "cell_type": "code",
   "execution_count": 19,
   "metadata": {
    "collapsed": true
   },
   "outputs": [],
   "source": [
    "df_sample=df_final.sample(False, ratio, 42)"
   ]
  },
  {
   "cell_type": "code",
   "execution_count": 20,
   "metadata": {},
   "outputs": [
    {
     "data": {
      "text/plain": [
       "26239"
      ]
     },
     "execution_count": 20,
     "metadata": {},
     "output_type": "execute_result"
    }
   ],
   "source": [
    "df_sample.count()"
   ]
  },
  {
   "cell_type": "code",
   "execution_count": 21,
   "metadata": {
    "collapsed": true
   },
   "outputs": [],
   "source": [
    "test_sample=test_data.sample(False, ratio, 42)"
   ]
  },
  {
   "cell_type": "code",
   "execution_count": 22,
   "metadata": {},
   "outputs": [
    {
     "data": {
      "text/plain": [
       "17454"
      ]
     },
     "execution_count": 22,
     "metadata": {},
     "output_type": "execute_result"
    }
   ],
   "source": [
    "test_sample.count()"
   ]
  },
  {
   "cell_type": "markdown",
   "metadata": {},
   "source": [
    "### Check Missing Value in data train"
   ]
  },
  {
   "cell_type": "markdown",
   "metadata": {},
   "source": [
    "We are using two method to check missing values:\n",
    "1. Using pandas dataframe\n",
    "2. Using pyspark dataframe\n"
   ]
  },
  {
   "cell_type": "code",
   "execution_count": 23,
   "metadata": {
    "collapsed": true
   },
   "outputs": [],
   "source": [
    "#convert to pandas DataFrame\n",
    "df_pd=df_sample.toPandas()"
   ]
  },
  {
   "cell_type": "code",
   "execution_count": 24,
   "metadata": {
    "collapsed": true
   },
   "outputs": [],
   "source": [
    "#Check Missing value with proportion in Pandas DataFrame\n",
    "\n",
    "def missing_values_table(df_pd):\n",
    "    \"\"\"Input pandas dataframe and Return columns with missing value&percentage and stored as pandas dataframe\"\"\"\n",
    "    mis_val = df_pd.isnull().sum() #count total of null in each columns in dataframe\n",
    "    mis_val_percent = 100 * df_pd.isnull().sum() / len(df_pd) #count percentage of null in each columns\n",
    "    mis_val_table = pd.concat([mis_val, mis_val_percent], axis=1)  #join to left (as column) between mis_val and mis_val_percent and create it as dataframe\n",
    "    mis_val_table_ren_columns = mis_val_table.rename(\n",
    "    columns = {0 : 'Missing Values', 1 : '% of Total Values'}) #rename columns in table, mis_val to Missing Values and mis_val_percent to % of Total Values\n",
    "    mis_val_table_ren_columns = mis_val_table_ren_columns[\n",
    "    mis_val_table_ren_columns.iloc[:,1] != 0].sort_values(\n",
    "    '% of Total Values', ascending=False).round(1)         #sort column % of Total Values descending and round 1 after point(coma)\n",
    "    print (\"Your selected dataframe has \" + str(df_pd.shape[1]) + \" columns.\\n\"    #.shape[1] : just view total columns in dataframe  \n",
    "    \"There are \" + str(mis_val_table_ren_columns.shape[0]) +              \n",
    "    \" columns that have missing values.\") #.shape[0] : just view total rows in dataframe\n",
    "    return mis_val_table_ren_columns"
   ]
  },
  {
   "cell_type": "code",
   "execution_count": 120,
   "metadata": {
    "scrolled": true
   },
   "outputs": [
    {
     "name": "stdout",
     "output_type": "stream",
     "text": [
      "Help on function missing_values_table in module __main__:\n",
      "\n",
      "missing_values_table(df_pd)\n",
      "    Input pandas dataframe and Return columns with missing value&percentage and stored as pandas dataframe\n",
      "\n"
     ]
    }
   ],
   "source": [
    "help(missing_values_table)"
   ]
  },
  {
   "cell_type": "code",
   "execution_count": 176,
   "metadata": {},
   "outputs": [
    {
     "name": "stdout",
     "output_type": "stream",
     "text": [
      "Your selected dataframe has 298 columns.\n",
      "There are 9 columns that have missing values.\n"
     ]
    },
    {
     "data": {
      "text/html": [
       "<div>\n",
       "<style>\n",
       "    .dataframe thead tr:only-child th {\n",
       "        text-align: right;\n",
       "    }\n",
       "\n",
       "    .dataframe thead th {\n",
       "        text-align: left;\n",
       "    }\n",
       "\n",
       "    .dataframe tbody tr th {\n",
       "        vertical-align: top;\n",
       "    }\n",
       "</style>\n",
       "<table border=\"1\" class=\"dataframe\">\n",
       "  <thead>\n",
       "    <tr style=\"text-align: right;\">\n",
       "      <th></th>\n",
       "      <th>Missing Values</th>\n",
       "      <th>% of Total Values</th>\n",
       "    </tr>\n",
       "  </thead>\n",
       "  <tbody>\n",
       "    <tr>\n",
       "      <th>PropertyField29</th>\n",
       "      <td>20199</td>\n",
       "      <td>77.0</td>\n",
       "    </tr>\n",
       "    <tr>\n",
       "      <th>PersonalField84</th>\n",
       "      <td>12515</td>\n",
       "      <td>47.7</td>\n",
       "    </tr>\n",
       "    <tr>\n",
       "      <th>PropertyField38</th>\n",
       "      <td>131</td>\n",
       "      <td>0.5</td>\n",
       "    </tr>\n",
       "    <tr>\n",
       "      <th>PersonalField7</th>\n",
       "      <td>17</td>\n",
       "      <td>0.1</td>\n",
       "    </tr>\n",
       "    <tr>\n",
       "      <th>PropertyField36</th>\n",
       "      <td>17</td>\n",
       "      <td>0.1</td>\n",
       "    </tr>\n",
       "    <tr>\n",
       "      <th>PropertyField3</th>\n",
       "      <td>10</td>\n",
       "      <td>0.0</td>\n",
       "    </tr>\n",
       "    <tr>\n",
       "      <th>PropertyField32</th>\n",
       "      <td>10</td>\n",
       "      <td>0.0</td>\n",
       "    </tr>\n",
       "    <tr>\n",
       "      <th>PropertyField34</th>\n",
       "      <td>10</td>\n",
       "      <td>0.0</td>\n",
       "    </tr>\n",
       "    <tr>\n",
       "      <th>PropertyField4</th>\n",
       "      <td>8</td>\n",
       "      <td>0.0</td>\n",
       "    </tr>\n",
       "  </tbody>\n",
       "</table>\n",
       "</div>"
      ],
      "text/plain": [
       "                 Missing Values  % of Total Values\n",
       "PropertyField29           20199               77.0\n",
       "PersonalField84           12515               47.7\n",
       "PropertyField38             131                0.5\n",
       "PersonalField7               17                0.1\n",
       "PropertyField36              17                0.1\n",
       "PropertyField3               10                0.0\n",
       "PropertyField32              10                0.0\n",
       "PropertyField34              10                0.0\n",
       "PropertyField4                8                0.0"
      ]
     },
     "execution_count": 176,
     "metadata": {},
     "output_type": "execute_result"
    }
   ],
   "source": [
    "a=missing_values_table(df_pd)\n",
    "a"
   ]
  },
  {
   "cell_type": "code",
   "execution_count": 122,
   "metadata": {},
   "outputs": [
    {
     "data": {
      "text/plain": [
       "pandas.core.frame.DataFrame"
      ]
     },
     "execution_count": 122,
     "metadata": {},
     "output_type": "execute_result"
    }
   ],
   "source": [
    "type(a)"
   ]
  },
  {
   "cell_type": "code",
   "execution_count": 25,
   "metadata": {
    "collapsed": true
   },
   "outputs": [],
   "source": [
    "#Check Missing Value in Pyspark Dataframe\n",
    "def count_nulls(c):\n",
    "    \"\"\"Input pyspark dataframe and return list of columns with missing value and it's total value\"\"\"\n",
    "    null_counts = []          #make an empty list to hold our results\n",
    "    for col in c.dtypes:     #iterate through the column data types we saw above, e.g. ('C0', 'bigint')\n",
    "        cname = col[0]        #splits out the column name, e.g. 'C0'    \n",
    "        ctype = col[1]        #splits out the column type, e.g. 'bigint'\n",
    "        nulls = c.where( c[cname].isNull()).count() #check count of null in column name\n",
    "        result = tuple([cname, nulls])  #new tuple, (column name, null count)\n",
    "        null_counts.append(result)      #put the new tuple in our result list\n",
    "    null_counts=[(x,y) for (x,y) in null_counts if y!=0]  #view just columns that have missing values\n",
    "    return null_counts\n"
   ]
  },
  {
   "cell_type": "code",
   "execution_count": 124,
   "metadata": {
    "scrolled": true
   },
   "outputs": [
    {
     "name": "stdout",
     "output_type": "stream",
     "text": [
      "Help on function count_nulls in module __main__:\n",
      "\n",
      "count_nulls(c)\n",
      "    Input pyspark dataframe and return list of columns with missing value and it's total value\n",
      "\n"
     ]
    }
   ],
   "source": [
    "help(count_nulls)"
   ]
  },
  {
   "cell_type": "code",
   "execution_count": 26,
   "metadata": {
    "scrolled": true
   },
   "outputs": [
    {
     "name": "stdout",
     "output_type": "stream",
     "text": [
      "Wall time: 8min 11s\n"
     ]
    },
    {
     "data": {
      "text/plain": [
       "[('PersonalField7', 113),\n",
       " ('PersonalField84', 124208),\n",
       " ('PropertyField3', 81),\n",
       " ('PropertyField4', 63),\n",
       " ('PropertyField29', 200685),\n",
       " ('PropertyField32', 70),\n",
       " ('PropertyField34', 70),\n",
       " ('PropertyField36', 113),\n",
       " ('PropertyField38', 1220)]"
      ]
     },
     "execution_count": 26,
     "metadata": {},
     "output_type": "execute_result"
    }
   ],
   "source": [
    "#Call function count_nulls and apply it to data train (df_final)\n",
    "%time null_counts = count_nulls(df_final)\n",
    "null_counts"
   ]
  },
  {
   "cell_type": "markdown",
   "metadata": {},
   "source": [
    "From function count_nulls above we get information all columns that has missing values with it's numbers and save in list \"null_counts\".\n",
    "\n",
    "From null_counts, we just take information of columns name and save in list \"list_cols_miss\", like in the script below:"
   ]
  },
  {
   "cell_type": "code",
   "execution_count": 27,
   "metadata": {},
   "outputs": [
    {
     "data": {
      "text/plain": [
       "['PersonalField7',\n",
       " 'PersonalField84',\n",
       " 'PropertyField3',\n",
       " 'PropertyField4',\n",
       " 'PropertyField29',\n",
       " 'PropertyField32',\n",
       " 'PropertyField34',\n",
       " 'PropertyField36',\n",
       " 'PropertyField38']"
      ]
     },
     "execution_count": 27,
     "metadata": {},
     "output_type": "execute_result"
    }
   ],
   "source": [
    "#%%time\n",
    "#import time\n",
    "list_cols_miss=[x[0] for x in null_counts]\n",
    "list_cols_miss"
   ]
  },
  {
   "cell_type": "markdown",
   "metadata": {},
   "source": [
    "From list_cols_miss create dataframe called \"df_miss\". The aim is to define categorical and numerical columns which have missing values. \n",
    "As the process of handling missing values will be diffrent betwen  numerical dan categorical variables."
   ]
  },
  {
   "cell_type": "code",
   "execution_count": 28,
   "metadata": {
    "collapsed": true
   },
   "outputs": [],
   "source": [
    "#Create dataframe which just has list_cols_miss\n",
    "df_miss= df_final.select(*list_cols_miss)"
   ]
  },
  {
   "cell_type": "code",
   "execution_count": 29,
   "metadata": {},
   "outputs": [
    {
     "data": {
      "text/plain": [
       "[('PersonalField7', 'string'),\n",
       " ('PersonalField84', 'int'),\n",
       " ('PropertyField3', 'string'),\n",
       " ('PropertyField4', 'string'),\n",
       " ('PropertyField29', 'int'),\n",
       " ('PropertyField32', 'string'),\n",
       " ('PropertyField34', 'string'),\n",
       " ('PropertyField36', 'string'),\n",
       " ('PropertyField38', 'string')]"
      ]
     },
     "execution_count": 29,
     "metadata": {},
     "output_type": "execute_result"
    }
   ],
   "source": [
    "df_miss.dtypes"
   ]
  },
  {
   "cell_type": "markdown",
   "metadata": {},
   "source": [
    "After we create \"df_miss\", we split to categorical and numerical columns which have missing value.\n",
    "for categorical columns we  called \"catcolums_miss\" and for numerical columns we called \"numcolumns_miss\". \n",
    "Like in script below:"
   ]
  },
  {
   "cell_type": "code",
   "execution_count": 30,
   "metadata": {},
   "outputs": [
    {
     "name": "stdout",
     "output_type": "stream",
     "text": [
      "catcolums_miss: ['PersonalField7', 'PropertyField3', 'PropertyField4', 'PropertyField32', 'PropertyField34', 'PropertyField36', 'PropertyField38']\n",
      "numcolumns_miss: ['PersonalField84', 'PropertyField29']\n"
     ]
    }
   ],
   "source": [
    "#Define categorical columns and numerical columns which have missing value.\n",
    "### for categorical columns\n",
    "catcolums_miss=[item[0] for item in df_miss.dtypes if item[1].startswith('string')]  #will select name of column with string data type\n",
    "print(\"catcolums_miss:\", catcolums_miss)\n",
    "\n",
    "### for numerical columns\n",
    "numcolumns_miss = [item[0] for item in df_miss.dtypes if item[1].startswith('int') | item[1].startswith('double')] #will select name of column with integer or double data type\n",
    "print(\"numcolumns_miss:\", numcolumns_miss)\n"
   ]
  },
  {
   "cell_type": "markdown",
   "metadata": {},
   "source": [
    "#### Handle Missing Values\n",
    "So, in this module we will use pyspark dataframe to check missing values.\n",
    "\n",
    "For categorical columns we use most frequent to fill missing values. Therefore we have to count categories which has max values in each columns by counting and sorting descenting each columns in dataframe with no has missing values. Therefore we drop missing values and save in new dataframe called \"df_Nomiss\".\n",
    "For numerical columns we fill missing values with average in it's columns."
   ]
  },
  {
   "cell_type": "code",
   "execution_count": 31,
   "metadata": {
    "collapsed": true
   },
   "outputs": [],
   "source": [
    "#Drop missing value\n",
    "df_Nomiss=df_final.na.drop()"
   ]
  },
  {
   "cell_type": "code",
   "execution_count": 32,
   "metadata": {},
   "outputs": [
    {
     "name": "stdout",
     "output_type": "stream",
     "text": [
      "Wall time: 0 ns\n",
      "PersonalField7 N\n",
      "PropertyField3 N\n",
      "PropertyField4 N\n",
      "PropertyField32 Y\n",
      "PropertyField34 N\n",
      "PropertyField36 N\n",
      "PropertyField38 N\n"
     ]
    }
   ],
   "source": [
    "#fill missing value in categorical variable with most frequent\n",
    "%time\n",
    "for x in catcolums_miss:\n",
    "    mode=df_Nomiss.groupBy(x).count().sort(col(\"count\").desc()).collect()[0][0] #group by based on categories and count each categories and sort descending then take the first value in column\n",
    "    print(x, mode) #print name of columns and it's most categories \n",
    "    df_final = df_final.na.fill({x:mode}) #fill missing value in each columns with most frequent"
   ]
  },
  {
   "cell_type": "code",
   "execution_count": 33,
   "metadata": {},
   "outputs": [
    {
     "name": "stdout",
     "output_type": "stream",
     "text": [
      "PersonalField84 2.0\n",
      "PropertyField29 0.0\n"
     ]
    }
   ],
   "source": [
    "#fill missing value in numerical variable with average\n",
    "for i in numcolumns_miss:\n",
    "    meanvalue = df_final.select(round(mean(i))).collect()[0][0] #calculate average in each numerical column\n",
    "    print(i, meanvalue) #print name of columns and it's average value\n",
    "    df_final=df_final.na.fill({i:meanvalue}) #fill missing value in each columns with it's average value"
   ]
  },
  {
   "cell_type": "code",
   "execution_count": 52,
   "metadata": {},
   "outputs": [
    {
     "name": "stdout",
     "output_type": "stream",
     "text": [
      "Wall time: 8min 41s\n"
     ]
    },
    {
     "data": {
      "text/plain": [
       "[]"
      ]
     },
     "execution_count": 52,
     "metadata": {},
     "output_type": "execute_result"
    }
   ],
   "source": [
    "#Check Missing value after filling\n",
    "\n",
    "%time null_counts = count_nulls(df_final)\n",
    "null_counts"
   ]
  },
  {
   "cell_type": "markdown",
   "metadata": {},
   "source": [
    "Now, output null_counts is null, it's mean no more columns that have missing values."
   ]
  },
  {
   "cell_type": "markdown",
   "metadata": {},
   "source": [
    "### Check Missing Value in data test"
   ]
  },
  {
   "cell_type": "markdown",
   "metadata": {},
   "source": [
    "##### Check missing values Using Pandas Dataframe"
   ]
  },
  {
   "cell_type": "code",
   "execution_count": 34,
   "metadata": {
    "collapsed": true
   },
   "outputs": [],
   "source": [
    "test_pd=test_data.toPandas()"
   ]
  },
  {
   "cell_type": "code",
   "execution_count": 187,
   "metadata": {
    "scrolled": false
   },
   "outputs": [
    {
     "name": "stdout",
     "output_type": "stream",
     "text": [
      "Your selected dataframe has 297 columns.\n",
      "There are 11 columns that have missing values.\n"
     ]
    },
    {
     "data": {
      "text/html": [
       "<div>\n",
       "<style>\n",
       "    .dataframe thead tr:only-child th {\n",
       "        text-align: right;\n",
       "    }\n",
       "\n",
       "    .dataframe thead th {\n",
       "        text-align: left;\n",
       "    }\n",
       "\n",
       "    .dataframe tbody tr th {\n",
       "        vertical-align: top;\n",
       "    }\n",
       "</style>\n",
       "<table border=\"1\" class=\"dataframe\">\n",
       "  <thead>\n",
       "    <tr style=\"text-align: right;\">\n",
       "      <th></th>\n",
       "      <th>Missing Values</th>\n",
       "      <th>% of Total Values</th>\n",
       "    </tr>\n",
       "  </thead>\n",
       "  <tbody>\n",
       "    <tr>\n",
       "      <th>PropertyField29</th>\n",
       "      <td>133945</td>\n",
       "      <td>77.1</td>\n",
       "    </tr>\n",
       "    <tr>\n",
       "      <th>PersonalField84</th>\n",
       "      <td>82812</td>\n",
       "      <td>47.6</td>\n",
       "    </tr>\n",
       "    <tr>\n",
       "      <th>PropertyField38</th>\n",
       "      <td>846</td>\n",
       "      <td>0.5</td>\n",
       "    </tr>\n",
       "    <tr>\n",
       "      <th>PersonalField7</th>\n",
       "      <td>69</td>\n",
       "      <td>0.0</td>\n",
       "    </tr>\n",
       "    <tr>\n",
       "      <th>PropertyField3</th>\n",
       "      <td>69</td>\n",
       "      <td>0.0</td>\n",
       "    </tr>\n",
       "    <tr>\n",
       "      <th>PropertyField36</th>\n",
       "      <td>67</td>\n",
       "      <td>0.0</td>\n",
       "    </tr>\n",
       "    <tr>\n",
       "      <th>PropertyField4</th>\n",
       "      <td>52</td>\n",
       "      <td>0.0</td>\n",
       "    </tr>\n",
       "    <tr>\n",
       "      <th>PropertyField32</th>\n",
       "      <td>41</td>\n",
       "      <td>0.0</td>\n",
       "    </tr>\n",
       "    <tr>\n",
       "      <th>PropertyField34</th>\n",
       "      <td>41</td>\n",
       "      <td>0.0</td>\n",
       "    </tr>\n",
       "    <tr>\n",
       "      <th>PropertyField5</th>\n",
       "      <td>1</td>\n",
       "      <td>0.0</td>\n",
       "    </tr>\n",
       "    <tr>\n",
       "      <th>PropertyField30</th>\n",
       "      <td>1</td>\n",
       "      <td>0.0</td>\n",
       "    </tr>\n",
       "  </tbody>\n",
       "</table>\n",
       "</div>"
      ],
      "text/plain": [
       "                 Missing Values  % of Total Values\n",
       "PropertyField29          133945               77.1\n",
       "PersonalField84           82812               47.6\n",
       "PropertyField38             846                0.5\n",
       "PersonalField7               69                0.0\n",
       "PropertyField3               69                0.0\n",
       "PropertyField36              67                0.0\n",
       "PropertyField4               52                0.0\n",
       "PropertyField32              41                0.0\n",
       "PropertyField34              41                0.0\n",
       "PropertyField5                1                0.0\n",
       "PropertyField30               1                0.0"
      ]
     },
     "execution_count": 187,
     "metadata": {},
     "output_type": "execute_result"
    }
   ],
   "source": [
    "miss=missing_values_table(test_pd)\n",
    "miss"
   ]
  },
  {
   "cell_type": "markdown",
   "metadata": {},
   "source": [
    "##### Check Missing Values Using Pyspark Dataframe\n",
    "We will cleansing missing values in pyspark dataframe."
   ]
  },
  {
   "cell_type": "code",
   "execution_count": 35,
   "metadata": {
    "scrolled": true
   },
   "outputs": [
    {
     "name": "stdout",
     "output_type": "stream",
     "text": [
      "Wall time: 5min 27s\n"
     ]
    },
    {
     "data": {
      "text/plain": [
       "[('PersonalField7', 69),\n",
       " ('PersonalField84', 82812),\n",
       " ('PropertyField3', 69),\n",
       " ('PropertyField4', 52),\n",
       " ('PropertyField5', 1),\n",
       " ('PropertyField29', 133945),\n",
       " ('PropertyField30', 1),\n",
       " ('PropertyField32', 41),\n",
       " ('PropertyField34', 41),\n",
       " ('PropertyField36', 67),\n",
       " ('PropertyField38', 846)]"
      ]
     },
     "execution_count": 35,
     "metadata": {},
     "output_type": "execute_result"
    }
   ],
   "source": [
    "#Call function to count missing values in test_data\n",
    "%time null_test= count_nulls(test_data)\n",
    "null_test"
   ]
  },
  {
   "cell_type": "code",
   "execution_count": 36,
   "metadata": {},
   "outputs": [
    {
     "data": {
      "text/plain": [
       "['PersonalField7',\n",
       " 'PersonalField84',\n",
       " 'PropertyField3',\n",
       " 'PropertyField4',\n",
       " 'PropertyField5',\n",
       " 'PropertyField29',\n",
       " 'PropertyField30',\n",
       " 'PropertyField32',\n",
       " 'PropertyField34',\n",
       " 'PropertyField36',\n",
       " 'PropertyField38']"
      ]
     },
     "execution_count": 36,
     "metadata": {},
     "output_type": "execute_result"
    }
   ],
   "source": [
    "#take just name of columns that have missing values\n",
    "list_miss_test=[x[0] for x in null_test]\n",
    "list_miss_test"
   ]
  },
  {
   "cell_type": "code",
   "execution_count": 37,
   "metadata": {},
   "outputs": [
    {
     "data": {
      "text/plain": [
       "[('PersonalField7', 'string'),\n",
       " ('PersonalField84', 'int'),\n",
       " ('PropertyField3', 'string'),\n",
       " ('PropertyField4', 'string'),\n",
       " ('PropertyField5', 'string'),\n",
       " ('PropertyField29', 'int'),\n",
       " ('PropertyField30', 'string'),\n",
       " ('PropertyField32', 'string'),\n",
       " ('PropertyField34', 'string'),\n",
       " ('PropertyField36', 'string'),\n",
       " ('PropertyField38', 'string')]"
      ]
     },
     "execution_count": 37,
     "metadata": {},
     "output_type": "execute_result"
    }
   ],
   "source": [
    "#Create dataframe which just has list_cols_miss\n",
    "test_miss= test_data.select(*list_miss_test)\n",
    "\n",
    "#view data types in df_miss\n",
    "test_miss.dtypes"
   ]
  },
  {
   "cell_type": "code",
   "execution_count": 38,
   "metadata": {},
   "outputs": [
    {
     "name": "stdout",
     "output_type": "stream",
     "text": [
      "catcolums_miss_test: ['PersonalField7', 'PropertyField3', 'PropertyField4', 'PropertyField5', 'PropertyField30', 'PropertyField32', 'PropertyField34', 'PropertyField36', 'PropertyField38']\n",
      "numcolumns_miss_test: ['PersonalField84', 'PropertyField29']\n"
     ]
    }
   ],
   "source": [
    "#Define categorical columns and numerical columns which have missing value.\n",
    "### for categorical columns\n",
    "catcolums_miss_test=[item[0] for item in test_miss.dtypes if item[1].startswith('string')]  #will select name of column with string data type\n",
    "print(\"catcolums_miss_test:\", catcolums_miss_test)\n",
    "\n",
    "### for numerical columns\n",
    "numcolumns_miss_test = [item[0] for item in test_miss.dtypes if item[1].startswith('int') | item[1].startswith('double')] #will select name of column with integer or double data type\n",
    "print(\"numcolumns_miss_test:\", numcolumns_miss_test)"
   ]
  },
  {
   "cell_type": "markdown",
   "metadata": {},
   "source": [
    "#### Handle Missing Values\n",
    "So, in this module we will use pyspark dataframe to check missing values.\n",
    "\n",
    "For categorical columns we use most frequent to fill missing values. Therefore we have to count categories which has max values in each columns by counting and sorting descenting each columns in dataframe with no has missing values. Therefore we drop missing values and save in new dataframe called \"test_Nomiss\".\n",
    "For numerical columns we fill missing values with average in it's columns."
   ]
  },
  {
   "cell_type": "code",
   "execution_count": 39,
   "metadata": {
    "collapsed": true
   },
   "outputs": [],
   "source": [
    "#Drop missing value\n",
    "test_Nomiss=test_data.na.drop()"
   ]
  },
  {
   "cell_type": "code",
   "execution_count": 40,
   "metadata": {},
   "outputs": [
    {
     "name": "stdout",
     "output_type": "stream",
     "text": [
      "PersonalField7 N\n",
      "PropertyField3 N\n",
      "PropertyField4 N\n",
      "PropertyField5 Y\n",
      "PropertyField30 N\n",
      "PropertyField32 Y\n",
      "PropertyField34 N\n",
      "PropertyField36 N\n",
      "PropertyField38 N\n"
     ]
    }
   ],
   "source": [
    "#fill missing value in categorical variable with most frequent\n",
    "for x in catcolums_miss_test:\n",
    "    mode=test_Nomiss.groupBy(x).count().sort(col(\"count\").desc()).collect()[0][0] #group by based on categories and count each categories and sort descending then take the first value in column\n",
    "    print(x, mode) #print name of columns and it's most categories \n",
    "    test_data = test_data.na.fill({x:mode}) #fill missing value in each columns with most frequent"
   ]
  },
  {
   "cell_type": "code",
   "execution_count": null,
   "metadata": {
    "collapsed": true
   },
   "outputs": [],
   "source": []
  },
  {
   "cell_type": "code",
   "execution_count": 41,
   "metadata": {},
   "outputs": [
    {
     "name": "stdout",
     "output_type": "stream",
     "text": [
      "PersonalField84 2.0\n",
      "PropertyField29 0.0\n"
     ]
    }
   ],
   "source": [
    "#fill missing value in numerical variable with average\n",
    "for i in numcolumns_miss_test:\n",
    "    meanvalue_test = test_data.select(round(mean(i))).collect()[0][0] #calculate average in each numerical column\n",
    "    print(i, meanvalue_test) #print name of columns and it's average value\n",
    "    test_data=test_data.na.fill({i:meanvalue_test}) #fill missing value in each columns with it's average value"
   ]
  },
  {
   "cell_type": "code",
   "execution_count": 142,
   "metadata": {},
   "outputs": [
    {
     "name": "stdout",
     "output_type": "stream",
     "text": [
      "Wall time: 5min 56s\n"
     ]
    },
    {
     "data": {
      "text/plain": [
       "[]"
      ]
     },
     "execution_count": 142,
     "metadata": {},
     "output_type": "execute_result"
    }
   ],
   "source": [
    "#Check Missing value after filling\n",
    "%time null_test = count_nulls(test_data)\n",
    "null_test"
   ]
  },
  {
   "cell_type": "markdown",
   "metadata": {},
   "source": [
    "Now, output null_test is null, it's mean no more columns that have missing values."
   ]
  },
  {
   "cell_type": "markdown",
   "metadata": {},
   "source": [
    "### Compare categorical columns in df_final and test_data\n",
    "\n",
    "In this step, we check whether categories between data train and data test same or not. Categories in data test will be equated with data train."
   ]
  },
  {
   "cell_type": "code",
   "execution_count": 42,
   "metadata": {},
   "outputs": [
    {
     "name": "stdout",
     "output_type": "stream",
     "text": [
      "Wall time: 0 ns\n"
     ]
    }
   ],
   "source": [
    "def check_category2(a1,a2,y):\n",
    "    \"\"\"input are two dataframe you want to compare categorical variables and the colomn category name\"\"\"\n",
    "    print('column:',y)\n",
    "    #distinct1=a1.select([y]).distinct().count() #count distinct column in dataframe1\n",
    "    #distinct2=a2.select([y]).distinct().count() #count distinct column in dataframe2\n",
    "    #if distinct1 == distinct2:\n",
    "    var1=a1.select([y]).distinct() #define distinct category in column in dataframe1\n",
    "    var2=a2.select([y]).distinct() #define distinct category in column in dataframe2\n",
    "    diff2=var2.subtract(var1).collect() #define the different category in dataframe2, return is list\n",
    "    diff2=[r[y] for r in diff2] #just take the values\n",
    "    diff1=var1.subtract(var2).collect() #define the different category in dataframe1, return is list\n",
    "    diff1=[r[y] for r in diff1] #just take the values\n",
    "    if diff1 == diff2:\n",
    "        print('diff2:', diff2)\n",
    "        print('diff1:', diff1)\n",
    "        print('Columns match!!')\n",
    "    else:\n",
    "        if len(diff1)!=0 and len(diff2)==len(diff1):\n",
    "            print('diff2:', diff2)\n",
    "            print('diff1:', diff1)\n",
    "            a2=a2.replace(diff2, diff1, y) #replace the different category in dataframe2 with category in dataframe1\n",
    "            print('Columns match now!!')\n",
    "        else:\n",
    "            if len(diff2)!=len(diff1) and len(diff2)!=0:\n",
    "                print('diff2:', diff2)\n",
    "                print('diff1:', diff1)\n",
    "                dominant1=a1.groupBy(y).count().sort(col(\"count\").desc()).collect()[0][0]\n",
    "                dominant2=a2.groupBy(y).count().sort(col(\"count\").desc()).collect()[0][0] #define category dominant in dataframe2\n",
    "                print('dominant2:', dominant2)\n",
    "                print('dominant1:', dominant1)\n",
    "                a2=a2.replace(diff2, dominant1, y) #replace different category in dataframe2 with dominant category\n",
    "                print('Columns match now!!')\n",
    "            else:     \n",
    "                print('diff1:', diff1)\n",
    "                print('diff2:', diff2)\n",
    "    return a2"
   ]
  },
  {
   "cell_type": "code",
   "execution_count": 43,
   "metadata": {
    "scrolled": false
   },
   "outputs": [
    {
     "name": "stdout",
     "output_type": "stream",
     "text": [
      "column: Field6\n",
      "diff2: []\n",
      "diff1: []\n",
      "Columns match!!\n",
      "column: Field12\n",
      "diff2: []\n",
      "diff1: []\n",
      "Columns match!!\n",
      "column: CoverageField8\n",
      "diff2: []\n",
      "diff1: []\n",
      "Columns match!!\n",
      "column: CoverageField9\n",
      "diff2: []\n",
      "diff1: []\n",
      "Columns match!!\n",
      "column: SalesField7\n",
      "diff2: []\n",
      "diff1: []\n",
      "Columns match!!\n",
      "column: PersonalField7\n",
      "diff2: []\n",
      "diff1: []\n",
      "Columns match!!\n",
      "column: PersonalField16\n",
      "diff2: ['ZM', 'XG', 'YG']\n",
      "diff1: ['XU', 'XN', 'XY', 'ZO', 'ZQ', 'ZV', 'ZL', 'ZS', 'ZP']\n",
      "dominant2: ZA\n",
      "dominant1: ZA\n",
      "Columns match now!!\n",
      "column: PersonalField17\n",
      "diff2: ['XZ', 'XF', 'YO', 'ZJ']\n",
      "diff1: ['XP', 'XY', 'ZR', 'XJ', 'YP', 'XO']\n",
      "dominant2: ZE\n",
      "dominant1: ZE\n",
      "Columns match now!!\n",
      "column: PersonalField18\n",
      "diff2: ['XB']\n",
      "diff1: ['ZG', 'XV', 'ZI', 'XH']\n",
      "dominant2: XR\n",
      "dominant1: XR\n",
      "Columns match now!!\n",
      "column: PersonalField19\n",
      "diff2: ['ZS']\n",
      "diff1: ['XL', 'YI', 'ZC']\n",
      "dominant2: XD\n",
      "dominant1: XD\n",
      "Columns match now!!\n",
      "column: PropertyField3\n",
      "diff2: []\n",
      "diff1: []\n",
      "Columns match!!\n",
      "column: PropertyField4\n",
      "diff2: []\n",
      "diff1: []\n",
      "Columns match!!\n",
      "column: PropertyField5\n",
      "diff2: []\n",
      "diff1: []\n",
      "Columns match!!\n",
      "column: PropertyField7\n",
      "diff2: ['T']\n",
      "diff1: ['B']\n",
      "Columns match now!!\n",
      "column: PropertyField14\n",
      "diff2: []\n",
      "diff1: []\n",
      "Columns match!!\n",
      "column: PropertyField28\n",
      "diff2: []\n",
      "diff1: []\n",
      "Columns match!!\n",
      "column: PropertyField30\n",
      "diff2: []\n",
      "diff1: []\n",
      "Columns match!!\n",
      "column: PropertyField31\n",
      "diff2: []\n",
      "diff1: []\n",
      "Columns match!!\n",
      "column: PropertyField32\n",
      "diff2: []\n",
      "diff1: []\n",
      "Columns match!!\n",
      "column: PropertyField33\n",
      "diff2: []\n",
      "diff1: []\n",
      "Columns match!!\n",
      "column: PropertyField34\n",
      "diff2: []\n",
      "diff1: []\n",
      "Columns match!!\n",
      "column: PropertyField36\n",
      "diff2: []\n",
      "diff1: []\n",
      "Columns match!!\n",
      "column: PropertyField37\n",
      "diff2: [' ']\n",
      "diff1: []\n",
      "dominant2: N\n",
      "dominant1: N\n",
      "Columns match now!!\n",
      "column: PropertyField38\n",
      "diff2: []\n",
      "diff1: []\n",
      "Columns match!!\n",
      "column: GeographicField63\n",
      "diff2: []\n",
      "diff1: []\n",
      "Columns match!!\n",
      "column: GeographicField64\n",
      "diff2: []\n",
      "diff1: []\n",
      "Columns match!!\n"
     ]
    }
   ],
   "source": [
    "#call function to check catgories in data train and test, whether same or not, if not, the different categories will be replaced.\n",
    "for y in cat_cols_test:\n",
    "    test_data=check_category2(df_final,test_data,y)"
   ]
  },
  {
   "cell_type": "markdown",
   "metadata": {},
   "source": [
    "## EDA"
   ]
  },
  {
   "cell_type": "markdown",
   "metadata": {},
   "source": [
    "### Check distribution in each variables\n",
    "Pyspark dataframe has limitation in visualization. Then to create visualization we have to convert pyspark dataframe to pandas dataframe."
   ]
  },
  {
   "cell_type": "code",
   "execution_count": null,
   "metadata": {
    "collapsed": true
   },
   "outputs": [],
   "source": [
    "# convert spark dataframe to pandas for visualization\n",
    "df_pd=df_final.toPandas()"
   ]
  },
  {
   "cell_type": "markdown",
   "metadata": {
    "collapsed": true
   },
   "source": [
    "#### Categorical Variables"
   ]
  },
  {
   "cell_type": "code",
   "execution_count": 132,
   "metadata": {},
   "outputs": [
    {
     "data": {
      "image/png": "[encoded data removed]",
      "text/plain": [
       "<matplotlib.figure.Figure at 0x2080b5cbb70>"
      ]
     },
     "metadata": {},
     "output_type": "display_data"
    }
   ],
   "source": [
    "#Barchart for categorical variable\n",
    "plt.figure(figsize=(20,10))\n",
    "plt.subplot(221)\n",
    "sns.countplot(x='label', data=df_pd, order=df_pd['label'].value_counts().index)\n",
    "plt.title('TARGET', fontsize=15)\n",
    "plt.subplot(222)\n",
    "sns.countplot(y='Field6', data=df_pd, order=df_pd['Field6'].value_counts().index)\n",
    "plt.title('Field6', fontsize=15)\n",
    "plt.subplot(223)\n",
    "sns.countplot(x='Field12', data=df_pd, order=df_pd['Field12'].value_counts().index)\n",
    "plt.title('Field12', fontsize=15)\n",
    "plt.show()"
   ]
  },
  {
   "cell_type": "code",
   "execution_count": 134,
   "metadata": {},
   "outputs": [
    {
     "data": {
      "image/png": "[encoded data removed]",
      "text/plain": [
       "<matplotlib.figure.Figure at 0x2080621b438>"
      ]
     },
     "metadata": {},
     "output_type": "display_data"
    }
   ],
   "source": [
    "#Barchart for categorical variable\n",
    "plt.figure(figsize=(20,10))\n",
    "plt.subplot(221)\n",
    "sns.countplot(y='CoverageField8', data=df_pd, order=df_pd['CoverageField8'].value_counts().index)\n",
    "plt.title('CoverageField8', fontsize=15)\n",
    "plt.subplot(222)\n",
    "sns.countplot(y='CoverageField9', data=df_pd, order=df_pd['CoverageField9'].value_counts().index)\n",
    "plt.title('CoverageField9', fontsize=15)\n",
    "plt.subplot(223)\n",
    "sns.countplot(y='SalesField7', data=df_pd, order=df_pd['SalesField7'].value_counts().index)\n",
    "plt.title('SalesField7', fontsize=15)\n",
    "plt.show()"
   ]
  },
  {
   "cell_type": "code",
   "execution_count": 136,
   "metadata": {},
   "outputs": [
    {
     "data": {
      "image/png": "[encoded data removed]",
      "text/plain": [
       "<matplotlib.figure.Figure at 0x20819dfd5f8>"
      ]
     },
     "metadata": {},
     "output_type": "display_data"
    }
   ],
   "source": [
    "#Barchart for categorical variable\n",
    "plt.figure(figsize=(20,10))\n",
    "plt.subplot(221)\n",
    "sns.countplot(x='PersonalField7', data=df_pd, order=df_pd['PersonalField7'].value_counts().index)\n",
    "plt.title('PersonalField7', fontsize=15)\n",
    "plt.subplot(222)\n",
    "sns.countplot(y='PersonalField16', data=df_pd, order=df_pd['PersonalField16'].value_counts().index)\n",
    "plt.title('PersonalField16', fontsize=15)\n",
    "plt.subplot(223)\n",
    "sns.countplot(y='PersonalField17', data=df_pd, order=df_pd['PersonalField17'].value_counts().index)\n",
    "plt.title('PersonalField17', fontsize=15)\n",
    "plt.show()"
   ]
  },
  {
   "cell_type": "code",
   "execution_count": 139,
   "metadata": {},
   "outputs": [
    {
     "data": {
      "image/png": "[encoded data removed]",
      "text/plain": [
       "<matplotlib.figure.Figure at 0x2080d468b00>"
      ]
     },
     "metadata": {},
     "output_type": "display_data"
    }
   ],
   "source": [
    "#Barchart for categorical variable\n",
    "plt.figure(figsize=(20,10))\n",
    "plt.subplot(221)\n",
    "sns.countplot(y='PersonalField18', data=df_pd, order=df_pd['PersonalField18'].value_counts().index)\n",
    "plt.title('PersonalField18', fontsize=15)\n",
    "plt.subplot(222)\n",
    "sns.countplot(y='PersonalField19', data=df_pd, order=df_pd['PersonalField19'].value_counts().index)\n",
    "plt.title('PersonalField19', fontsize=15)\n",
    "plt.subplot(223)\n",
    "sns.countplot(x='PropertyField3', data=df_pd, order=df_pd['PropertyField3'].value_counts().index)\n",
    "plt.title('PropertyField3', fontsize=15)\n",
    "plt.show()"
   ]
  },
  {
   "cell_type": "code",
   "execution_count": null,
   "metadata": {
    "collapsed": true
   },
   "outputs": [],
   "source": []
  },
  {
   "cell_type": "code",
   "execution_count": null,
   "metadata": {
    "collapsed": true
   },
   "outputs": [],
   "source": []
  },
  {
   "cell_type": "code",
   "execution_count": null,
   "metadata": {
    "collapsed": true
   },
   "outputs": [],
   "source": []
  },
  {
   "cell_type": "code",
   "execution_count": null,
   "metadata": {
    "collapsed": true
   },
   "outputs": [],
   "source": []
  },
  {
   "cell_type": "code",
   "execution_count": null,
   "metadata": {
    "collapsed": true
   },
   "outputs": [],
   "source": []
  },
  {
   "cell_type": "markdown",
   "metadata": {},
   "source": [
    "#### Categorical vs Target visualization"
   ]
  },
  {
   "cell_type": "code",
   "execution_count": 140,
   "metadata": {},
   "outputs": [
    {
     "data": {
      "image/png": "[encoded data removed]",
      "text/plain": [
       "<matplotlib.figure.Figure at 0x20819c99da0>"
      ]
     },
     "metadata": {},
     "output_type": "display_data"
    },
    {
     "data": {
      "image/png": "[encoded data removed]",
      "text/plain": [
       "<matplotlib.figure.Figure at 0x2081636d978>"
      ]
     },
     "metadata": {},
     "output_type": "display_data"
    }
   ],
   "source": [
    "\n",
    "pd.crosstab(df_pd['Field6'], df_pd['label'], normalize='index').plot.bar(rot=0, stacked=True,\n",
    "            color=['green', 'red'], figsize=(4,4), title=\"Field6 VS label\")\n",
    "plt.legend(loc='upper right', bbox_to_anchor=(1.2, 1))\n",
    "\n",
    "\n",
    "pd.crosstab(df_pd['Field12'], df_pd['label'], normalize='index').plot.bar(rot=0, stacked=True,                            \n",
    "            color=['green', 'red'], figsize=(4,4), title=\"Field12 VS label\")\n",
    "plt.legend(loc='upper right', bbox_to_anchor=(1.2, 1))\n",
    "plt.show()"
   ]
  },
  {
   "cell_type": "markdown",
   "metadata": {},
   "source": []
  },
  {
   "cell_type": "code",
   "execution_count": 141,
   "metadata": {},
   "outputs": [
    {
     "data": {
      "image/png": "[encoded data removed]",
      "text/plain": [
       "<matplotlib.figure.Figure at 0x20805d9a0f0>"
      ]
     },
     "metadata": {},
     "output_type": "display_data"
    },
    {
     "data": {
      "image/png": "[encoded data removed]",
      "text/plain": [
       "<matplotlib.figure.Figure at 0x20829c6dcf8>"
      ]
     },
     "metadata": {},
     "output_type": "display_data"
    }
   ],
   "source": [
    "\n",
    "pd.crosstab(df_pd['CoverageField8'], df_pd['label'], normalize='index').plot.bar(rot=0, stacked=True,\n",
    "            color=['green', 'red'], figsize=(4,4), title=\"CoverageField8 VS label\")\n",
    "plt.legend(loc='upper right', bbox_to_anchor=(1.2, 1))\n",
    "\n",
    "\n",
    "pd.crosstab(df_pd['CoverageField9'], df_pd['label'], normalize='index').plot.bar(rot=0, stacked=True,                            \n",
    "            color=['green', 'red'], figsize=(4,4), title=\"CoverageField9 VS label\")\n",
    "plt.legend(loc='upper right', bbox_to_anchor=(1.2, 1))\n",
    "plt.show()"
   ]
  },
  {
   "cell_type": "markdown",
   "metadata": {},
   "source": []
  },
  {
   "cell_type": "code",
   "execution_count": 142,
   "metadata": {},
   "outputs": [
    {
     "data": {
      "image/png": "[encoded data removed]",
      "text/plain": [
       "<matplotlib.figure.Figure at 0x20825f1cc50>"
      ]
     },
     "metadata": {},
     "output_type": "display_data"
    },
    {
     "data": {
      "image/png": "[encoded data removed]",
      "text/plain": [
       "<matplotlib.figure.Figure at 0x20809a21d68>"
      ]
     },
     "metadata": {},
     "output_type": "display_data"
    }
   ],
   "source": [
    "\n",
    "pd.crosstab(df_pd['SalesField7'], df_pd['label'], normalize='index').plot.bar(rot=0, stacked=True,\n",
    "            color=['green', 'red'], figsize=(4,4), title=\"SalesField7 VS label\")\n",
    "plt.legend(loc='upper right', bbox_to_anchor=(1.2, 1))\n",
    "\n",
    "\n",
    "pd.crosstab(df_pd['PersonalField7'], df_pd['label'], normalize='index').plot.bar(rot=0, stacked=True,                            \n",
    "            color=['green', 'red'], figsize=(4,4), title=\"PersonalField7 VS label\")\n",
    "plt.legend(loc='upper right', bbox_to_anchor=(1.2, 1))\n",
    "plt.show()"
   ]
  },
  {
   "cell_type": "markdown",
   "metadata": {},
   "source": []
  },
  {
   "cell_type": "markdown",
   "metadata": {},
   "source": [
    "###### Insignificant Categories in Data train\n",
    "\n",
    "From visualization above we can see, there are much categories with minimal number let's say under 0.7 per cent from total observations 260753. Those minimal numbers of categories called insignificant categories and will replace with the largest numbers of catories in each categorical columns.\n"
   ]
  },
  {
   "cell_type": "code",
   "execution_count": 44,
   "metadata": {
    "collapsed": true
   },
   "outputs": [],
   "source": [
    "threshold=98\n",
    "threshold2=0.7"
   ]
  },
  {
   "cell_type": "code",
   "execution_count": 45,
   "metadata": {
    "collapsed": true
   },
   "outputs": [],
   "source": [
    "def replace_cat2(f,cols):\n",
    "    \"\"\"input are dataframe and categorical variables, replace insignificant categories (percentage <=0.7) with largest number\n",
    "    of catgories and output is new dataframe \"\"\"\n",
    "    df_percent=f.groupBy(cols).count().sort(col(\"count\").desc())\\\n",
    "                .withColumn('total',sum(col('count')).over(window))\\\n",
    "                .withColumn('Percent',col('count')*100/col('total')) #calculate the percentage-save in Percent columns from each categories\n",
    "    dominant_cat=df_percent.select(df_percent['Percent']).collect()[0][0] #calculate the highest percentage of category\n",
    "    count_dist=f.select([cols]).distinct().count() #calculate distinct values in that columns\n",
    "    if count_dist > 2 and dominant_cat <= threshold :\n",
    "        print('column:', cols)\n",
    "        cols_names.append(cols)  #combine with previous list\n",
    "        replacement=f.groupBy(cols).count().sort(col(\"count\").desc()).collect()[0][0] #define dominant category \n",
    "        print(\"replacement:\",replacement)\n",
    "        replacing.append(replacement) #combine with previous list\n",
    "        insign_cat=df_percent.filter(df_percent['Percent']< threshold2).select(df_percent[cols]).collect() #calculate insignificant categories\n",
    "        insign_cat=[r[cols] for r in insign_cat] #just take the values\n",
    "        category.append(insign_cat) #combine with previous list\n",
    "        print(\"insign_cat:\",insign_cat)\n",
    "        f=f.replace(insign_cat,replacement, cols) #replace insignificant categories with dominant categories\n",
    "    return f"
   ]
  },
  {
   "cell_type": "code",
   "execution_count": 198,
   "metadata": {},
   "outputs": [
    {
     "name": "stdout",
     "output_type": "stream",
     "text": [
      "+------+-----+------+--------------------+\n",
      "|Field6|count| total|             Percent|\n",
      "+------+-----+------+--------------------+\n",
      "|     B|94694|260753|  36.315593684444664|\n",
      "|     F|69053|260753|  26.482149773923982|\n",
      "|     J|51782|260753|   19.85864016904887|\n",
      "|     E|26063|260753|   9.995282892239015|\n",
      "|     K|13226|260753|   5.072233109494426|\n",
      "|     C| 5660|260753|   2.170636579444915|\n",
      "|     D|  240|260753| 0.09204112704360065|\n",
      "|     A|   35|260753|0.013422664360525095|\n",
      "+------+-----+------+--------------------+\n",
      "\n"
     ]
    }
   ],
   "source": [
    "df_percent=df_final.groupBy('Field6').count().sort(col(\"count\").desc())\\\n",
    "                    .withColumn('total',sum(col('count')).over(window))\\\n",
    "                    .withColumn('Percent',col('count')*100/col('total')) #calculate the percentage-save in Percent columns from each categories\n",
    "df_percent.show()\n",
    "#dominant_cat=df_percent.select(df_percent['Percent']).collect()[0][0]\n",
    "#dominant_cat"
   ]
  },
  {
   "cell_type": "code",
   "execution_count": 46,
   "metadata": {},
   "outputs": [
    {
     "name": "stdout",
     "output_type": "stream",
     "text": [
      "column: Field6\n",
      "replacement: B\n",
      "insign_cat: ['D', 'A']\n",
      "column: CoverageField8\n",
      "replacement: Y\n",
      "insign_cat: ['Z', 'U', 'V', 'W']\n",
      "column: CoverageField9\n",
      "replacement: E\n",
      "insign_cat: ['B', 'I', 'H', 'C', 'L']\n",
      "column: SalesField7\n",
      "replacement: K\n",
      "insign_cat: []\n",
      "column: PersonalField16\n",
      "replacement: ZA\n",
      "insign_cat: ['XC', 'ZK', 'XI', 'ZD', 'ZE', 'XZ', 'ZJ', 'XL', 'XP', 'ZU', 'YI', 'XK', 'XF', 'ZB', 'XN', 'XT', 'ZI', 'XU', 'XY', 'ZO', 'ZQ', 'ZV', 'XV', 'ZL', 'ZS', 'ZP']\n",
      "column: PersonalField17\n",
      "replacement: ZE\n",
      "insign_cat: ['YU', 'YS', 'YL', 'XH', 'ZL', 'ZW', 'XB', 'XW', 'XL', 'ZS', 'YK', 'YX', 'ZN', 'ZO', 'ZG', 'ZC', 'ZP', 'YI', 'XT', 'XN', 'ZU', 'XC', 'YM', 'XI', 'XQ', 'XX', 'YT', 'ZM', 'YE', 'ZT', 'YZ', 'ZA', 'YQ', 'ZD', 'YW', 'YG', 'XD', 'ZR', 'YP', 'XM', 'XP', 'XY', 'XJ', 'ZB', 'XO']\n",
      "column: PersonalField18\n",
      "replacement: XR\n",
      "insign_cat: ['XK', 'XW', 'ZD', 'XO', 'ZL', 'XP', 'ZJ', 'ZF', 'YK', 'XN', 'ZV', 'ZQ', 'ZT', 'XY', 'XJ', 'XS', 'YL', 'XC', 'ZK', 'ZE', 'ZA', 'XT', 'ZU', 'ZR', 'XL', 'XI', 'ZO', 'XM', 'YH', 'XE', 'YR', 'ZC', 'YO', 'ZS', 'XG', 'ZM', 'YJ', 'YM', 'XD', 'XX', 'XV', 'ZB', 'ZG', 'ZI', 'XH']\n",
      "column: PersonalField19\n",
      "replacement: XD\n",
      "insign_cat: ['ZO', 'XT', 'ZA', 'YG', 'XZ', 'XY', 'ZJ', 'ZB', 'XF', 'YK', 'ZW', 'YE', 'XP', 'XN', 'XW', 'ZI', 'XI', 'YL', 'XM', 'YN', 'ZL', 'ZE', 'ZH', 'ZK', 'XJ', 'ZG', 'XV', 'ZF', 'XR', 'ZP', 'XK', 'YM', 'XB', 'ZM', 'ZR', 'ZU', 'XE', 'ZD', 'XO', 'XQ', 'XG', 'XH', 'YI', 'XL', 'ZC', 'XS']\n",
      "column: PropertyField7\n",
      "replacement: O\n",
      "insign_cat: ['K', 'H', 'E', 'L', 'F', 'G', 'M', 'P', 'C', 'B']\n",
      "column: PropertyField14\n",
      "replacement: C\n",
      "insign_cat: ['D']\n",
      "column: PropertyField28\n",
      "replacement: B\n",
      "insign_cat: ['C']\n",
      "column: PropertyField31\n",
      "replacement: O\n",
      "insign_cat: []\n",
      "column: PropertyField33\n",
      "replacement: H\n",
      "insign_cat: []\n",
      "column: GeographicField63\n",
      "replacement: N\n",
      "insign_cat: [' ']\n",
      "column: GeographicField64\n",
      "replacement: CA\n",
      "insign_cat: []\n"
     ]
    }
   ],
   "source": [
    "#call function replacing insignificant categories \n",
    "replacing=[]\n",
    "cols_names=[]\n",
    "category=[]\n",
    "for cols in cat_cols:\n",
    "    df_final=replace_cat2(df_final,cols)"
   ]
  },
  {
   "cell_type": "code",
   "execution_count": 200,
   "metadata": {},
   "outputs": [
    {
     "name": "stdout",
     "output_type": "stream",
     "text": [
      "+---------------+------+------+------------------+\n",
      "|PersonalField17| count| total|           Percent|\n",
      "+---------------+------+------+------------------+\n",
      "|             ZE|143089|260753| 54.87530344809072|\n",
      "|             XV| 20857|260753|7.9987574447849115|\n",
      "|             XS| 15733|260753| 6.033679382404038|\n",
      "|             YY| 12619|260753| 4.839445759013319|\n",
      "|             ZK| 10780|260753| 4.134180623041729|\n",
      "|             ZH|  6925|260753|2.6557700199038936|\n",
      "|             XE|  5978|260753|2.2925910727776864|\n",
      "|             XG|  5667|260753|  2.17332111231702|\n",
      "|             YV|  4937|260753|1.8933626842260682|\n",
      "|             ZF|  4180|260753|1.6030496293427112|\n",
      "|             YJ|  3946|260753|1.5133095304752007|\n",
      "|             ZQ|  3695|260753| 1.417049851775435|\n",
      "|             YH|  3045|260753|1.1677717993656833|\n",
      "|             ZI|  2923|260753|1.1209842264518528|\n",
      "|             YF|  2729|260753|1.0465843154249423|\n",
      "|             YR|  2547|260753|0.9767864607502119|\n",
      "|             YN|  2495|260753|0.9568442165574318|\n",
      "|             XR|  2446|260753|0.9380524864526966|\n",
      "|             XK|  2290|260753|0.8782257538743562|\n",
      "|             ZV|  1998|260753|0.7662423826379754|\n",
      "+---------------+------+------+------------------+\n",
      "only showing top 20 rows\n",
      "\n"
     ]
    }
   ],
   "source": [
    "df_percent=df_final.groupBy('PersonalField17').count().sort(col(\"count\").desc())\\\n",
    "                    .withColumn('total',sum(col('count')).over(window))\\\n",
    "                    .withColumn('Percent',col('count')*100/col('total')) #calculate the percentage-save in Percent columns from each categories\n",
    "df_percent.show()"
   ]
  },
  {
   "cell_type": "code",
   "execution_count": 75,
   "metadata": {},
   "outputs": [
    {
     "data": {
      "text/plain": [
       "pyspark.sql.dataframe.DataFrame"
      ]
     },
     "execution_count": 75,
     "metadata": {},
     "output_type": "execute_result"
    }
   ],
   "source": [
    "type(df_final)"
   ]
  },
  {
   "cell_type": "code",
   "execution_count": 47,
   "metadata": {},
   "outputs": [
    {
     "data": {
      "text/plain": [
       "(15, 15, 15)"
      ]
     },
     "execution_count": 47,
     "metadata": {},
     "output_type": "execute_result"
    }
   ],
   "source": [
    "#check length in list cols_names, category and replacing\n",
    "len(cols_names), len(category), len(replacing)"
   ]
  },
  {
   "cell_type": "markdown",
   "metadata": {},
   "source": [
    "From **replace_cat2** function above we got 3 list,  are:\n",
    "1. list of columns, actually this list same with list categorical columns --> cols_names\n",
    "2. list of replaced categories --> category\n",
    "3. list of replacing categories --> replacing\n",
    "\n",
    "Those three list will be created into dataframe called **g**."
   ]
  },
  {
   "cell_type": "code",
   "execution_count": 48,
   "metadata": {},
   "outputs": [
    {
     "name": "stdout",
     "output_type": "stream",
     "text": [
      "+---------------+---------+--------------------+\n",
      "|     cols_names|replacing|            category|\n",
      "+---------------+---------+--------------------+\n",
      "|         Field6|        B|              [D, A]|\n",
      "| CoverageField8|        Y|        [Z, U, V, W]|\n",
      "| CoverageField9|        E|     [B, I, H, C, L]|\n",
      "|    SalesField7|        K|                  []|\n",
      "|PersonalField16|       ZA|[XC, ZK, XI, ZD, ...|\n",
      "|PersonalField17|       ZE|[YU, YS, YL, XH, ...|\n",
      "|PersonalField18|       XR|[XK, XW, ZD, XO, ...|\n",
      "|PersonalField19|       XD|[ZO, XT, ZA, YG, ...|\n",
      "| PropertyField7|        O|[K, H, E, L, F, G...|\n",
      "+---------------+---------+--------------------+\n",
      "only showing top 9 rows\n",
      "\n"
     ]
    }
   ],
   "source": [
    "#Create dataframe of replaced categories\n",
    "g=spark.createDataFrame(list(zip(cols_names, replacing, category)),['cols_names', 'replacing', 'category'])\n",
    "g.show(9)"
   ]
  },
  {
   "cell_type": "code",
   "execution_count": 205,
   "metadata": {},
   "outputs": [
    {
     "data": {
      "text/plain": [
       "[('cols_names', 'string'),\n",
       " ('replacing', 'string'),\n",
       " ('category', 'array<string>')]"
      ]
     },
     "execution_count": 205,
     "metadata": {},
     "output_type": "execute_result"
    }
   ],
   "source": [
    "g.dtypes"
   ]
  },
  {
   "cell_type": "code",
   "execution_count": 206,
   "metadata": {},
   "outputs": [
    {
     "name": "stdout",
     "output_type": "stream",
     "text": [
      "root\n",
      " |-- cols_names: string (nullable = true)\n",
      " |-- replacing: string (nullable = true)\n",
      " |-- category: array (nullable = true)\n",
      " |    |-- element: string (containsNull = true)\n",
      "\n"
     ]
    }
   ],
   "source": [
    "g.printSchema()"
   ]
  },
  {
   "cell_type": "code",
   "execution_count": 49,
   "metadata": {
    "collapsed": true
   },
   "outputs": [],
   "source": [
    "f_percent=df_final.groupBy('CoverageField8').count().sort(col(\"count\").desc())\\\n",
    "                       .withColumn('total',sum(col('count')).over(window))\\\n",
    "                       .withColumn('Percent',col('count')*100/col('total'))"
   ]
  },
  {
   "cell_type": "code",
   "execution_count": 50,
   "metadata": {
    "scrolled": false
   },
   "outputs": [
    {
     "name": "stdout",
     "output_type": "stream",
     "text": [
      "+--------------+------+------+------------------+\n",
      "|CoverageField8| count| total|           Percent|\n",
      "+--------------+------+------+------------------+\n",
      "|             Y|145350|260753|55.742407565780645|\n",
      "|             T| 93778|260753|35.964303382894926|\n",
      "|             X| 21625|260753| 8.293289051324434|\n",
      "+--------------+------+------+------------------+\n",
      "\n"
     ]
    }
   ],
   "source": [
    "f_percent.show()"
   ]
  },
  {
   "cell_type": "markdown",
   "metadata": {},
   "source": [
    "### Replacing Insignificant Categories in data test"
   ]
  },
  {
   "cell_type": "markdown",
   "metadata": {},
   "source": [
    "We already have a dataframe containing any categories that need to be replaced, we got it when the process of replacing the insignificant categories in the data train, the data frame is called **g**. \n",
    "Based on those information, insignificant categories on data test will be replaced."
   ]
  },
  {
   "cell_type": "code",
   "execution_count": 51,
   "metadata": {
    "scrolled": true
   },
   "outputs": [
    {
     "name": "stdout",
     "output_type": "stream",
     "text": [
      "+-----------------+---------+--------------------+\n",
      "|       cols_names|replacing|            category|\n",
      "+-----------------+---------+--------------------+\n",
      "|           Field6|        B|              [D, A]|\n",
      "|   CoverageField8|        Y|        [Z, U, V, W]|\n",
      "|   CoverageField9|        E|     [B, I, H, C, L]|\n",
      "|      SalesField7|        K|                  []|\n",
      "|  PersonalField16|       ZA|[XC, ZK, XI, ZD, ...|\n",
      "|  PersonalField17|       ZE|[YU, YS, YL, XH, ...|\n",
      "|  PersonalField18|       XR|[XK, XW, ZD, XO, ...|\n",
      "|  PersonalField19|       XD|[ZO, XT, ZA, YG, ...|\n",
      "|   PropertyField7|        O|[K, H, E, L, F, G...|\n",
      "|  PropertyField14|        C|                 [D]|\n",
      "|  PropertyField28|        B|                 [C]|\n",
      "|  PropertyField31|        O|                  []|\n",
      "|  PropertyField33|        H|                  []|\n",
      "|GeographicField63|        N|                 [ ]|\n",
      "|GeographicField64|       CA|                  []|\n",
      "+-----------------+---------+--------------------+\n",
      "\n"
     ]
    }
   ],
   "source": [
    "#view g dataframe\n",
    "g.show(15)"
   ]
  },
  {
   "cell_type": "code",
   "execution_count": 52,
   "metadata": {},
   "outputs": [
    {
     "name": "stdout",
     "output_type": "stream",
     "text": [
      "cols_names: Field6\n",
      "replacement_cat: B\n",
      "insignificant_cat: ['D', 'A']\n",
      "cols_names: CoverageField8\n",
      "replacement_cat: Y\n",
      "insignificant_cat: ['Z', 'U', 'V', 'W']\n",
      "cols_names: CoverageField9\n",
      "replacement_cat: E\n",
      "insignificant_cat: ['B', 'I', 'H', 'C', 'L']\n",
      "cols_names: SalesField7\n",
      "replacement_cat: K\n",
      "insignificant_cat: []\n",
      "cols_names: PersonalField16\n",
      "replacement_cat: ZA\n",
      "insignificant_cat: ['XC', 'ZK', 'XI', 'ZD', 'ZE', 'XZ', 'ZJ', 'XL', 'XP', 'ZU', 'YI', 'XK', 'XF', 'ZB', 'XN', 'XT', 'ZI', 'XU', 'XY', 'ZO', 'ZQ', 'ZV', 'XV', 'ZL', 'ZS', 'ZP']\n",
      "cols_names: PersonalField17\n",
      "replacement_cat: ZE\n",
      "insignificant_cat: ['YU', 'YS', 'YL', 'XH', 'ZL', 'ZW', 'XB', 'XW', 'XL', 'ZS', 'YK', 'YX', 'ZN', 'ZO', 'ZG', 'ZC', 'ZP', 'YI', 'XT', 'XN', 'ZU', 'XC', 'YM', 'XI', 'XQ', 'XX', 'YT', 'ZM', 'YE', 'ZT', 'YZ', 'ZA', 'YQ', 'ZD', 'YW', 'YG', 'XD', 'ZR', 'YP', 'XM', 'XP', 'XY', 'XJ', 'ZB', 'XO']\n",
      "cols_names: PersonalField18\n",
      "replacement_cat: XR\n",
      "insignificant_cat: ['XK', 'XW', 'ZD', 'XO', 'ZL', 'XP', 'ZJ', 'ZF', 'YK', 'XN', 'ZV', 'ZQ', 'ZT', 'XY', 'XJ', 'XS', 'YL', 'XC', 'ZK', 'ZE', 'ZA', 'XT', 'ZU', 'ZR', 'XL', 'XI', 'ZO', 'XM', 'YH', 'XE', 'YR', 'ZC', 'YO', 'ZS', 'XG', 'ZM', 'YJ', 'YM', 'XD', 'XX', 'XV', 'ZB', 'ZG', 'ZI', 'XH']\n",
      "cols_names: PersonalField19\n",
      "replacement_cat: XD\n",
      "insignificant_cat: ['ZO', 'XT', 'ZA', 'YG', 'XZ', 'XY', 'ZJ', 'ZB', 'XF', 'YK', 'ZW', 'YE', 'XP', 'XN', 'XW', 'ZI', 'XI', 'YL', 'XM', 'YN', 'ZL', 'ZE', 'ZH', 'ZK', 'XJ', 'ZG', 'XV', 'ZF', 'XR', 'ZP', 'XK', 'YM', 'XB', 'ZM', 'ZR', 'ZU', 'XE', 'ZD', 'XO', 'XQ', 'XG', 'XH', 'YI', 'XL', 'ZC', 'XS']\n",
      "cols_names: PropertyField7\n",
      "replacement_cat: O\n",
      "insignificant_cat: ['K', 'H', 'E', 'L', 'F', 'G', 'M', 'P', 'C', 'B']\n",
      "cols_names: PropertyField14\n",
      "replacement_cat: C\n",
      "insignificant_cat: ['D']\n",
      "cols_names: PropertyField28\n",
      "replacement_cat: B\n",
      "insignificant_cat: ['C']\n",
      "cols_names: PropertyField31\n",
      "replacement_cat: O\n",
      "insignificant_cat: []\n",
      "cols_names: PropertyField33\n",
      "replacement_cat: H\n",
      "insignificant_cat: []\n",
      "cols_names: GeographicField63\n",
      "replacement_cat: N\n",
      "insignificant_cat: [' ']\n",
      "cols_names: GeographicField64\n",
      "replacement_cat: CA\n",
      "insignificant_cat: []\n"
     ]
    }
   ],
   "source": [
    "cols_names_list=g.select('cols_names').collect() #select just cols_names from dataframe g\n",
    "cols_names_list=[r['cols_names'] for r in cols_names_list] #take just the values\n",
    "\n",
    "#function to replace insignificant categories in data test\n",
    "for z in cols_names_list:\n",
    "    print('cols_names:',z)\n",
    "    replacement_cat=g.filter(g['cols_names']== z).select(g['replacing']).collect()[0][0] #select values of replacing columns accoring to z in cols_names \n",
    "    print('replacement_cat:', replacement_cat)\n",
    "    insignificant_cat=g.filter(g['cols_names']== z).select(g['category']).collect()[0][0] #select values of category columns accoring to z in cols_names\n",
    "    print('insignificant_cat:',insignificant_cat)\n",
    "    test_data=test_data.replace(insignificant_cat,replacement_cat, z) #replace insignificant cat with replacement value"
   ]
  },
  {
   "cell_type": "code",
   "execution_count": 211,
   "metadata": {},
   "outputs": [
    {
     "name": "stdout",
     "output_type": "stream",
     "text": [
      "+-----------------+------+------+------------------+\n",
      "|GeographicField63| count| total|           Percent|\n",
      "+-----------------+------+------+------------------+\n",
      "|                N|254714|260753|  97.6840151407654|\n",
      "|                Y|  6039|260753|2.3159848592346015|\n",
      "+-----------------+------+------+------------------+\n",
      "\n"
     ]
    }
   ],
   "source": [
    "percent=df_final.groupBy('GeographicField63').count().sort(col(\"count\").desc())\\\n",
    "                       .withColumn('total',sum(col('count')).over(window))\\\n",
    "                       .withColumn('Percent',col('count')*100/col('total'))\n",
    "percent.show()"
   ]
  },
  {
   "cell_type": "code",
   "execution_count": 212,
   "metadata": {},
   "outputs": [
    {
     "name": "stdout",
     "output_type": "stream",
     "text": [
      "+-----------------+------+------+-----------------+\n",
      "|GeographicField63| count| total|          Percent|\n",
      "+-----------------+------+------+-----------------+\n",
      "|                N|169856|173836|97.71048574518511|\n",
      "|                Y|  3980|173836|2.289514254814883|\n",
      "+-----------------+------+------+-----------------+\n",
      "\n"
     ]
    }
   ],
   "source": [
    "f_percent=test_data.groupBy('GeographicField63').count().sort(col(\"count\").desc())\\\n",
    "                       .withColumn('total',sum(col('count')).over(window))\\\n",
    "                       .withColumn('Percent',col('count')*100/col('total'))\n",
    "f_percent.show()"
   ]
  },
  {
   "cell_type": "markdown",
   "metadata": {},
   "source": [
    "#### Numerical Variables\n",
    "\n",
    "We have 260 numerical variables, and we will plot just some variables."
   ]
  },
  {
   "cell_type": "code",
   "execution_count": 215,
   "metadata": {},
   "outputs": [
    {
     "data": {
      "image/png": "[encoded data removed]",
      "text/plain": [
       "<matplotlib.figure.Figure at 0x1ae2505ba90>"
      ]
     },
     "metadata": {},
     "output_type": "display_data"
    }
   ],
   "source": [
    "#density plot Field7\n",
    "#plt.figure(figsize=(24,5))\n",
    "sns.distplot(df_pd['Field7'])\n",
    "plt.show()"
   ]
  },
  {
   "cell_type": "markdown",
   "metadata": {
    "collapsed": true
   },
   "source": [
    "#### Numerical vs Target visualization"
   ]
  },
  {
   "cell_type": "code",
   "execution_count": 216,
   "metadata": {},
   "outputs": [
    {
     "data": {
      "image/png": "[encoded data removed]",
      "text/plain": [
       "<matplotlib.figure.Figure at 0x1ae6fa0ca20>"
      ]
     },
     "metadata": {},
     "output_type": "display_data"
    }
   ],
   "source": [
    "#show distribution 'Field7' vs 'label'\n",
    "#plt.figure(figsize=(20,8))\n",
    "sns.kdeplot(df_pd[df_pd[\"label\"]==0][\"Field7\"], label=\"0\", color=\"green\")\n",
    "sns.kdeplot(df_pd[df_pd[\"label\"]==1][\"Field7\"], label=\"1\", color=\"red\")\n",
    "plt.title(\"Field7 VS label\")\n",
    "plt.show()"
   ]
  },
  {
   "cell_type": "markdown",
   "metadata": {},
   "source": [
    "### Check outlier"
   ]
  },
  {
   "cell_type": "code",
   "execution_count": 217,
   "metadata": {},
   "outputs": [
    {
     "data": {
      "image/png": "[encoded data removed]",
      "text/plain": [
       "<matplotlib.figure.Figure at 0x1ae10584630>"
      ]
     },
     "metadata": {},
     "output_type": "display_data"
    }
   ],
   "source": [
    "#Check outlier in numerical variable\n",
    "df_pd[[\"Field7\"]].boxplot(sym='g-*', grid=True)\n",
    "plt.show()"
   ]
  },
  {
   "cell_type": "markdown",
   "metadata": {
    "collapsed": true
   },
   "source": [
    "### Handle of outlier\n",
    "Outlier is observations that fall below lower side or above upper side.\n",
    "\n",
    "To handle outlier we approach by replacing the value greater than upper side with upper side value and also replacing the value lower than lower side with lower side value.\n",
    "So, we need calculate upper and lower side from quantile value, quantile is probability distribution of variable. In General, there are three quantile:\n",
    "1. Q1 = the value that cut off 25% of the first data when it is sorted in ascending order. \n",
    "2. Q2 = cut off data, or median, it's 50 % of the data \n",
    "3. Q3 = the value that cut off 75% of the first data when it is sorted in ascending order.\n",
    "\n",
    "IQR or interquartile range is range between Q1 and Q3. IQR = Q3 - Q1.\n",
    "\n",
    "Upper side = Q3 + 1.5 * IQR\n",
    "\n",
    "Lower side = Q1 - 1.5 * IQR\n",
    "\n",
    "To calculate upper and lower side we use pandas dataframe and pyspark dataframe. Both ways have same result.\n",
    "Then, we will use result from pyspark to handle outlier"
   ]
  },
  {
   "cell_type": "markdown",
   "metadata": {},
   "source": [
    "### Handle of outlier in data train"
   ]
  },
  {
   "cell_type": "markdown",
   "metadata": {},
   "source": [
    "#### Calculate Upper&Lower side in pandas dataframe"
   ]
  },
  {
   "cell_type": "code",
   "execution_count": 218,
   "metadata": {},
   "outputs": [
    {
     "data": {
      "text/html": [
       "<div>\n",
       "<style>\n",
       "    .dataframe thead tr:only-child th {\n",
       "        text-align: right;\n",
       "    }\n",
       "\n",
       "    .dataframe thead th {\n",
       "        text-align: left;\n",
       "    }\n",
       "\n",
       "    .dataframe tbody tr th {\n",
       "        vertical-align: top;\n",
       "    }\n",
       "</style>\n",
       "<table border=\"1\" class=\"dataframe\">\n",
       "  <thead>\n",
       "    <tr style=\"text-align: right;\">\n",
       "      <th></th>\n",
       "      <th>QuoteNumber</th>\n",
       "      <th>label</th>\n",
       "      <th>Field7</th>\n",
       "      <th>Field8</th>\n",
       "      <th>Field9</th>\n",
       "      <th>Field10</th>\n",
       "      <th>Field11</th>\n",
       "      <th>CoverageField1A</th>\n",
       "      <th>CoverageField1B</th>\n",
       "      <th>CoverageField2A</th>\n",
       "      <th>...</th>\n",
       "      <th>GeographicField58A</th>\n",
       "      <th>GeographicField58B</th>\n",
       "      <th>GeographicField59A</th>\n",
       "      <th>GeographicField59B</th>\n",
       "      <th>GeographicField60A</th>\n",
       "      <th>GeographicField60B</th>\n",
       "      <th>GeographicField61A</th>\n",
       "      <th>GeographicField61B</th>\n",
       "      <th>GeographicField62A</th>\n",
       "      <th>GeographicField62B</th>\n",
       "    </tr>\n",
       "  </thead>\n",
       "  <tbody>\n",
       "    <tr>\n",
       "      <th>count</th>\n",
       "      <td>26239.000000</td>\n",
       "      <td>26239.000000</td>\n",
       "      <td>26239.000000</td>\n",
       "      <td>26239.000000</td>\n",
       "      <td>26239.000000</td>\n",
       "      <td>26239.000000</td>\n",
       "      <td>26239.000000</td>\n",
       "      <td>26239.000000</td>\n",
       "      <td>26239.000000</td>\n",
       "      <td>26239.000000</td>\n",
       "      <td>...</td>\n",
       "      <td>26239.000000</td>\n",
       "      <td>26239.000000</td>\n",
       "      <td>26239.000000</td>\n",
       "      <td>26239.000000</td>\n",
       "      <td>26239.000000</td>\n",
       "      <td>26239.000000</td>\n",
       "      <td>26239.000000</td>\n",
       "      <td>26239.000000</td>\n",
       "      <td>26239.000000</td>\n",
       "      <td>26239.000000</td>\n",
       "    </tr>\n",
       "    <tr>\n",
       "      <th>mean</th>\n",
       "      <td>216470.226952</td>\n",
       "      <td>0.188460</td>\n",
       "      <td>18.284767</td>\n",
       "      <td>0.938466</td>\n",
       "      <td>0.001465</td>\n",
       "      <td>950.580700</td>\n",
       "      <td>1.162168</td>\n",
       "      <td>9.011471</td>\n",
       "      <td>13.010671</td>\n",
       "      <td>9.055795</td>\n",
       "      <td>...</td>\n",
       "      <td>11.507794</td>\n",
       "      <td>12.900720</td>\n",
       "      <td>11.690728</td>\n",
       "      <td>13.036129</td>\n",
       "      <td>-0.361866</td>\n",
       "      <td>12.934068</td>\n",
       "      <td>-0.358893</td>\n",
       "      <td>12.986242</td>\n",
       "      <td>-0.344030</td>\n",
       "      <td>14.094897</td>\n",
       "    </tr>\n",
       "    <tr>\n",
       "      <th>std</th>\n",
       "      <td>125864.692290</td>\n",
       "      <td>0.391086</td>\n",
       "      <td>7.375948</td>\n",
       "      <td>0.037184</td>\n",
       "      <td>0.001493</td>\n",
       "      <td>290.298805</td>\n",
       "      <td>0.116729</td>\n",
       "      <td>5.568995</td>\n",
       "      <td>7.204728</td>\n",
       "      <td>5.552631</td>\n",
       "      <td>...</td>\n",
       "      <td>5.455040</td>\n",
       "      <td>7.236423</td>\n",
       "      <td>5.640301</td>\n",
       "      <td>7.237964</td>\n",
       "      <td>4.023045</td>\n",
       "      <td>7.232334</td>\n",
       "      <td>4.032168</td>\n",
       "      <td>7.142827</td>\n",
       "      <td>4.077445</td>\n",
       "      <td>5.816711</td>\n",
       "    </tr>\n",
       "    <tr>\n",
       "      <th>min</th>\n",
       "      <td>13.000000</td>\n",
       "      <td>0.000000</td>\n",
       "      <td>1.000000</td>\n",
       "      <td>0.874600</td>\n",
       "      <td>0.000400</td>\n",
       "      <td>548.000000</td>\n",
       "      <td>1.000000</td>\n",
       "      <td>-1.000000</td>\n",
       "      <td>-1.000000</td>\n",
       "      <td>1.000000</td>\n",
       "      <td>...</td>\n",
       "      <td>-1.000000</td>\n",
       "      <td>-1.000000</td>\n",
       "      <td>1.000000</td>\n",
       "      <td>1.000000</td>\n",
       "      <td>-1.000000</td>\n",
       "      <td>-1.000000</td>\n",
       "      <td>-1.000000</td>\n",
       "      <td>-1.000000</td>\n",
       "      <td>-1.000000</td>\n",
       "      <td>-1.000000</td>\n",
       "    </tr>\n",
       "    <tr>\n",
       "      <th>25%</th>\n",
       "      <td>107131.000000</td>\n",
       "      <td>0.000000</td>\n",
       "      <td>11.000000</td>\n",
       "      <td>0.915300</td>\n",
       "      <td>0.000600</td>\n",
       "      <td>564.000000</td>\n",
       "      <td>1.020000</td>\n",
       "      <td>5.000000</td>\n",
       "      <td>7.000000</td>\n",
       "      <td>5.000000</td>\n",
       "      <td>...</td>\n",
       "      <td>8.000000</td>\n",
       "      <td>7.000000</td>\n",
       "      <td>7.000000</td>\n",
       "      <td>7.000000</td>\n",
       "      <td>-1.000000</td>\n",
       "      <td>7.000000</td>\n",
       "      <td>-1.000000</td>\n",
       "      <td>7.000000</td>\n",
       "      <td>-1.000000</td>\n",
       "      <td>8.000000</td>\n",
       "    </tr>\n",
       "    <tr>\n",
       "      <th>50%</th>\n",
       "      <td>216172.000000</td>\n",
       "      <td>0.000000</td>\n",
       "      <td>23.000000</td>\n",
       "      <td>0.940300</td>\n",
       "      <td>0.000600</td>\n",
       "      <td>965.000000</td>\n",
       "      <td>1.188600</td>\n",
       "      <td>8.000000</td>\n",
       "      <td>13.000000</td>\n",
       "      <td>8.000000</td>\n",
       "      <td>...</td>\n",
       "      <td>11.000000</td>\n",
       "      <td>13.000000</td>\n",
       "      <td>11.000000</td>\n",
       "      <td>13.000000</td>\n",
       "      <td>-1.000000</td>\n",
       "      <td>13.000000</td>\n",
       "      <td>-1.000000</td>\n",
       "      <td>13.000000</td>\n",
       "      <td>-1.000000</td>\n",
       "      <td>13.000000</td>\n",
       "    </tr>\n",
       "    <tr>\n",
       "      <th>75%</th>\n",
       "      <td>325870.500000</td>\n",
       "      <td>0.000000</td>\n",
       "      <td>24.000000</td>\n",
       "      <td>0.968500</td>\n",
       "      <td>0.003800</td>\n",
       "      <td>1113.000000</td>\n",
       "      <td>1.266500</td>\n",
       "      <td>12.000000</td>\n",
       "      <td>19.000000</td>\n",
       "      <td>12.000000</td>\n",
       "      <td>...</td>\n",
       "      <td>15.000000</td>\n",
       "      <td>19.000000</td>\n",
       "      <td>15.000000</td>\n",
       "      <td>19.000000</td>\n",
       "      <td>-1.000000</td>\n",
       "      <td>19.000000</td>\n",
       "      <td>-1.000000</td>\n",
       "      <td>19.000000</td>\n",
       "      <td>-1.000000</td>\n",
       "      <td>19.000000</td>\n",
       "    </tr>\n",
       "    <tr>\n",
       "      <th>max</th>\n",
       "      <td>434588.000000</td>\n",
       "      <td>1.000000</td>\n",
       "      <td>28.000000</td>\n",
       "      <td>1.010100</td>\n",
       "      <td>0.004000</td>\n",
       "      <td>1487.000000</td>\n",
       "      <td>1.304500</td>\n",
       "      <td>25.000000</td>\n",
       "      <td>25.000000</td>\n",
       "      <td>25.000000</td>\n",
       "      <td>...</td>\n",
       "      <td>25.000000</td>\n",
       "      <td>25.000000</td>\n",
       "      <td>25.000000</td>\n",
       "      <td>25.000000</td>\n",
       "      <td>25.000000</td>\n",
       "      <td>25.000000</td>\n",
       "      <td>25.000000</td>\n",
       "      <td>25.000000</td>\n",
       "      <td>25.000000</td>\n",
       "      <td>25.000000</td>\n",
       "    </tr>\n",
       "  </tbody>\n",
       "</table>\n",
       "<p>8 rows × 272 columns</p>\n",
       "</div>"
      ],
      "text/plain": [
       "         QuoteNumber         label        Field7        Field8        Field9  \\\n",
       "count   26239.000000  26239.000000  26239.000000  26239.000000  26239.000000   \n",
       "mean   216470.226952      0.188460     18.284767      0.938466      0.001465   \n",
       "std    125864.692290      0.391086      7.375948      0.037184      0.001493   \n",
       "min        13.000000      0.000000      1.000000      0.874600      0.000400   \n",
       "25%    107131.000000      0.000000     11.000000      0.915300      0.000600   \n",
       "50%    216172.000000      0.000000     23.000000      0.940300      0.000600   \n",
       "75%    325870.500000      0.000000     24.000000      0.968500      0.003800   \n",
       "max    434588.000000      1.000000     28.000000      1.010100      0.004000   \n",
       "\n",
       "            Field10       Field11  CoverageField1A  CoverageField1B  \\\n",
       "count  26239.000000  26239.000000     26239.000000     26239.000000   \n",
       "mean     950.580700      1.162168         9.011471        13.010671   \n",
       "std      290.298805      0.116729         5.568995         7.204728   \n",
       "min      548.000000      1.000000        -1.000000        -1.000000   \n",
       "25%      564.000000      1.020000         5.000000         7.000000   \n",
       "50%      965.000000      1.188600         8.000000        13.000000   \n",
       "75%     1113.000000      1.266500        12.000000        19.000000   \n",
       "max     1487.000000      1.304500        25.000000        25.000000   \n",
       "\n",
       "       CoverageField2A         ...          GeographicField58A  \\\n",
       "count     26239.000000         ...                26239.000000   \n",
       "mean          9.055795         ...                   11.507794   \n",
       "std           5.552631         ...                    5.455040   \n",
       "min           1.000000         ...                   -1.000000   \n",
       "25%           5.000000         ...                    8.000000   \n",
       "50%           8.000000         ...                   11.000000   \n",
       "75%          12.000000         ...                   15.000000   \n",
       "max          25.000000         ...                   25.000000   \n",
       "\n",
       "       GeographicField58B  GeographicField59A  GeographicField59B  \\\n",
       "count        26239.000000        26239.000000        26239.000000   \n",
       "mean            12.900720           11.690728           13.036129   \n",
       "std              7.236423            5.640301            7.237964   \n",
       "min             -1.000000            1.000000            1.000000   \n",
       "25%              7.000000            7.000000            7.000000   \n",
       "50%             13.000000           11.000000           13.000000   \n",
       "75%             19.000000           15.000000           19.000000   \n",
       "max             25.000000           25.000000           25.000000   \n",
       "\n",
       "       GeographicField60A  GeographicField60B  GeographicField61A  \\\n",
       "count        26239.000000        26239.000000        26239.000000   \n",
       "mean            -0.361866           12.934068           -0.358893   \n",
       "std              4.023045            7.232334            4.032168   \n",
       "min             -1.000000           -1.000000           -1.000000   \n",
       "25%             -1.000000            7.000000           -1.000000   \n",
       "50%             -1.000000           13.000000           -1.000000   \n",
       "75%             -1.000000           19.000000           -1.000000   \n",
       "max             25.000000           25.000000           25.000000   \n",
       "\n",
       "       GeographicField61B  GeographicField62A  GeographicField62B  \n",
       "count        26239.000000        26239.000000        26239.000000  \n",
       "mean            12.986242           -0.344030           14.094897  \n",
       "std              7.142827            4.077445            5.816711  \n",
       "min             -1.000000           -1.000000           -1.000000  \n",
       "25%              7.000000           -1.000000            8.000000  \n",
       "50%             13.000000           -1.000000           13.000000  \n",
       "75%             19.000000           -1.000000           19.000000  \n",
       "max             25.000000           25.000000           25.000000  \n",
       "\n",
       "[8 rows x 272 columns]"
      ]
     },
     "execution_count": 218,
     "metadata": {},
     "output_type": "execute_result"
    }
   ],
   "source": [
    "df_describe=df_pd.describe()\n",
    "df_describe"
   ]
  },
  {
   "cell_type": "code",
   "execution_count": 55,
   "metadata": {
    "collapsed": true
   },
   "outputs": [],
   "source": [
    "#create quantile dataframe\n",
    "def quantile(e):\n",
    "    \"\"\"Input is dataframe and return new dataframe with value of quantile from numerical columns\"\"\"\n",
    "    percentiles = [0.25, 0.5, 0.75]\n",
    "    quant=spark.createDataFrame(zip(percentiles, *e.approxQuantile(num_cols, percentiles, 0.0)),\n",
    "                               ['percentile']+num_cols) #calculate quantile from pyspark dataframe, 0.0 is relativeError,\n",
    "                                                        #The relative target precision to achieve (>= 0). If set to zero, \n",
    "                                                        #the exact quantiles are computed, which could be very expensive\n",
    "                                                        #and aggregate the result with percentiles variable, \n",
    "                                                        #then create pyspark dataframe\n",
    "    return quant"
   ]
  },
  {
   "cell_type": "code",
   "execution_count": 56,
   "metadata": {},
   "outputs": [
    {
     "name": "stdout",
     "output_type": "stream",
     "text": [
      "Wall time: 52.1 s\n"
     ]
    }
   ],
   "source": [
    "#call function quantile and apply to data train sample(df_sample)\n",
    "%time quantile=quantile(df_sample)"
   ]
  },
  {
   "cell_type": "code",
   "execution_count": 57,
   "metadata": {
    "collapsed": true
   },
   "outputs": [],
   "source": [
    "#function to calculate uppler side\n",
    "def upper_value(b,c):\n",
    "    \"\"\"Input is quantile dataframe and name of numerical column and Retrun upper value from the column\"\"\"\n",
    "    q1 = b.select(c).collect()[0][0] #select value of q1 from the column\n",
    "    q2 = b.select(c).collect()[1][0] #select value of q2 from the column\n",
    "    q3 = b.select(c).collect()[2][0] #select value of q3 from the column\n",
    "    IQR=q3-q1  #calculate the value of IQR\n",
    "    upper= q3 + (IQR*1.5)   #calculate the value of upper side\n",
    "    return upper"
   ]
  },
  {
   "cell_type": "code",
   "execution_count": 222,
   "metadata": {},
   "outputs": [
    {
     "name": "stdout",
     "output_type": "stream",
     "text": [
      "Help on function upper_value in module __main__:\n",
      "\n",
      "upper_value(b, c)\n",
      "    Input is quantile dataframe and name of numerical column and Retrun upper value from the column\n",
      "\n"
     ]
    }
   ],
   "source": [
    "help(upper_value)"
   ]
  },
  {
   "cell_type": "code",
   "execution_count": 58,
   "metadata": {
    "collapsed": true
   },
   "outputs": [],
   "source": [
    "#function to calculate lower side\n",
    "def lower_value(b,c):\n",
    "    \"\"\"Input is quantile dataframe and name of numerical column and Retrun lower value from the column\"\"\"\n",
    "    q1 = b.select(c).collect()[0][0] #select value of q1 from the column\n",
    "    q2 = b.select(c).collect()[1][0] #select value of q2 from the column\n",
    "    q3 = b.select(c).collect()[2][0] #select value of q3 from the column\n",
    "    IQR=q3-q1                   #calculate the value of IQR\n",
    "    lower= q1 - (IQR*1.5)       #calculate the value of lower side\n",
    "    return lower"
   ]
  },
  {
   "cell_type": "markdown",
   "metadata": {},
   "source": [
    "#### Replacing the outlier"
   ]
  },
  {
   "cell_type": "code",
   "execution_count": 59,
   "metadata": {
    "collapsed": true
   },
   "outputs": [],
   "source": [
    "#function for replacing outlier by upper side\n",
    "def replce_outlier_up2(d,col, value):\n",
    "    \"\"\"Input is name of numerical column and it's upper side value\"\"\"\n",
    "    d=d.withColumn(col, F.when(d[col] > value , value).otherwise(d[col]))\n",
    "    return d"
   ]
  },
  {
   "cell_type": "code",
   "execution_count": 60,
   "metadata": {
    "collapsed": true
   },
   "outputs": [],
   "source": [
    "#function for replacing outlier by lower side\n",
    "def replce_outlier_low2(d,col, value):\n",
    "    \"\"\"Input is name of numerical column and it's lower side value\"\"\"\n",
    "    d=d.withColumn(col, F.when(d[col] < value , value).otherwise(d[col]))\n",
    "    return d"
   ]
  },
  {
   "cell_type": "code",
   "execution_count": 226,
   "metadata": {},
   "outputs": [
    {
     "name": "stdout",
     "output_type": "stream",
     "text": [
      "Wall time: 18.6 s\n"
     ]
    }
   ],
   "source": [
    "%time lower_Field7=lower_value(quantile,'Field7')"
   ]
  },
  {
   "cell_type": "code",
   "execution_count": 62,
   "metadata": {},
   "outputs": [
    {
     "name": "stdout",
     "output_type": "stream",
     "text": [
      "Wall time: 0 ns\n"
     ]
    },
    {
     "data": {
      "text/plain": [
       "-8.5"
      ]
     },
     "execution_count": 62,
     "metadata": {},
     "output_type": "execute_result"
    }
   ],
   "source": [
    "%time lower_Field7"
   ]
  },
  {
   "cell_type": "code",
   "execution_count": 227,
   "metadata": {},
   "outputs": [
    {
     "name": "stdout",
     "output_type": "stream",
     "text": [
      "Wall time: 206 ms\n"
     ]
    }
   ],
   "source": [
    "%time df_final=replce_outlier_low2(df_final, 'Field7', lower_Field7)"
   ]
  },
  {
   "cell_type": "code",
   "execution_count": 228,
   "metadata": {},
   "outputs": [
    {
     "name": "stdout",
     "output_type": "stream",
     "text": [
      "Wall time: 16.8 s\n"
     ]
    }
   ],
   "source": [
    "%time upper_Field7=upper_value(quantile,'Field7')"
   ]
  },
  {
   "cell_type": "code",
   "execution_count": 229,
   "metadata": {},
   "outputs": [
    {
     "name": "stdout",
     "output_type": "stream",
     "text": [
      "Wall time: 104 ms\n"
     ]
    }
   ],
   "source": [
    "%time df_final=replce_outlier_up2(df_final, 'Field7', upper_Field7)"
   ]
  },
  {
   "cell_type": "code",
   "execution_count": 61,
   "metadata": {
    "collapsed": true
   },
   "outputs": [],
   "source": [
    "#call function to calculate lower side and replace value under lower side with value lower side at all numerical variables\n",
    "for i in num_cols:\n",
    "    lower=lower_value(quantile,i)\n",
    "    df_final=replce_outlier_low2(df_final, i, lower)"
   ]
  },
  {
   "cell_type": "code",
   "execution_count": 62,
   "metadata": {
    "collapsed": true
   },
   "outputs": [],
   "source": [
    "#call function to calculate upper side and replace value above upper side with value upper side at all numerical variables\n",
    "for x in num_cols:\n",
    "    upper=upper_value(quantile,x)\n",
    "    df_final=replce_outlier_up2(df_final, x, upper)"
   ]
  },
  {
   "cell_type": "code",
   "execution_count": 68,
   "metadata": {},
   "outputs": [
    {
     "data": {
      "text/plain": [
       "pyspark.sql.dataframe.DataFrame"
      ]
     },
     "execution_count": 68,
     "metadata": {},
     "output_type": "execute_result"
    }
   ],
   "source": [
    "type(df_final)"
   ]
  },
  {
   "cell_type": "code",
   "execution_count": 69,
   "metadata": {},
   "outputs": [
    {
     "name": "stdout",
     "output_type": "stream",
     "text": [
      "+-----------+\n",
      "|QuoteNumber|\n",
      "+-----------+\n",
      "|          1|\n",
      "|          2|\n",
      "|          4|\n",
      "|          6|\n",
      "|          8|\n",
      "+-----------+\n",
      "only showing top 5 rows\n",
      "\n"
     ]
    }
   ],
   "source": [
    "df_final.select('QuoteNumber').show(5)"
   ]
  },
  {
   "cell_type": "markdown",
   "metadata": {},
   "source": [
    "### Handle of outlier in data test"
   ]
  },
  {
   "cell_type": "code",
   "execution_count": 109,
   "metadata": {
    "collapsed": true
   },
   "outputs": [],
   "source": [
    "pd_9=test_data.toPandas()"
   ]
  },
  {
   "cell_type": "code",
   "execution_count": 110,
   "metadata": {
    "scrolled": true
   },
   "outputs": [
    {
     "data": {
      "text/html": [
       "<div>\n",
       "<style>\n",
       "    .dataframe thead tr:only-child th {\n",
       "        text-align: right;\n",
       "    }\n",
       "\n",
       "    .dataframe thead th {\n",
       "        text-align: left;\n",
       "    }\n",
       "\n",
       "    .dataframe tbody tr th {\n",
       "        vertical-align: top;\n",
       "    }\n",
       "</style>\n",
       "<table border=\"1\" class=\"dataframe\">\n",
       "  <thead>\n",
       "    <tr style=\"text-align: right;\">\n",
       "      <th></th>\n",
       "      <th>Id</th>\n",
       "      <th>MSSubClass</th>\n",
       "      <th>LotFrontage</th>\n",
       "      <th>LotArea</th>\n",
       "      <th>YearBuilt</th>\n",
       "      <th>YearRemodAdd</th>\n",
       "      <th>MasVnrArea</th>\n",
       "      <th>BsmtFinSF1</th>\n",
       "      <th>BsmtFinSF2</th>\n",
       "      <th>BsmtUnfSF</th>\n",
       "      <th>...</th>\n",
       "      <th>GarageArea</th>\n",
       "      <th>WoodDeckSF</th>\n",
       "      <th>OpenPorchSF</th>\n",
       "      <th>EnclosedPorch</th>\n",
       "      <th>3SsnPorch</th>\n",
       "      <th>ScreenPorch</th>\n",
       "      <th>PoolArea</th>\n",
       "      <th>MiscVal</th>\n",
       "      <th>MoSold</th>\n",
       "      <th>YrSold</th>\n",
       "    </tr>\n",
       "  </thead>\n",
       "  <tbody>\n",
       "    <tr>\n",
       "      <th>count</th>\n",
       "      <td>1459.000000</td>\n",
       "      <td>1459.000000</td>\n",
       "      <td>1459.000000</td>\n",
       "      <td>1459.000000</td>\n",
       "      <td>1459.000000</td>\n",
       "      <td>1459.000000</td>\n",
       "      <td>1459.000000</td>\n",
       "      <td>1459.000000</td>\n",
       "      <td>1459.000000</td>\n",
       "      <td>1459.000000</td>\n",
       "      <td>...</td>\n",
       "      <td>1459.000000</td>\n",
       "      <td>1459.000000</td>\n",
       "      <td>1459.000000</td>\n",
       "      <td>1459.000000</td>\n",
       "      <td>1459.000000</td>\n",
       "      <td>1459.000000</td>\n",
       "      <td>1459.000000</td>\n",
       "      <td>1459.000000</td>\n",
       "      <td>1459.000000</td>\n",
       "      <td>1459.000000</td>\n",
       "    </tr>\n",
       "    <tr>\n",
       "      <th>mean</th>\n",
       "      <td>2190.000000</td>\n",
       "      <td>57.378341</td>\n",
       "      <td>68.645648</td>\n",
       "      <td>9819.161069</td>\n",
       "      <td>1971.357779</td>\n",
       "      <td>1983.662783</td>\n",
       "      <td>100.712132</td>\n",
       "      <td>439.203564</td>\n",
       "      <td>52.619602</td>\n",
       "      <td>554.294722</td>\n",
       "      <td>...</td>\n",
       "      <td>472.769020</td>\n",
       "      <td>93.174777</td>\n",
       "      <td>48.313914</td>\n",
       "      <td>24.243317</td>\n",
       "      <td>1.794380</td>\n",
       "      <td>17.064428</td>\n",
       "      <td>1.744345</td>\n",
       "      <td>58.167923</td>\n",
       "      <td>6.104181</td>\n",
       "      <td>2007.769705</td>\n",
       "    </tr>\n",
       "    <tr>\n",
       "      <th>std</th>\n",
       "      <td>421.321334</td>\n",
       "      <td>42.746880</td>\n",
       "      <td>20.561791</td>\n",
       "      <td>4955.517327</td>\n",
       "      <td>30.390071</td>\n",
       "      <td>21.130467</td>\n",
       "      <td>176.709827</td>\n",
       "      <td>455.111888</td>\n",
       "      <td>176.693301</td>\n",
       "      <td>437.110508</td>\n",
       "      <td>...</td>\n",
       "      <td>216.974165</td>\n",
       "      <td>127.744882</td>\n",
       "      <td>68.883364</td>\n",
       "      <td>67.227765</td>\n",
       "      <td>20.207842</td>\n",
       "      <td>56.609763</td>\n",
       "      <td>30.491646</td>\n",
       "      <td>630.806978</td>\n",
       "      <td>2.722432</td>\n",
       "      <td>1.301740</td>\n",
       "    </tr>\n",
       "    <tr>\n",
       "      <th>min</th>\n",
       "      <td>1461.000000</td>\n",
       "      <td>20.000000</td>\n",
       "      <td>21.000000</td>\n",
       "      <td>1470.000000</td>\n",
       "      <td>1879.000000</td>\n",
       "      <td>1950.000000</td>\n",
       "      <td>0.000000</td>\n",
       "      <td>0.000000</td>\n",
       "      <td>0.000000</td>\n",
       "      <td>0.000000</td>\n",
       "      <td>...</td>\n",
       "      <td>0.000000</td>\n",
       "      <td>0.000000</td>\n",
       "      <td>0.000000</td>\n",
       "      <td>0.000000</td>\n",
       "      <td>0.000000</td>\n",
       "      <td>0.000000</td>\n",
       "      <td>0.000000</td>\n",
       "      <td>0.000000</td>\n",
       "      <td>1.000000</td>\n",
       "      <td>2006.000000</td>\n",
       "    </tr>\n",
       "    <tr>\n",
       "      <th>25%</th>\n",
       "      <td>1825.500000</td>\n",
       "      <td>20.000000</td>\n",
       "      <td>60.000000</td>\n",
       "      <td>7391.000000</td>\n",
       "      <td>1953.000000</td>\n",
       "      <td>1963.000000</td>\n",
       "      <td>0.000000</td>\n",
       "      <td>0.000000</td>\n",
       "      <td>0.000000</td>\n",
       "      <td>219.500000</td>\n",
       "      <td>...</td>\n",
       "      <td>318.000000</td>\n",
       "      <td>0.000000</td>\n",
       "      <td>0.000000</td>\n",
       "      <td>0.000000</td>\n",
       "      <td>0.000000</td>\n",
       "      <td>0.000000</td>\n",
       "      <td>0.000000</td>\n",
       "      <td>0.000000</td>\n",
       "      <td>4.000000</td>\n",
       "      <td>2007.000000</td>\n",
       "    </tr>\n",
       "    <tr>\n",
       "      <th>50%</th>\n",
       "      <td>2190.000000</td>\n",
       "      <td>50.000000</td>\n",
       "      <td>69.000000</td>\n",
       "      <td>9399.000000</td>\n",
       "      <td>1973.000000</td>\n",
       "      <td>1992.000000</td>\n",
       "      <td>0.000000</td>\n",
       "      <td>351.000000</td>\n",
       "      <td>0.000000</td>\n",
       "      <td>460.000000</td>\n",
       "      <td>...</td>\n",
       "      <td>480.000000</td>\n",
       "      <td>0.000000</td>\n",
       "      <td>28.000000</td>\n",
       "      <td>0.000000</td>\n",
       "      <td>0.000000</td>\n",
       "      <td>0.000000</td>\n",
       "      <td>0.000000</td>\n",
       "      <td>0.000000</td>\n",
       "      <td>6.000000</td>\n",
       "      <td>2008.000000</td>\n",
       "    </tr>\n",
       "    <tr>\n",
       "      <th>75%</th>\n",
       "      <td>2554.500000</td>\n",
       "      <td>70.000000</td>\n",
       "      <td>78.000000</td>\n",
       "      <td>11517.500000</td>\n",
       "      <td>2001.000000</td>\n",
       "      <td>2004.000000</td>\n",
       "      <td>162.000000</td>\n",
       "      <td>752.000000</td>\n",
       "      <td>0.000000</td>\n",
       "      <td>797.500000</td>\n",
       "      <td>...</td>\n",
       "      <td>576.000000</td>\n",
       "      <td>168.000000</td>\n",
       "      <td>72.000000</td>\n",
       "      <td>0.000000</td>\n",
       "      <td>0.000000</td>\n",
       "      <td>0.000000</td>\n",
       "      <td>0.000000</td>\n",
       "      <td>0.000000</td>\n",
       "      <td>8.000000</td>\n",
       "      <td>2009.000000</td>\n",
       "    </tr>\n",
       "    <tr>\n",
       "      <th>max</th>\n",
       "      <td>2919.000000</td>\n",
       "      <td>190.000000</td>\n",
       "      <td>200.000000</td>\n",
       "      <td>56600.000000</td>\n",
       "      <td>2010.000000</td>\n",
       "      <td>2010.000000</td>\n",
       "      <td>1290.000000</td>\n",
       "      <td>4010.000000</td>\n",
       "      <td>1526.000000</td>\n",
       "      <td>2140.000000</td>\n",
       "      <td>...</td>\n",
       "      <td>1488.000000</td>\n",
       "      <td>1424.000000</td>\n",
       "      <td>742.000000</td>\n",
       "      <td>1012.000000</td>\n",
       "      <td>360.000000</td>\n",
       "      <td>576.000000</td>\n",
       "      <td>800.000000</td>\n",
       "      <td>17000.000000</td>\n",
       "      <td>12.000000</td>\n",
       "      <td>2010.000000</td>\n",
       "    </tr>\n",
       "  </tbody>\n",
       "</table>\n",
       "<p>8 rows × 35 columns</p>\n",
       "</div>"
      ],
      "text/plain": [
       "                Id   MSSubClass  LotFrontage       LotArea    YearBuilt  \\\n",
       "count  1459.000000  1459.000000  1459.000000   1459.000000  1459.000000   \n",
       "mean   2190.000000    57.378341    68.645648   9819.161069  1971.357779   \n",
       "std     421.321334    42.746880    20.561791   4955.517327    30.390071   \n",
       "min    1461.000000    20.000000    21.000000   1470.000000  1879.000000   \n",
       "25%    1825.500000    20.000000    60.000000   7391.000000  1953.000000   \n",
       "50%    2190.000000    50.000000    69.000000   9399.000000  1973.000000   \n",
       "75%    2554.500000    70.000000    78.000000  11517.500000  2001.000000   \n",
       "max    2919.000000   190.000000   200.000000  56600.000000  2010.000000   \n",
       "\n",
       "       YearRemodAdd   MasVnrArea   BsmtFinSF1   BsmtFinSF2    BsmtUnfSF  \\\n",
       "count   1459.000000  1459.000000  1459.000000  1459.000000  1459.000000   \n",
       "mean    1983.662783   100.712132   439.203564    52.619602   554.294722   \n",
       "std       21.130467   176.709827   455.111888   176.693301   437.110508   \n",
       "min     1950.000000     0.000000     0.000000     0.000000     0.000000   \n",
       "25%     1963.000000     0.000000     0.000000     0.000000   219.500000   \n",
       "50%     1992.000000     0.000000   351.000000     0.000000   460.000000   \n",
       "75%     2004.000000   162.000000   752.000000     0.000000   797.500000   \n",
       "max     2010.000000  1290.000000  4010.000000  1526.000000  2140.000000   \n",
       "\n",
       "          ...        GarageArea   WoodDeckSF  OpenPorchSF  EnclosedPorch  \\\n",
       "count     ...       1459.000000  1459.000000  1459.000000    1459.000000   \n",
       "mean      ...        472.769020    93.174777    48.313914      24.243317   \n",
       "std       ...        216.974165   127.744882    68.883364      67.227765   \n",
       "min       ...          0.000000     0.000000     0.000000       0.000000   \n",
       "25%       ...        318.000000     0.000000     0.000000       0.000000   \n",
       "50%       ...        480.000000     0.000000    28.000000       0.000000   \n",
       "75%       ...        576.000000   168.000000    72.000000       0.000000   \n",
       "max       ...       1488.000000  1424.000000   742.000000    1012.000000   \n",
       "\n",
       "         3SsnPorch  ScreenPorch     PoolArea       MiscVal       MoSold  \\\n",
       "count  1459.000000  1459.000000  1459.000000   1459.000000  1459.000000   \n",
       "mean      1.794380    17.064428     1.744345     58.167923     6.104181   \n",
       "std      20.207842    56.609763    30.491646    630.806978     2.722432   \n",
       "min       0.000000     0.000000     0.000000      0.000000     1.000000   \n",
       "25%       0.000000     0.000000     0.000000      0.000000     4.000000   \n",
       "50%       0.000000     0.000000     0.000000      0.000000     6.000000   \n",
       "75%       0.000000     0.000000     0.000000      0.000000     8.000000   \n",
       "max     360.000000   576.000000   800.000000  17000.000000    12.000000   \n",
       "\n",
       "            YrSold  \n",
       "count  1459.000000  \n",
       "mean   2007.769705  \n",
       "std       1.301740  \n",
       "min    2006.000000  \n",
       "25%    2007.000000  \n",
       "50%    2008.000000  \n",
       "75%    2009.000000  \n",
       "max    2010.000000  \n",
       "\n",
       "[8 rows x 35 columns]"
      ]
     },
     "execution_count": 110,
     "metadata": {},
     "output_type": "execute_result"
    }
   ],
   "source": [
    "pd_9.describe()"
   ]
  },
  {
   "cell_type": "code",
   "execution_count": 63,
   "metadata": {
    "collapsed": true
   },
   "outputs": [],
   "source": [
    "#create quantile dataframe\n",
    "def quantile(e):\n",
    "    \"\"\"Input is dataframe and return new dataframe with value of quantile from numerical columns\"\"\"\n",
    "    percentiles = [0.25, 0.5, 0.75]\n",
    "    quant=spark.createDataFrame(zip(percentiles, *e.approxQuantile(num_cols_test, percentiles, 0.0)),\n",
    "                               ['percentile']+num_cols_test) #calculate quantile from pyspark dataframe, 0.0 is relativeError,\n",
    "                                                        #The relative target precision to achieve (>= 0). If set to zero, \n",
    "                                                        #the exact quantiles are computed, which could be very expensive\n",
    "                                                        #and aggregate the result with percentiles variable, \n",
    "                                                        #then create pyspark dataframe\n",
    "    return quant"
   ]
  },
  {
   "cell_type": "code",
   "execution_count": 64,
   "metadata": {
    "collapsed": true
   },
   "outputs": [],
   "source": [
    "#call funtion quantile\n",
    "quantile=quantile(test_sample)"
   ]
  },
  {
   "cell_type": "code",
   "execution_count": 65,
   "metadata": {
    "collapsed": true
   },
   "outputs": [],
   "source": [
    "#call function to calculate lower side and replace value under lower side with value lower side at all numerical variables\n",
    "for i in num_cols_test:\n",
    "    lower=lower_value(quantile,i)\n",
    "    test_data=replce_outlier_low2(test_data, i, lower)"
   ]
  },
  {
   "cell_type": "code",
   "execution_count": 71,
   "metadata": {
    "collapsed": true
   },
   "outputs": [],
   "source": [
    "#call function to calculate upper side and replace value above upper side with value upper side at all numerical variables\n",
    "for x in num_cols_test:\n",
    "    upper=upper_value(quantile,x)\n",
    "    test_data=replce_outlier_up2(test_data, x, upper)"
   ]
  },
  {
   "cell_type": "markdown",
   "metadata": {},
   "source": [
    "### Feature Engineering\n",
    "Before splitting the data train, all categorical variables must be made numerical. There are several approaches to categorical variables in SparkML, including:\n",
    "1. StringIndexer, which is to encode the string label into the index label by sequencing the string frequency descending and giving the smallest index (0)\n",
    "at most string frequency.\n",
    "2. One-hot Encoding, which is mapping the label column (string label) on the binary column.\n",
    "3. Vector assembler, which is mapping all columns in vector."
   ]
  },
  {
   "cell_type": "code",
   "execution_count": 42,
   "metadata": {
    "collapsed": true
   },
   "outputs": [],
   "source": [
    "def check_distinct(a1,a2):\n",
    "    \"\"\"input are two dataframe that you want to compare categorical variables and the output is \n",
    "    total distinct categories in both dataframe\"\"\"\n",
    "    total1=0\n",
    "    total2=0\n",
    "    for y in cat_cols:\n",
    "        distinct1=a1.select([y]).distinct().count() #count distinct column in dataframe1\n",
    "        distinct2=a2.select([y]).distinct().count() #count distinct column in dataframe2\n",
    "        var1=a1.select([y]).distinct().collect() #define distinct category in column in dataframe1\n",
    "        var1=[r[y] for r in var1]\n",
    "        var2=a2.select([y]).distinct().collect()\n",
    "        var2=[r[y] for r in var2]\n",
    "        total1=total1+distinct1\n",
    "        total2=total2+distinct2   \n",
    "    return total1, total2    "
   ]
  },
  {
   "cell_type": "code",
   "execution_count": 48,
   "metadata": {
    "collapsed": true
   },
   "outputs": [],
   "source": [
    "#function to execute feature engineering\n",
    "def feature_engineering(a1):    \n",
    "    \"\"\"Function for feature engineering (StringIndexer and OneHotEncoder process)\"\"\"\n",
    "    cat_columns_string_vec = []\n",
    "    for c in cat_cols:\n",
    "        cat_columns_string= c+\"_vec\"\n",
    "        cat_columns_string_vec.append(cat_columns_string)\n",
    "    stringIndexer = [StringIndexer(inputCol=x, outputCol=x+\"_Index\")\n",
    "                  for x in cat_cols]\n",
    "    #use oneHotEncoder to convert categorical variable to binary\n",
    "    encoder = [OneHotEncoder(inputCol=x+\"_Index\", outputCol=y)\n",
    "           for x,y in zip(cat_cols, cat_columns_string_vec)]\n",
    "    #create list of stringIndexer and encoder with 2 dimension\n",
    "    tmp = [[i,j] for i,j in zip(stringIndexer, encoder)]\n",
    "    tmp = [i for sublist in tmp for i in sublist]\n",
    "    cols_assember=num_id + num_cols + cat_columns_string_vec\n",
    "    assembler=VectorAssembler(inputCols=cols_assember, outputCol='features')\n",
    "    tmp += [assembler]\n",
    "    pipeline=Pipeline(stages=tmp)\n",
    "    df_final_feat=pipeline.fit(a1).transform(a1)\n",
    "    return df_final_feat"
   ]
  },
  {
   "cell_type": "code",
   "execution_count": 49,
   "metadata": {
    "collapsed": true
   },
   "outputs": [],
   "source": [
    "#fucntion to call fucntion feature_engineering and check_distinct\n",
    "def Main_feature_engineering(df,df2): \n",
    "    \"\"\"Function for calling check_distinct and feature_engineering. Then Join data train and data test if distinct categories \n",
    "    between data train and data test not same then do feature engineering, If distinct same will do feature engineering data train\n",
    "    and data test separately\"\"\"\n",
    "    dist_total1, dist_total2=check_distinct(df,df2)   \n",
    "    if dist_total1!=dist_total2:\n",
    "        Label_df=df.select('Id', 'label')\n",
    "        df_final2=df.drop('label')\n",
    "        all_df =df_final2.union(df2)\n",
    "        all_df_feat=feature_engineering(all_df)\n",
    "        id_train=df.select('Id').collect()\n",
    "        id_train=[r['Id'] for r in id_train]\n",
    "        id_test=df2.select('Id').collect()\n",
    "        id_test=[r['Id'] for r in id_test]\n",
    "        a=all_df_feat.filter(all_df['Id'].isin(id_train))\n",
    "        b=all_df_feat.filter(all_df['Id'].isin(id_test))\n",
    "        a=a.join(Label_df, 'Id')\n",
    "    else:\n",
    "        a=feature_engineering(df)\n",
    "        b=feature_engineering(df2)        \n",
    "    return a,b"
   ]
  },
  {
   "cell_type": "markdown",
   "metadata": {},
   "source": [
    "### Call function feature engineering"
   ]
  },
  {
   "cell_type": "code",
   "execution_count": 66,
   "metadata": {},
   "outputs": [
    {
     "name": "stdout",
     "output_type": "stream",
     "text": [
      "Wall time: 8min 43s\n"
     ]
    }
   ],
   "source": [
    "#call function feature engineering\n",
    "%time data2, test2=Main_feature_engineering(df_final, test_data)"
   ]
  },
  {
   "cell_type": "code",
   "execution_count": 67,
   "metadata": {},
   "outputs": [
    {
     "name": "stdout",
     "output_type": "stream",
     "text": [
      "+---+--------------------+\n",
      "| Id|            features|\n",
      "+---+--------------------+\n",
      "|  1|(391,[0,1,2,3,4,5...|\n",
      "|  2|(391,[0,1,2,3,4,5...|\n",
      "|  4|(391,[0,1,2,3,4,5...|\n",
      "|  6|(391,[0,1,2,3,4,5...|\n",
      "|  8|(391,[0,1,2,3,4,5...|\n",
      "+---+--------------------+\n",
      "only showing top 5 rows\n",
      "\n"
     ]
    }
   ],
   "source": [
    "#view result of feature engineering in data train\n",
    "data2.select('Id', 'features').show(5)"
   ]
  },
  {
   "cell_type": "code",
   "execution_count": 68,
   "metadata": {
    "scrolled": true
   },
   "outputs": [
    {
     "name": "stdout",
     "output_type": "stream",
     "text": [
      "+---+--------------------+\n",
      "| Id|            features|\n",
      "+---+--------------------+\n",
      "|  3|(391,[0,1,2,3,4,5...|\n",
      "|  5|(391,[0,1,2,3,4,5...|\n",
      "|  7|(391,[0,1,2,3,4,5...|\n",
      "|  9|(391,[0,1,2,3,4,5...|\n",
      "| 10|(391,[0,1,2,3,4,5...|\n",
      "+---+--------------------+\n",
      "only showing top 5 rows\n",
      "\n"
     ]
    }
   ],
   "source": [
    "#view result of feature engineering in data test\n",
    "test2.select('Id', 'features').show(5)"
   ]
  },
  {
   "cell_type": "code",
   "execution_count": null,
   "metadata": {
    "collapsed": true
   },
   "outputs": [],
   "source": []
  },
  {
   "cell_type": "code",
   "execution_count": null,
   "metadata": {
    "collapsed": true
   },
   "outputs": [],
   "source": []
  },
  {
   "cell_type": "markdown",
   "metadata": {},
   "source": [
    "### Split Data train to train and test"
   ]
  },
  {
   "cell_type": "code",
   "execution_count": null,
   "metadata": {
    "collapsed": true
   },
   "outputs": [],
   "source": [
    "#Split df_final to train and test, train 70% and test 30%. Define seed 24 so the random data that we split will not change.\n",
    "#we can define seed with any value\n",
    "data_train, data_test=data2.randomSplit([0.7,0.3], 24)"
   ]
  },
  {
   "cell_type": "markdown",
   "metadata": {},
   "source": [
    "### Modelling \n",
    "We will use four algorithm to make a model and prediction, they are:\n",
    "\n",
    "1. Logistic Regression\n",
    "Logistic regression used logit function in prediction the probability. \n",
    "2. Decision Tree\n",
    "This algorithm will find the most significant independent variable to  create a group. \n",
    "3. Random Forest\n",
    "This algorithm build multiple decision trees and merges them together and use bagging method.\n",
    "4. Gradient Boosting \n",
    "This algorithm use boosting ensemble technic. This technique employs the logic in which the subsequent predictors learn from the mistakes of the previous predictors."
   ]
  },
  {
   "cell_type": "markdown",
   "metadata": {},
   "source": [
    "### Evaluation\n",
    "To evaluate model we use four metrics, they are:\n",
    "\n",
    "1. ##### ROC\n",
    "ROC (Receiver Operating Characteristic)\n",
    "The graph shows the true positive rate versus the false positive rate.\n",
    "This metric is between 0 and 1 with a better model scoring higher.\n",
    "An area of 1 represents a perfect test; an area of .5 represents a worthless test. So, The model is said to be good enaught if the value of the area under the curve is above 0.5\n",
    "\n",
    "2. ##### Gini Coefficient\n",
    "Gini is ratio between the ROC curve and the diagnol line & the area of the above triangle. So, we can calculate Gini by this formula:\n",
    "Gini = 2*AUC - 1\n",
    "Such as AUC ROC, Gini above 50% or 60% is good model.\n",
    "\n",
    "3. ##### Confusion Matrix\n",
    "Confusion Matrix is a table is used to describe performance of a classification model. Some definition are:\n",
    "  a. Accuracy = Proportion of total number of predictions that were correct\n",
    "  b. Precision (Positive Predictive Value) : Proportion of positive cases that were correctly identified.\n",
    "  c. Negative Predictive Value : Proportion of negative cases that were correctly identified.\n",
    "  d. Sensitivity (Recall) : Proportion of actual positive cases which are correctly identified.\n",
    "  e. Specificity : Proportion of actual negative cases which are correctly identified.\n",
    "  \n",
    "4. ##### Log Loss\n",
    "Log Loss is one of model performance evaluation in classification model. The purpose of model is to minimize log loss value. A perfect model would have of log loss of 0.\n",
    "Log Loss increase when predicted probability diverges from actual label."
   ]
  },
  {
   "cell_type": "markdown",
   "metadata": {},
   "source": [
    "### Modelling & Evaluation"
   ]
  },
  {
   "cell_type": "markdown",
   "metadata": {},
   "source": [
    "#### Logistic Regression "
   ]
  },
  {
   "cell_type": "code",
   "execution_count": 81,
   "metadata": {
    "collapsed": true
   },
   "outputs": [],
   "source": [
    "#Create logistic regression model to data train\n",
    "lr=LogisticRegression(featuresCol='features', labelCol='label')\n",
    "lr_model = lr.fit(data_train)\n",
    "\n",
    "#Transform model to data test\n",
    "lr_result = lr_model.transform(data_test)"
   ]
  },
  {
   "cell_type": "code",
   "execution_count": 82,
   "metadata": {},
   "outputs": [
    {
     "name": "stdout",
     "output_type": "stream",
     "text": [
      "+-----------+-----+----------+--------------------+\n",
      "|QuoteNumber|label|prediction|         probability|\n",
      "+-----------+-----+----------+--------------------+\n",
      "|          1|    0|       0.0|[0.98970992249340...|\n",
      "|          2|    0|       0.0|[0.94277193429369...|\n",
      "|          6|    0|       0.0|[0.96793973374689...|\n",
      "|         12|    0|       0.0|[0.95114651013774...|\n",
      "|         13|    0|       0.0|[0.99965320682235...|\n",
      "+-----------+-----+----------+--------------------+\n",
      "only showing top 5 rows\n",
      "\n"
     ]
    }
   ],
   "source": [
    "#view id, label, prediction and probability from result of modelling\n",
    "lr_result.select('Id', 'label', 'prediction', 'probability').show(5)"
   ]
  },
  {
   "cell_type": "markdown",
   "metadata": {},
   "source": [
    "#### Logistic Regression Evaluation"
   ]
  },
  {
   "cell_type": "code",
   "execution_count": 79,
   "metadata": {},
   "outputs": [
    {
     "name": "stdout",
     "output_type": "stream",
     "text": [
      "Logistic Regression Performance Measure\n",
      "Accuracy = 0.89\n",
      "AUC = 0.89\n"
     ]
    }
   ],
   "source": [
    "#Evaluate model by checking accuracy and AUC value\n",
    "lr_eval = BinaryClassificationEvaluator(rawPredictionCol=\"probability\", labelCol=\"label\")\n",
    "lr_eval2= MulticlassClassificationEvaluator(predictionCol=\"prediction\", labelCol=\"label\")\n",
    "lr_AUC  = lr_eval.evaluate(lr_result)\n",
    "lr_ACC  = lr_eval2.evaluate(lr_result, {lr_eval2.metricName:\"accuracy\"})\n",
    "\n",
    "print(\"Logistic Regression Performance Measure\")\n",
    "print(\"Accuracy = %0.2f\" % lr_ACC)\n",
    "print(\"AUC = %.2f\" % lr_AUC)"
   ]
  },
  {
   "cell_type": "markdown",
   "metadata": {},
   "source": [
    "##### ROC Grafik"
   ]
  },
  {
   "cell_type": "code",
   "execution_count": 83,
   "metadata": {},
   "outputs": [
    {
     "name": "stdout",
     "output_type": "stream",
     "text": [
      "Logistic Regression Area Under ROC\n",
      "Area under ROC = 0.89\n"
     ]
    },
    {
     "data": {
      "image/png": "[encoded data removed]",
      "text/plain": [
       "<matplotlib.figure.Figure at 0x2081d729e48>"
      ]
     },
     "metadata": {},
     "output_type": "display_data"
    }
   ],
   "source": [
    "#Create ROC grafik from lr_result\n",
    "PredAndLabels           = lr_result.select(\"probability\", \"label\")\n",
    "PredAndLabels_collect   = PredAndLabels.collect()\n",
    "PredAndLabels_list      = [(float(i[0][0]), 1.0-float(i[1])) for i in PredAndLabels_collect]\n",
    "PredAndLabels           = sc.parallelize(PredAndLabels_list)\n",
    "\n",
    "metrics = BinaryClassificationMetrics(PredAndLabels)\n",
    "\n",
    "# Area under ROC\n",
    "print(\"Logistic Regression Area Under ROC\")\n",
    "print(\"Area under ROC = %.2f\" % metrics.areaUnderROC)\n",
    "\n",
    "# Visualization\n",
    "FPR = dict()                                                        # FPR: False Positive Rate\n",
    "tpr = dict()                                                        # TPR: True Positive Rate\n",
    "roc_auc = dict()\n",
    " \n",
    "y_test = [i[1] for i in PredAndLabels_list]\n",
    "y_score = [i[0] for i in PredAndLabels_list]\n",
    " \n",
    "fpr, tpr, _ = roc_curve(y_test, y_score)\n",
    "roc_auc = auc(fpr, tpr)\n",
    " \n",
    "plt.figure(figsize=(5,4))\n",
    "plt.plot(fpr, tpr, label='ROC curve (area = %0.2f)' % roc_auc)\n",
    "plt.plot([0, 1], [0, 1], 'k--')\n",
    "plt.xlim([0.0, 1.0])\n",
    "plt.ylim([0.0, 1.05])\n",
    "plt.xlabel('False Positive Rate')\n",
    "plt.ylabel('True Positive Rate')\n",
    "plt.title('ROC Curve - Logistic Regression')\n",
    "plt.legend(loc=\"lower right\")\n",
    "plt.show()"
   ]
  },
  {
   "cell_type": "markdown",
   "metadata": {},
   "source": [
    "##### Confusion Matrix"
   ]
  },
  {
   "cell_type": "code",
   "execution_count": 95,
   "metadata": {},
   "outputs": [
    {
     "data": {
      "text/html": [
       "<div>\n",
       "<style>\n",
       "    .dataframe thead tr:only-child th {\n",
       "        text-align: right;\n",
       "    }\n",
       "\n",
       "    .dataframe thead th {\n",
       "        text-align: left;\n",
       "    }\n",
       "\n",
       "    .dataframe tbody tr th {\n",
       "        vertical-align: top;\n",
       "    }\n",
       "</style>\n",
       "<table border=\"1\" class=\"dataframe\">\n",
       "  <thead>\n",
       "    <tr style=\"text-align: right;\">\n",
       "      <th></th>\n",
       "      <th>prediction_label</th>\n",
       "      <th>0</th>\n",
       "      <th>1</th>\n",
       "    </tr>\n",
       "  </thead>\n",
       "  <tbody>\n",
       "    <tr>\n",
       "      <th>0</th>\n",
       "      <td>1.0</td>\n",
       "      <td>1918</td>\n",
       "      <td>8294</td>\n",
       "    </tr>\n",
       "    <tr>\n",
       "      <th>1</th>\n",
       "      <td>0.0</td>\n",
       "      <td>61886</td>\n",
       "      <td>6451</td>\n",
       "    </tr>\n",
       "  </tbody>\n",
       "</table>\n",
       "</div>"
      ],
      "text/plain": [
       "  prediction_label      0     1\n",
       "0              1.0   1918  8294\n",
       "1              0.0  61886  6451"
      ]
     },
     "execution_count": 95,
     "metadata": {},
     "output_type": "execute_result"
    }
   ],
   "source": [
    "cm_lr_result = lr_result.crosstab(\"prediction\", \"label\")\n",
    "cm_lr_result = cm_lr_result.toPandas()\n",
    "cm_lr_result"
   ]
  },
  {
   "cell_type": "code",
   "execution_count": 96,
   "metadata": {},
   "outputs": [
    {
     "name": "stdout",
     "output_type": "stream",
     "text": [
      "Accuracy = 0.89\n",
      "Sensitivity = 0.56\n",
      "Specificity = 0.97\n",
      "Precision = 0.81\n"
     ]
    }
   ],
   "source": [
    "#calculate Accuracy, Sensitivity, Specificity, Precision\n",
    "TP = cm_lr_result[\"1\"][0]\n",
    "FP = cm_lr_result[\"0\"][0]\n",
    "TN = cm_lr_result[\"0\"][1]\n",
    "FN = cm_lr_result[\"1\"][1]\n",
    "Accuracy = (TP+TN)/(TP+FP+TN+FN)\n",
    "Sensitivity = TP/(TP+FN)\n",
    "Specificity = TN/(TN+FP)\n",
    "Precision = TP/(TP+FP)\n",
    "\n",
    "print (\"Accuracy = %0.2f\" %Accuracy )\n",
    "print (\"Sensitivity = %0.2f\" %Sensitivity )\n",
    "print (\"Specificity = %0.2f\" %Specificity )\n",
    "print (\"Precision = %0.2f\" %Precision )"
   ]
  },
  {
   "cell_type": "markdown",
   "metadata": {},
   "source": [
    "##### Calculate Gini  Coefficient from AUC"
   ]
  },
  {
   "cell_type": "code",
   "execution_count": 86,
   "metadata": {},
   "outputs": [
    {
     "name": "stdout",
     "output_type": "stream",
     "text": [
      "AUC=0.89\n",
      "GINI ~=0.78\n"
     ]
    }
   ],
   "source": [
    "AUC = lr_AUC\n",
    "Gini = (2 * AUC - 1)\n",
    "print(\"AUC=%.2f\" % AUC)\n",
    "print(\"GINI ~=%.2f\" % Gini)"
   ]
  },
  {
   "cell_type": "markdown",
   "metadata": {},
   "source": [
    "##### Calculate Log Loss in pandas dataframe"
   ]
  },
  {
   "cell_type": "code",
   "execution_count": 87,
   "metadata": {
    "collapsed": true
   },
   "outputs": [],
   "source": [
    "#Create Dataframe to Calculate Log Loss\n",
    "y_test= data_test.select('label')\n",
    "lr_proba=lr_result.select('probability')"
   ]
  },
  {
   "cell_type": "code",
   "execution_count": 88,
   "metadata": {
    "collapsed": true
   },
   "outputs": [],
   "source": [
    "#Convert lr_probaspark dataframe to numpy array\n",
    "lr_proba= np.array(lr_result.select('probability').collect())\n",
    "\n",
    "#Convert numpy array 3 dimentional to 2 dimentional\n",
    "lr_proba=lr_proba.reshape(-1, lr_proba.shape[-1])\n",
    "\n",
    "#Convert y_test dataframe to pandas dataframe\n",
    "y_test=y_test.toPandas()\n",
    "\n",
    "#Convert y_test pandas dataframe to pandas series\n",
    "y_test=pd.Series(y_test['label'].values)"
   ]
  },
  {
   "cell_type": "code",
   "execution_count": 89,
   "metadata": {},
   "outputs": [
    {
     "name": "stdout",
     "output_type": "stream",
     "text": [
      "Log Loss Linear Regression:0.2821\n"
     ]
    }
   ],
   "source": [
    "#Calculate log loss from logistic regression\n",
    "LogLoss = log_loss(y_test, lr_proba) \n",
    "\n",
    "print(\"Log Loss Linear Regression:%.4f\" % LogLoss)"
   ]
  },
  {
   "cell_type": "markdown",
   "metadata": {},
   "source": [
    "#### Logistic Regression With Hyper-Parameter Tuning"
   ]
  },
  {
   "cell_type": "code",
   "execution_count": null,
   "metadata": {
    "collapsed": true
   },
   "outputs": [],
   "source": [
    "#define logistic regression model\n",
    "lr_hyper=LogisticRegression(featuresCol='features', labelCol='label')\n",
    "\n",
    "\n",
    "#Hyper-Parameter Tuning\n",
    "paramGrid_lr = ParamGridBuilder() \\\n",
    "    .addGrid(lr_hyper.regParam, [0.1, 0.01]) \\\n",
    "    .addGrid(lr_hyper.elasticNetParam, [0.8, 0.7]) \\\n",
    "    .build()\n",
    "crossval_lr = CrossValidator(estimator=lr_hyper,\n",
    "                             estimatorParamMaps=paramGrid_lr,\n",
    "                             evaluator=BinaryClassificationEvaluator(),\n",
    "                             numFolds=3)\n",
    "#fit model to data train\n",
    "lr_model_hyper = crossval_lr.fit(data_train)\n"
   ]
  },
  {
   "cell_type": "code",
   "execution_count": null,
   "metadata": {
    "collapsed": true
   },
   "outputs": [],
   "source": [
    "#Transform model to data test\n",
    "lr_result_hyper = lr_model_hyper.transform(data_test)"
   ]
  },
  {
   "cell_type": "code",
   "execution_count": null,
   "metadata": {
    "collapsed": true
   },
   "outputs": [],
   "source": [
    "#view id, label, prediction and probability from result of modelling\n",
    "lr_result_hyper.select('Id', 'label', 'prediction', 'probability').show(5)"
   ]
  },
  {
   "cell_type": "markdown",
   "metadata": {},
   "source": [
    "#### Logistic Regression With Hyper-Parameter Tuning Evaluation"
   ]
  },
  {
   "cell_type": "code",
   "execution_count": null,
   "metadata": {
    "collapsed": true
   },
   "outputs": [],
   "source": [
    "#Evaluate model by checking accuracy and AUC value\n",
    "lr_hyper_eval = BinaryClassificationEvaluator(rawPredictionCol=\"probability\", labelCol=\"label\")\n",
    "lr_hyper_eval2= MulticlassClassificationEvaluator(predictionCol=\"prediction\", labelCol=\"label\")\n",
    "lr_hyper_AUC  = lr_hyper_eval.evaluate(lr_result_hyper)\n",
    "lr_hyper_ACC  = lr_hyper_eval2.evaluate(lr_result_hyper, {lr_hyper_eval2.metricName:\"accuracy\"})\n",
    "\n",
    "print(\"Logistic Regression Performance Measure\")\n",
    "print(\"Accuracy = %0.2f\" % lr_hyper_ACC)\n",
    "print(\"AUC = %.2f\" % lr_hyper_AUC)"
   ]
  },
  {
   "cell_type": "markdown",
   "metadata": {},
   "source": [
    "##### ROC Grafik"
   ]
  },
  {
   "cell_type": "code",
   "execution_count": null,
   "metadata": {
    "collapsed": true
   },
   "outputs": [],
   "source": [
    "PredAndLabels           = lr_result_hyper.select(\"probability\", \"label\")\n",
    "PredAndLabels_collect   = PredAndLabels.collect()\n",
    "PredAndLabels_list      = [(float(i[0][0]), 1.0-float(i[1])) for i in PredAndLabels_collect]\n",
    "PredAndLabels           = sc.parallelize(PredAndLabels_list)\n",
    "\n",
    "metrics = BinaryClassificationMetrics(PredAndLabels)\n",
    "\n",
    "# Area under ROC\n",
    "print(\"Logistic Regression Area Under ROC\")\n",
    "print(\"Area under ROC = %.2f\" % metrics.areaUnderROC)\n",
    "\n",
    "# Visualization\n",
    "FPR = dict()                                                        # FPR: False Positive Rate\n",
    "tpr = dict()                                                        # TPR: True Positive Rate\n",
    "roc_auc = dict()\n",
    " \n",
    "y_test = [i[1] for i in PredAndLabels_list]\n",
    "y_score = [i[0] for i in PredAndLabels_list]\n",
    " \n",
    "fpr, tpr, _ = roc_curve(y_test, y_score)\n",
    "roc_auc = auc(fpr, tpr)\n",
    " \n",
    "plt.figure(figsize=(5,4))\n",
    "plt.plot(fpr, tpr, label='ROC curve (area = %0.2f)' % roc_auc)\n",
    "plt.plot([0, 1], [0, 1], 'k--')\n",
    "plt.xlim([0.0, 1.0])\n",
    "plt.ylim([0.0, 1.05])\n",
    "plt.xlabel('False Positive Rate')\n",
    "plt.ylabel('True Positive Rate')\n",
    "plt.title('ROC Curve - Logistic Regression')\n",
    "plt.legend(loc=\"lower right\")\n",
    "plt.show()"
   ]
  },
  {
   "cell_type": "markdown",
   "metadata": {},
   "source": [
    "##### Confution Matrix"
   ]
  },
  {
   "cell_type": "code",
   "execution_count": null,
   "metadata": {
    "collapsed": true
   },
   "outputs": [],
   "source": [
    "cm_lr_result_hyper = lr_result_hyper.crosstab(\"prediction\", \"label\")\n",
    "cm_lr_result_hyper = cm_lr_result_hyper.toPandas()\n",
    "cm_lr_result_hyper"
   ]
  },
  {
   "cell_type": "code",
   "execution_count": null,
   "metadata": {
    "collapsed": true
   },
   "outputs": [],
   "source": [
    "#calculate Accuracy, Sensitivity, Specificity, Precision\n",
    "TP = cm_lr_result_hyper[\"1\"][0]\n",
    "FP = cm_lr_result_hyper[\"0\"][0]\n",
    "TN = cm_lr_result_hyper[\"0\"][1]\n",
    "FN = cm_lr_result_hyper[\"1\"][1]\n",
    "Accuracy = (TP+TN)/(TP+FP+TN+FN)\n",
    "Sensitivity = TP/(TP+FN)\n",
    "Specificity = TN/(TN+FP)\n",
    "Precision = TP/(TP+FP)\n",
    "\n",
    "print (\"Accuracy = %0.2f\" %Accuracy )\n",
    "print (\"Sensitivity = %0.2f\" %Sensitivity )\n",
    "print (\"Specificity = %0.2f\" %Specificity )\n",
    "print (\"Precision = %0.2f\" %Precision )"
   ]
  },
  {
   "cell_type": "markdown",
   "metadata": {},
   "source": [
    "##### Calculate Gini Coefisient from AUC"
   ]
  },
  {
   "cell_type": "code",
   "execution_count": null,
   "metadata": {
    "collapsed": true
   },
   "outputs": [],
   "source": [
    "AUC = lr_hyper_AUC\n",
    "Gini_lr_hyper = (2 * AUC - 1)\n",
    "print(\"AUC=%.2f\" % AUC)\n",
    "print(\"GINI ~=%.2f\" % Gini_lr_hyper)"
   ]
  },
  {
   "cell_type": "markdown",
   "metadata": {},
   "source": [
    "##### Calculate Log Loss in pandas dataframe"
   ]
  },
  {
   "cell_type": "code",
   "execution_count": null,
   "metadata": {
    "collapsed": true
   },
   "outputs": [],
   "source": [
    "#Create Dataframe to Calculate Log Loss\n",
    "y_test= titanic_test.select('label')\n",
    "lr_hyper_proba=lr_result_hyper.select('probability')"
   ]
  },
  {
   "cell_type": "code",
   "execution_count": null,
   "metadata": {
    "collapsed": true
   },
   "outputs": [],
   "source": [
    "#Convert lr_probaspark dataframe to numpy array\n",
    "lr_hyper_proba= np.array(lr_hyper_proba.select('probability').collect())\n",
    "\n",
    "#Convert numpy array 3 dimentional to 2 dimentional\n",
    "lr_hyper_proba=lr_hyper_proba.reshape(-1, lr_hyper_proba.shape[-1])\n",
    "\n",
    "#Convert y_test dataframe to pandas dataframe\n",
    "y_test=y_test.toPandas()\n",
    "\n",
    "#Convert y_test pandas dataframe to pandas series\n",
    "y_test=pd.Series(y_test['label'].values)"
   ]
  },
  {
   "cell_type": "code",
   "execution_count": null,
   "metadata": {
    "collapsed": true
   },
   "outputs": [],
   "source": [
    "#Calculate log loss from logistic regression hyper parameter\n",
    "LogLoss = log_loss(y_test, lr_hyper_proba) \n",
    "\n",
    "print(\"Log Loss Linear Regression:%.4f\" % LogLoss)"
   ]
  },
  {
   "cell_type": "markdown",
   "metadata": {},
   "source": [
    "#### Decision Tree"
   ]
  },
  {
   "cell_type": "code",
   "execution_count": 90,
   "metadata": {
    "collapsed": true
   },
   "outputs": [],
   "source": [
    "#Create decision tree model to data train\n",
    "dt=DecisionTreeClassifier(featuresCol = 'features', labelCol = 'label', maxDepth = 3)\n",
    "dt_model = dt.fit(data_train)\n",
    "\n",
    "##Transform model to data test\n",
    "dt_result = dt_model.transform(data_test)"
   ]
  },
  {
   "cell_type": "code",
   "execution_count": 91,
   "metadata": {
    "scrolled": true
   },
   "outputs": [
    {
     "name": "stdout",
     "output_type": "stream",
     "text": [
      "+-----------+-----+----------+--------------------+\n",
      "|QuoteNumber|label|prediction|         probability|\n",
      "+-----------+-----+----------+--------------------+\n",
      "|          1|    0|       0.0|[0.93437569103893...|\n",
      "|          2|    0|       0.0|[0.93437569103893...|\n",
      "|          6|    0|       0.0|           [1.0,0.0]|\n",
      "|         12|    0|       0.0|[0.69059559980964...|\n",
      "|         13|    0|       0.0|[0.93437569103893...|\n",
      "+-----------+-----+----------+--------------------+\n",
      "only showing top 5 rows\n",
      "\n"
     ]
    }
   ],
   "source": [
    "#view id, label, prediction and probability from result of modelling\n",
    "dt_result.select('Id', 'label', 'prediction', 'probability').show(5)"
   ]
  },
  {
   "cell_type": "markdown",
   "metadata": {},
   "source": [
    "#### Decision Tree Evaluation"
   ]
  },
  {
   "cell_type": "code",
   "execution_count": 92,
   "metadata": {},
   "outputs": [
    {
     "name": "stdout",
     "output_type": "stream",
     "text": [
      "Decision Tree Performance Measure\n",
      "Accuracy = 0.88\n",
      "AUC = 0.86\n"
     ]
    }
   ],
   "source": [
    "#Evaluate model by calculating accuracy and area under curve (AUC)\n",
    "dt_eval = BinaryClassificationEvaluator(rawPredictionCol=\"probability\", labelCol=\"label\")\n",
    "dt_eval2= MulticlassClassificationEvaluator(predictionCol=\"prediction\", labelCol=\"label\")\n",
    "dt_AUC  = dt_eval.evaluate(dt_result)\n",
    "dt_ACC  = dt_eval2.evaluate(dt_result, {dt_eval2.metricName:\"accuracy\"})\n",
    "\n",
    "print(\"Decision Tree Performance Measure\")\n",
    "print(\"Accuracy = %0.2f\" % dt_ACC)\n",
    "print(\"AUC = %.2f\" % dt_AUC)"
   ]
  },
  {
   "cell_type": "markdown",
   "metadata": {},
   "source": [
    "##### ROC Grafik"
   ]
  },
  {
   "cell_type": "code",
   "execution_count": 93,
   "metadata": {},
   "outputs": [
    {
     "name": "stdout",
     "output_type": "stream",
     "text": [
      "Decision Tree Area Under ROC\n",
      "Area under ROC = 0.86\n"
     ]
    },
    {
     "data": {
      "image/png": "[encoded data removed]",
      "text/plain": [
       "<matplotlib.figure.Figure at 0x20805d07080>"
      ]
     },
     "metadata": {},
     "output_type": "display_data"
    }
   ],
   "source": [
    "PredAndLabels           = dt_result.select(\"probability\", \"label\")\n",
    "PredAndLabels_collect   = PredAndLabels.collect()\n",
    "PredAndLabels_list      = [(float(i[0][0]), 1.0-float(i[1])) for i in PredAndLabels_collect]\n",
    "PredAndLabels           = sc.parallelize(PredAndLabels_list)\n",
    "\n",
    "metrics = BinaryClassificationMetrics(PredAndLabels)\n",
    "\n",
    "# Area under ROC\n",
    "print(\"Decision Tree Area Under ROC\")\n",
    "print(\"Area under ROC = %.2f\" % metrics.areaUnderROC)\n",
    "\n",
    "# Visualization\n",
    "FPR = dict()                                                        # FPR: False Positive Rate\n",
    "tpr = dict()                                                        # TPR: True Positive Rate\n",
    "roc_auc = dict()\n",
    " \n",
    "y_test = [i[1] for i in PredAndLabels_list]\n",
    "y_score = [i[0] for i in PredAndLabels_list]\n",
    " \n",
    "fpr, tpr, _ = roc_curve(y_test, y_score)\n",
    "roc_auc = auc(fpr, tpr)\n",
    " \n",
    "plt.figure(figsize=(5,4))\n",
    "plt.plot(fpr, tpr, label='ROC curve (area = %0.2f)' % roc_auc)\n",
    "plt.plot([0, 1], [0, 1], 'k--')\n",
    "plt.xlim([0.0, 1.0])\n",
    "plt.ylim([0.0, 1.05])\n",
    "plt.xlabel('False Positive Rate')\n",
    "plt.ylabel('True Positive Rate')\n",
    "plt.title('ROC Curve - Decision Tree')\n",
    "plt.legend(loc=\"lower right\")\n",
    "plt.show()"
   ]
  },
  {
   "cell_type": "markdown",
   "metadata": {},
   "source": [
    "##### Confusion Matrix"
   ]
  },
  {
   "cell_type": "code",
   "execution_count": 97,
   "metadata": {},
   "outputs": [
    {
     "data": {
      "text/html": [
       "<div>\n",
       "<style>\n",
       "    .dataframe thead tr:only-child th {\n",
       "        text-align: right;\n",
       "    }\n",
       "\n",
       "    .dataframe thead th {\n",
       "        text-align: left;\n",
       "    }\n",
       "\n",
       "    .dataframe tbody tr th {\n",
       "        vertical-align: top;\n",
       "    }\n",
       "</style>\n",
       "<table border=\"1\" class=\"dataframe\">\n",
       "  <thead>\n",
       "    <tr style=\"text-align: right;\">\n",
       "      <th></th>\n",
       "      <th>prediction_label</th>\n",
       "      <th>0</th>\n",
       "      <th>1</th>\n",
       "    </tr>\n",
       "  </thead>\n",
       "  <tbody>\n",
       "    <tr>\n",
       "      <th>0</th>\n",
       "      <td>1.0</td>\n",
       "      <td>25</td>\n",
       "      <td>5263</td>\n",
       "    </tr>\n",
       "    <tr>\n",
       "      <th>1</th>\n",
       "      <td>0.0</td>\n",
       "      <td>63779</td>\n",
       "      <td>9482</td>\n",
       "    </tr>\n",
       "  </tbody>\n",
       "</table>\n",
       "</div>"
      ],
      "text/plain": [
       "  prediction_label      0     1\n",
       "0              1.0     25  5263\n",
       "1              0.0  63779  9482"
      ]
     },
     "execution_count": 97,
     "metadata": {},
     "output_type": "execute_result"
    }
   ],
   "source": [
    "cm_dt_result = dt_result.crosstab(\"prediction\", \"label\")\n",
    "cm_dt_result = cm_dt_result.toPandas()\n",
    "cm_dt_result"
   ]
  },
  {
   "cell_type": "code",
   "execution_count": 98,
   "metadata": {},
   "outputs": [
    {
     "name": "stdout",
     "output_type": "stream",
     "text": [
      "Accuracy = 0.88\n",
      "Sensitivity = 0.36\n",
      "Specificity = 1.00\n",
      "Precision = 1.00\n"
     ]
    }
   ],
   "source": [
    "#calculate accuracy, sensitivity, specificity and precision\n",
    "TP = cm_dt_result[\"1\"][0]\n",
    "FP = cm_dt_result[\"0\"][0]\n",
    "TN = cm_dt_result[\"0\"][1]\n",
    "FN = cm_dt_result[\"1\"][1]\n",
    "Accuracy = (TP+TN)/(TP+FP+TN+FN)\n",
    "Sensitivity = TP/(TP+FN)\n",
    "Specificity = TN/(TN+FP)\n",
    "Precision = TP/(TP+FP)\n",
    "\n",
    "print (\"Accuracy = %0.2f\" %Accuracy )\n",
    "print (\"Sensitivity = %0.2f\" %Sensitivity )\n",
    "print (\"Specificity = %0.2f\" %Specificity )\n",
    "print (\"Precision = %0.2f\" %Precision )"
   ]
  },
  {
   "cell_type": "markdown",
   "metadata": {},
   "source": [
    "##### Calculate Gini Coeffiecient from AUC "
   ]
  },
  {
   "cell_type": "code",
   "execution_count": 94,
   "metadata": {},
   "outputs": [
    {
     "name": "stdout",
     "output_type": "stream",
     "text": [
      "AUC=0.86\n",
      "GINI ~=0.72\n"
     ]
    }
   ],
   "source": [
    "AUC = dt_AUC\n",
    "Gini_dt = (2 * AUC - 1)\n",
    "print(\"AUC=%.2f\" % AUC)\n",
    "print(\"GINI ~=%.2f\" % Gini_dt)"
   ]
  },
  {
   "cell_type": "markdown",
   "metadata": {},
   "source": [
    "##### Calculate Log Loss in pandas dataframe"
   ]
  },
  {
   "cell_type": "code",
   "execution_count": 99,
   "metadata": {
    "collapsed": true
   },
   "outputs": [],
   "source": [
    "#Create Dataframe to Calculate Log Loss\n",
    "y_test= data_test.select('label')\n",
    "dt_proba=dt_result.select('probability')"
   ]
  },
  {
   "cell_type": "code",
   "execution_count": 100,
   "metadata": {
    "collapsed": true
   },
   "outputs": [],
   "source": [
    "#Convert lr_probaspark dataframe to numpy array\n",
    "dt_proba= np.array(dt_proba.select('probability').collect())\n",
    "\n",
    "#Convert numpy array 3 dimentional to 2 dimentional\n",
    "dt_proba=dt_proba.reshape(-1, dt_proba.shape[-1])\n",
    "\n",
    "#Convert y_test dataframe to pandas dataframe\n",
    "y_test=y_test.toPandas()\n",
    "\n",
    "#Convert y_test pandas dataframe to pandas series\n",
    "y_test=pd.Series(y_test['label'].values)"
   ]
  },
  {
   "cell_type": "code",
   "execution_count": 101,
   "metadata": {},
   "outputs": [
    {
     "name": "stdout",
     "output_type": "stream",
     "text": [
      "Log Loss Decision Tree:0.2929\n"
     ]
    }
   ],
   "source": [
    "#Calculate log loss from Decision Tree\n",
    "LogLoss = log_loss(y_test, dt_proba) \n",
    "\n",
    "print(\"Log Loss Decision Tree:%.4f\" % LogLoss)"
   ]
  },
  {
   "cell_type": "markdown",
   "metadata": {},
   "source": [
    "#### Decision Tree With Hyper-Parameter Tuning"
   ]
  },
  {
   "cell_type": "code",
   "execution_count": null,
   "metadata": {
    "collapsed": true
   },
   "outputs": [],
   "source": [
    "#define desicion tree model\n",
    "dt_hyper=DecisionTreeClassifier(featuresCol = 'features', labelCol = 'label', impurity='gini')\n",
    "\n",
    "#Hyper-Parameter Tuning\n",
    "paramGrid_dt = ParamGridBuilder() \\\n",
    "    .addGrid(dt_hyper.maxDepth, [5, 7]) \\\n",
    "    .addGrid(dt_hyper.maxBins, [10,20]) \\\n",
    "    .build()\n",
    "crossval_dt = CrossValidator(estimator=dt_hyper,\n",
    "                             estimatorParamMaps=paramGrid_dt,\n",
    "                             evaluator=BinaryClassificationEvaluator(),\n",
    "                             numFolds=5)\n",
    "#fit model to data train\n",
    "dt_model_hyper = crossval_dt.fit(data_train)\n"
   ]
  },
  {
   "cell_type": "code",
   "execution_count": null,
   "metadata": {
    "collapsed": true
   },
   "outputs": [],
   "source": [
    "#transform model to data test\n",
    "dt_result_hyper = dt_model_hyper.transform(data_test)"
   ]
  },
  {
   "cell_type": "code",
   "execution_count": null,
   "metadata": {
    "collapsed": true
   },
   "outputs": [],
   "source": [
    "#view id, label, prediction and probability from result of modelling \n",
    "dt_result_hyper.select('Id', 'label', 'prediction', 'probability').show(5)"
   ]
  },
  {
   "cell_type": "markdown",
   "metadata": {},
   "source": [
    "#### Decision Tree With Hyper-Parameter Tuning Evaluation"
   ]
  },
  {
   "cell_type": "code",
   "execution_count": null,
   "metadata": {
    "collapsed": true
   },
   "outputs": [],
   "source": [
    "#Evaluate model by calculating accuracy and area under curve (AUC)\n",
    "dt_hyper_eval = BinaryClassificationEvaluator(rawPredictionCol=\"probability\", labelCol=\"label\")\n",
    "dt_hyper_eval2= MulticlassClassificationEvaluator(predictionCol=\"prediction\", labelCol=\"label\")\n",
    "dt_hyper_AUC  = dt_hyper_eval.evaluate(dt_result_hyper)\n",
    "dt_hyper_ACC  = dt_hyper_eval2.evaluate(dt_result_hyper, {dt_hyper_eval2.metricName:\"accuracy\"})\n",
    "\n",
    "print(\"Decision Tree Performance Measure\")\n",
    "print(\"Accuracy = %0.2f\" % dt_hyper_ACC)\n",
    "print(\"AUC = %.2f\" % dt_hyper_AUC)"
   ]
  },
  {
   "cell_type": "markdown",
   "metadata": {},
   "source": [
    "##### ROC Grafik"
   ]
  },
  {
   "cell_type": "code",
   "execution_count": null,
   "metadata": {
    "collapsed": true
   },
   "outputs": [],
   "source": [
    "PredAndLabels           = dt_result_hyper.select(\"probability\", \"label\")\n",
    "PredAndLabels_collect   = PredAndLabels.collect()\n",
    "PredAndLabels_list      = [(float(i[0][0]), 1.0-float(i[1])) for i in PredAndLabels_collect]\n",
    "PredAndLabels           = sc.parallelize(PredAndLabels_list)\n",
    "\n",
    "metrics = BinaryClassificationMetrics(PredAndLabels)\n",
    "\n",
    "# Area under ROC\n",
    "print(\"Decision Tree Area Under ROC\")\n",
    "print(\"Area under ROC = %.2f\" % metrics.areaUnderROC)\n",
    "\n",
    "# Visualization\n",
    "FPR = dict()                                                        # FPR: False Positive Rate\n",
    "tpr = dict()                                                        # TPR: True Positive Rate\n",
    "roc_auc = dict()\n",
    " \n",
    "y_test = [i[1] for i in PredAndLabels_list]\n",
    "y_score = [i[0] for i in PredAndLabels_list]\n",
    " \n",
    "fpr, tpr, _ = roc_curve(y_test, y_score)\n",
    "roc_auc = auc(fpr, tpr)\n",
    " \n",
    "plt.figure(figsize=(5,4))\n",
    "plt.plot(fpr, tpr, label='ROC curve (area = %0.2f)' % roc_auc)\n",
    "plt.plot([0, 1], [0, 1], 'k--')\n",
    "plt.xlim([0.0, 1.0])\n",
    "plt.ylim([0.0, 1.05])\n",
    "plt.xlabel('False Positive Rate')\n",
    "plt.ylabel('True Positive Rate')\n",
    "plt.title('ROC Curve - Decision Tree')\n",
    "plt.legend(loc=\"lower right\")\n",
    "plt.show()"
   ]
  },
  {
   "cell_type": "markdown",
   "metadata": {},
   "source": [
    "##### Confusion Matrix"
   ]
  },
  {
   "cell_type": "code",
   "execution_count": null,
   "metadata": {
    "collapsed": true
   },
   "outputs": [],
   "source": [
    "cm_dt_result_hyper = dt_result_hyper.crosstab(\"prediction\", \"label\")\n",
    "cm_dt_result_hyper = cm_dt_result_hyper.toPandas()\n",
    "cm_dt_result_hyper"
   ]
  },
  {
   "cell_type": "code",
   "execution_count": null,
   "metadata": {
    "collapsed": true
   },
   "outputs": [],
   "source": [
    "#calculate accuracy, sensitivity, specificity and precision\n",
    "TP = cm_dt_result_hyper[\"1\"][0]\n",
    "FP = cm_dt_result_hyper[\"0\"][0]\n",
    "TN = cm_dt_result_hyper[\"0\"][1]\n",
    "FN = cm_dt_result_hyper[\"1\"][1]\n",
    "Accuracy = (TP+TN)/(TP+FP+TN+FN)\n",
    "Sensitivity = TP/(TP+FN)\n",
    "Specificity = TN/(TN+FP)\n",
    "Precision = TP/(TP+FP)\n",
    "\n",
    "print (\"Accuracy = %0.2f\" %Accuracy )\n",
    "print (\"Sensitivity = %0.2f\" %Sensitivity )\n",
    "print (\"Specificity = %0.2f\" %Specificity )\n",
    "print (\"Precision = %0.2f\" %Precision )"
   ]
  },
  {
   "cell_type": "markdown",
   "metadata": {},
   "source": [
    "##### Calculate Gini Coefficient from AUC "
   ]
  },
  {
   "cell_type": "code",
   "execution_count": null,
   "metadata": {
    "collapsed": true
   },
   "outputs": [],
   "source": [
    "AUC = dt_hyper_AUC\n",
    "Gini_dt_hyper= (2 * AUC -1)\n",
    "\n",
    "print(\"AUC=%.2f\" % AUC)\n",
    "print(\"GINI ~=%.2f\" % Gini_dt_hyper)"
   ]
  },
  {
   "cell_type": "markdown",
   "metadata": {},
   "source": [
    "##### Calculate Log Loss in pandas dataframe"
   ]
  },
  {
   "cell_type": "code",
   "execution_count": null,
   "metadata": {
    "collapsed": true
   },
   "outputs": [],
   "source": [
    "#Create Dataframe to Calculate Log Loss\n",
    "y_test= data_test.select('label')\n",
    "dt_hyper_proba=dt_result_hyper.select('probability')"
   ]
  },
  {
   "cell_type": "code",
   "execution_count": null,
   "metadata": {
    "collapsed": true
   },
   "outputs": [],
   "source": [
    "#Convert lr_probaspark dataframe to numpy array\n",
    "dt_hyper_proba= np.array(dt_hyper_proba.select('probability').collect())\n",
    "\n",
    "#Convert numpy array 3 dimentional to 2 dimentional\n",
    "dt_hyper_proba=dt_hyper_proba.reshape(-1, dt_hyper_proba.shape[-1])\n",
    "\n",
    "#Convert y_test dataframe to pandas dataframe\n",
    "y_test=y_test.toPandas()\n",
    "\n",
    "#Convert y_test pandas dataframe to pandas series\n",
    "y_test=pd.Series(y_test['label'].values)"
   ]
  },
  {
   "cell_type": "code",
   "execution_count": null,
   "metadata": {
    "collapsed": true
   },
   "outputs": [],
   "source": [
    "#Calculate log loss from Decision Tree hyper parameter\n",
    "LogLoss = log_loss(y_test, dt_hyper_proba) \n",
    "\n",
    "print(\"Log Loss Decision Tree:%.4f\" % LogLoss)"
   ]
  },
  {
   "cell_type": "markdown",
   "metadata": {},
   "source": [
    "#### Random Forest"
   ]
  },
  {
   "cell_type": "code",
   "execution_count": 102,
   "metadata": {
    "collapsed": true
   },
   "outputs": [],
   "source": [
    "#Create decision tree model to data train\n",
    "rf = RandomForestClassifier(featuresCol='features', labelCol=\"label\")\n",
    "rf_model = rf.fit(data_train)\n",
    "\n",
    "#transform model to data test\n",
    "rf_result = rf_model.transform(data_test)"
   ]
  },
  {
   "cell_type": "code",
   "execution_count": 103,
   "metadata": {},
   "outputs": [
    {
     "name": "stdout",
     "output_type": "stream",
     "text": [
      "+-----------+-----+----------+--------------------+\n",
      "|QuoteNumber|label|prediction|         probability|\n",
      "+-----------+-----+----------+--------------------+\n",
      "|          1|    0|       0.0|[0.91517273017559...|\n",
      "|          2|    0|       0.0|[0.82291268107459...|\n",
      "|          6|    0|       0.0|[0.97064099517392...|\n",
      "|         12|    0|       0.0|[0.84192959588552...|\n",
      "|         13|    0|       0.0|[0.99085569112231...|\n",
      "+-----------+-----+----------+--------------------+\n",
      "only showing top 5 rows\n",
      "\n"
     ]
    }
   ],
   "source": [
    "#view id, label, prediction and probability from result of modelling\n",
    "rf_result.select('Id', 'label', 'prediction', 'probability').show(5)"
   ]
  },
  {
   "cell_type": "markdown",
   "metadata": {},
   "source": [
    "#### Random Forest Evaluation"
   ]
  },
  {
   "cell_type": "code",
   "execution_count": 104,
   "metadata": {},
   "outputs": [
    {
     "name": "stdout",
     "output_type": "stream",
     "text": [
      "Decision Tree Performance Measure\n",
      "Accuracy = 0.84\n",
      "AUC = 0.91\n"
     ]
    }
   ],
   "source": [
    "#Evaluate model by calculatin accuracy and area under curve (AUC)\n",
    "rf_eval = BinaryClassificationEvaluator(rawPredictionCol=\"probability\", labelCol=\"label\")\n",
    "rf_eval2= MulticlassClassificationEvaluator(predictionCol=\"prediction\", labelCol=\"label\")\n",
    "rf_AUC  = rf_eval.evaluate(rf_result)\n",
    "rf_ACC  = rf_eval2.evaluate(rf_result, {rf_eval2.metricName:\"accuracy\"})\n",
    "\n",
    "print(\"Decision Tree Performance Measure\")\n",
    "print(\"Accuracy = %0.2f\" % rf_ACC)\n",
    "print(\"AUC = %.2f\" % rf_AUC)"
   ]
  },
  {
   "cell_type": "markdown",
   "metadata": {},
   "source": [
    "##### ROC Grafik"
   ]
  },
  {
   "cell_type": "code",
   "execution_count": 105,
   "metadata": {},
   "outputs": [
    {
     "name": "stdout",
     "output_type": "stream",
     "text": [
      "Random Forest Area Under ROC\n",
      "Area under ROC = 0.91\n"
     ]
    },
    {
     "data": {
      "image/png": "[encoded data removed]",
      "text/plain": [
       "<matplotlib.figure.Figure at 0x2081d6045f8>"
      ]
     },
     "metadata": {},
     "output_type": "display_data"
    }
   ],
   "source": [
    "PredAndLabels           = rf_result.select(\"probability\", \"label\")\n",
    "PredAndLabels_collect   = PredAndLabels.collect()\n",
    "PredAndLabels_list      = [(float(i[0][0]), 1.0-float(i[1])) for i in PredAndLabels_collect]\n",
    "PredAndLabels           = sc.parallelize(PredAndLabels_list)\n",
    "\n",
    "metrics = BinaryClassificationMetrics(PredAndLabels)\n",
    "\n",
    "# Area under ROC\n",
    "print(\"Random Forest Area Under ROC\")\n",
    "print(\"Area under ROC = %.2f\" % metrics.areaUnderROC)\n",
    "\n",
    "# Visualization\n",
    "FPR = dict()                                                        # FPR: False Positive Rate\n",
    "tpr = dict()                                                        # TPR: True Positive Rate\n",
    "roc_auc = dict()\n",
    " \n",
    "y_test = [i[1] for i in PredAndLabels_list]\n",
    "y_score = [i[0] for i in PredAndLabels_list]\n",
    " \n",
    "fpr, tpr, _ = roc_curve(y_test, y_score)\n",
    "roc_auc = auc(fpr, tpr)\n",
    " \n",
    "plt.figure(figsize=(5,4))\n",
    "plt.plot(fpr, tpr, label='ROC curve (area = %0.2f)' % roc_auc)\n",
    "plt.plot([0, 1], [0, 1], 'k--')\n",
    "plt.xlim([0.0, 1.0])\n",
    "plt.ylim([0.0, 1.05])\n",
    "plt.xlabel('False Positive Rate')\n",
    "plt.ylabel('True Positive Rate')\n",
    "plt.title('ROC Curve - Random Forest')\n",
    "plt.legend(loc=\"lower right\")\n",
    "plt.show()"
   ]
  },
  {
   "cell_type": "markdown",
   "metadata": {},
   "source": [
    "##### Confusion Matrix"
   ]
  },
  {
   "cell_type": "code",
   "execution_count": 106,
   "metadata": {},
   "outputs": [
    {
     "data": {
      "text/html": [
       "<div>\n",
       "<style>\n",
       "    .dataframe thead tr:only-child th {\n",
       "        text-align: right;\n",
       "    }\n",
       "\n",
       "    .dataframe thead th {\n",
       "        text-align: left;\n",
       "    }\n",
       "\n",
       "    .dataframe tbody tr th {\n",
       "        vertical-align: top;\n",
       "    }\n",
       "</style>\n",
       "<table border=\"1\" class=\"dataframe\">\n",
       "  <thead>\n",
       "    <tr style=\"text-align: right;\">\n",
       "      <th></th>\n",
       "      <th>prediction_label</th>\n",
       "      <th>0</th>\n",
       "      <th>1</th>\n",
       "    </tr>\n",
       "  </thead>\n",
       "  <tbody>\n",
       "    <tr>\n",
       "      <th>0</th>\n",
       "      <td>1.0</td>\n",
       "      <td>6</td>\n",
       "      <td>2467</td>\n",
       "    </tr>\n",
       "    <tr>\n",
       "      <th>1</th>\n",
       "      <td>0.0</td>\n",
       "      <td>63798</td>\n",
       "      <td>12278</td>\n",
       "    </tr>\n",
       "  </tbody>\n",
       "</table>\n",
       "</div>"
      ],
      "text/plain": [
       "  prediction_label      0      1\n",
       "0              1.0      6   2467\n",
       "1              0.0  63798  12278"
      ]
     },
     "execution_count": 106,
     "metadata": {},
     "output_type": "execute_result"
    }
   ],
   "source": [
    "cm_rf_result = rf_result.crosstab(\"prediction\", \"label\")\n",
    "cm_rf_result = cm_rf_result.toPandas()\n",
    "cm_rf_result"
   ]
  },
  {
   "cell_type": "code",
   "execution_count": 107,
   "metadata": {},
   "outputs": [
    {
     "name": "stdout",
     "output_type": "stream",
     "text": [
      "Accuracy = 0.84\n",
      "Sensitivity = 0.17\n",
      "Specificity = 1.00\n",
      "Precision = 1.00\n"
     ]
    }
   ],
   "source": [
    "#calculate accurary,sensitivity, specificity and precision \n",
    "TP = cm_rf_result[\"1\"][0]\n",
    "FP = cm_rf_result[\"0\"][0]\n",
    "TN = cm_rf_result[\"0\"][1]\n",
    "FN = cm_rf_result[\"1\"][1]\n",
    "Accuracy = (TP+TN)/(TP+FP+TN+FN)\n",
    "Sensitivity = TP/(TP+FN)\n",
    "Specificity = TN/(TN+FP)\n",
    "Precision = TP/(TP+FP)\n",
    "\n",
    "print (\"Accuracy = %0.2f\" %Accuracy )\n",
    "print (\"Sensitivity = %0.2f\" %Sensitivity )\n",
    "print (\"Specificity = %0.2f\" %Specificity )\n",
    "print (\"Precision = %0.2f\" %Precision )"
   ]
  },
  {
   "cell_type": "markdown",
   "metadata": {},
   "source": [
    "##### Calculate Gini Coefficient from AUC "
   ]
  },
  {
   "cell_type": "code",
   "execution_count": 108,
   "metadata": {},
   "outputs": [
    {
     "name": "stdout",
     "output_type": "stream",
     "text": [
      "AUC=0.91\n",
      "GINI ~=0.82\n"
     ]
    }
   ],
   "source": [
    "AUC = rf_AUC\n",
    "Gini_rf= (2 * AUC -1)\n",
    "\n",
    "print(\"AUC=%.2f\" % AUC)\n",
    "print(\"GINI ~=%.2f\" % Gini_rf)"
   ]
  },
  {
   "cell_type": "markdown",
   "metadata": {},
   "source": [
    "##### Calculate Log Loss in pandas dataframe"
   ]
  },
  {
   "cell_type": "code",
   "execution_count": 109,
   "metadata": {
    "collapsed": true
   },
   "outputs": [],
   "source": [
    "#Create Dataframe to Calculate Log Loss\n",
    "y_test= data_test.select('label')\n",
    "rf_proba=rf_result.select('probability')"
   ]
  },
  {
   "cell_type": "code",
   "execution_count": 110,
   "metadata": {
    "collapsed": true
   },
   "outputs": [],
   "source": [
    "#Convert rf_probaspark dataframe to numpy array\n",
    "rf_proba= np.array(rf_proba.select('probability').collect())\n",
    "\n",
    "#Convert numpy array 3 dimentional to 2 dimentional\n",
    "rf_proba=rf_proba.reshape(-1, rf_proba.shape[-1])\n",
    "\n",
    "#Convert y_test dataframe to pandas dataframe\n",
    "y_test=y_test.toPandas()\n",
    "\n",
    "#Convert y_test pandas dataframe to pandas series\n",
    "y_test=pd.Series(y_test['label'].values)"
   ]
  },
  {
   "cell_type": "code",
   "execution_count": 111,
   "metadata": {},
   "outputs": [
    {
     "name": "stdout",
     "output_type": "stream",
     "text": [
      "Log Loss Random Forest:0.3317\n"
     ]
    }
   ],
   "source": [
    "#Calculate log loss from Random Forest\n",
    "LogLoss = log_loss(y_test, rf_proba) \n",
    "\n",
    "print(\"Log Loss Random Forest:%.4f\" % LogLoss)"
   ]
  },
  {
   "cell_type": "markdown",
   "metadata": {},
   "source": [
    "#### Random Forest With Hyper-Parameter"
   ]
  },
  {
   "cell_type": "code",
   "execution_count": null,
   "metadata": {
    "collapsed": true
   },
   "outputs": [],
   "source": [
    "#define random forest model\n",
    "rf_hyper= RandomForestClassifier(featuresCol='features', labelCol=\"label\")\n",
    "\n",
    "# Hyper-Parameter Tuning\n",
    "paramGrid_rf = ParamGridBuilder() \\\n",
    "    .addGrid(rf_hyper.numTrees, [40, 60, 80, 100]) \\\n",
    "    .build()\n",
    "crossval_rf = CrossValidator(estimator=rf_hyper,\n",
    "                             estimatorParamMaps=paramGrid_rf,\n",
    "                             evaluator=BinaryClassificationEvaluator(),\n",
    "                             numFolds=3) \n",
    "#fit model to data train\n",
    "rf_model_hyper=crossval_rf.fit(data_train)"
   ]
  },
  {
   "cell_type": "code",
   "execution_count": null,
   "metadata": {
    "collapsed": true
   },
   "outputs": [],
   "source": [
    "#transfrom model to data test\n",
    "rf_result_hyper = rf_model_hyper.transform(data_test)"
   ]
  },
  {
   "cell_type": "code",
   "execution_count": null,
   "metadata": {
    "collapsed": true
   },
   "outputs": [],
   "source": [
    "#view id, label, prediction and probability from result of modelling\n",
    "rf_result_hyper.select('Id', 'label', 'prediction', 'probability').show(5)"
   ]
  },
  {
   "cell_type": "markdown",
   "metadata": {},
   "source": [
    "#### Random Forest With Hyper-Parameter Evaluation"
   ]
  },
  {
   "cell_type": "code",
   "execution_count": null,
   "metadata": {
    "collapsed": true
   },
   "outputs": [],
   "source": [
    "#Evaluate model by calculating accuracy and area under curve (AUC)\n",
    "rf_hyper_eval = BinaryClassificationEvaluator(rawPredictionCol=\"probability\", labelCol=\"label\")\n",
    "rf_hyper_eval2= MulticlassClassificationEvaluator(predictionCol=\"prediction\", labelCol=\"label\")\n",
    "rf_hyper_AUC  = rf_hyper_eval.evaluate(rf_result_hyper)\n",
    "rf_hyper_ACC  = rf_hyper_eval2.evaluate(rf_result_hyper, {rf_hyper_eval2.metricName:\"accuracy\"})\n",
    "\n",
    "print(\"Decision Tree Performance Measure\")\n",
    "print(\"Accuracy = %0.2f\" % rf_hyper_ACC)\n",
    "print(\"AUC = %.2f\" % rf_hyper_AUC)"
   ]
  },
  {
   "cell_type": "markdown",
   "metadata": {},
   "source": [
    "##### ROC Grafik"
   ]
  },
  {
   "cell_type": "code",
   "execution_count": null,
   "metadata": {
    "collapsed": true
   },
   "outputs": [],
   "source": [
    "PredAndLabels           = rf_result_hyper.select(\"probability\", \"label\")\n",
    "PredAndLabels_collect   = PredAndLabels.collect()\n",
    "PredAndLabels_list      = [(float(i[0][0]), 1.0-float(i[1])) for i in PredAndLabels_collect]\n",
    "PredAndLabels           = sc.parallelize(PredAndLabels_list)\n",
    "\n",
    "metrics = BinaryClassificationMetrics(PredAndLabels)\n",
    "\n",
    "# Area under ROC\n",
    "print(\"Random Forest Area Under ROC\")\n",
    "print(\"Area under ROC = %.2f\" % metrics.areaUnderROC)\n",
    "\n",
    "# Visualization\n",
    "FPR = dict()                                                        # FPR: False Positive Rate\n",
    "tpr = dict()                                                        # TPR: True Positive Rate\n",
    "roc_auc = dict()\n",
    " \n",
    "y_test = [i[1] for i in PredAndLabels_list]\n",
    "y_score = [i[0] for i in PredAndLabels_list]\n",
    " \n",
    "fpr, tpr, _ = roc_curve(y_test, y_score)\n",
    "roc_auc = auc(fpr, tpr)\n",
    " \n",
    "plt.figure(figsize=(5,4))\n",
    "plt.plot(fpr, tpr, label='ROC curve (area = %0.2f)' % roc_auc)\n",
    "plt.plot([0, 1], [0, 1], 'k--')\n",
    "plt.xlim([0.0, 1.0])\n",
    "plt.ylim([0.0, 1.05])\n",
    "plt.xlabel('False Positive Rate')\n",
    "plt.ylabel('True Positive Rate')\n",
    "plt.title('ROC Curve - Random Forest')\n",
    "plt.legend(loc=\"lower right\")\n",
    "plt.show()"
   ]
  },
  {
   "cell_type": "markdown",
   "metadata": {},
   "source": [
    "##### Confusion Matrix"
   ]
  },
  {
   "cell_type": "code",
   "execution_count": null,
   "metadata": {
    "collapsed": true
   },
   "outputs": [],
   "source": [
    "cm_rf_result_hyper = rf_result_hyper.crosstab(\"prediction\", \"label\")\n",
    "cm_rf_result_hyper = cm_rf_result_hyper.toPandas()\n",
    "cm_rf_result_hyper"
   ]
  },
  {
   "cell_type": "code",
   "execution_count": null,
   "metadata": {
    "collapsed": true
   },
   "outputs": [],
   "source": [
    "#calculate accuracy, sensitivity, specificity and precision\n",
    "TP = cm_rf_result_hyper[\"1\"][0]\n",
    "FP = cm_rf_result_hyper[\"0\"][0]\n",
    "TN = cm_rf_result_hyper[\"0\"][1]\n",
    "FN = cm_rf_result_hyper[\"1\"][1]\n",
    "Accuracy = (TP+TN)/(TP+FP+TN+FN)\n",
    "Sensitivity = TP/(TP+FN)\n",
    "Specificity = TN/(TN+FP)\n",
    "Precision = TP/(TP+FP)\n",
    "\n",
    "print (\"Accuracy = %0.2f\" %Accuracy )\n",
    "print (\"Sensitivity = %0.2f\" %Sensitivity )\n",
    "print (\"Specificity = %0.2f\" %Specificity )\n",
    "print (\"Precision = %0.2f\" %Precision )"
   ]
  },
  {
   "cell_type": "markdown",
   "metadata": {},
   "source": [
    "##### Calculate Gini Coefficient from AUC "
   ]
  },
  {
   "cell_type": "code",
   "execution_count": null,
   "metadata": {
    "collapsed": true
   },
   "outputs": [],
   "source": [
    "AUC = rf_hyper_AUC\n",
    "Gini_rf_hyper= (2 * AUC -1)\n",
    "\n",
    "print(\"AUC=%.2f\" % AUC)\n",
    "print(\"GINI ~=%.2f\" % Gini_rf_hyper)"
   ]
  },
  {
   "cell_type": "markdown",
   "metadata": {},
   "source": [
    "##### Calculate Log Loss in pandas dataframe"
   ]
  },
  {
   "cell_type": "code",
   "execution_count": null,
   "metadata": {
    "collapsed": true
   },
   "outputs": [],
   "source": [
    "#Create Dataframe to Calculate Log Loss\n",
    "y_test= data_test.select('label')\n",
    "rf_hyper_proba=rf_result_hyper.select('probability')"
   ]
  },
  {
   "cell_type": "code",
   "execution_count": null,
   "metadata": {
    "collapsed": true
   },
   "outputs": [],
   "source": [
    "#Convert pyspark dataframe to numpy array\n",
    "rf_hyper_proba= np.array(rf_hyper_proba.select('probability').collect())\n",
    "\n",
    "#Convert numpy array 3 dimentional to 2 dimentional\n",
    "rf_hyper_proba=rf_hyper_proba.reshape(-1, rf_hyper_proba.shape[-1])\n",
    "\n",
    "#Convert y_test dataframe to pandas dataframe\n",
    "y_test=y_test.toPandas()\n",
    "\n",
    "#Convert y_test pandas dataframe to pandas series\n",
    "y_test=pd.Series(y_test['label'].values)"
   ]
  },
  {
   "cell_type": "code",
   "execution_count": null,
   "metadata": {
    "collapsed": true
   },
   "outputs": [],
   "source": [
    "#Calculate log loss from Random Forest hyper parameter\n",
    "LogLoss = log_loss(y_test, rf_hyper_proba) \n",
    "\n",
    "print(\"Log Loss Random Forest:%.4f\" % LogLoss)"
   ]
  },
  {
   "cell_type": "markdown",
   "metadata": {},
   "source": [
    "#### Gradient Boosting"
   ]
  },
  {
   "cell_type": "code",
   "execution_count": 113,
   "metadata": {
    "collapsed": true
   },
   "outputs": [],
   "source": [
    "#create gradient boosting model in data train\n",
    "gbt = GBTClassifier(featuresCol=\"features\", labelCol=\"label\",  maxIter=10)\n",
    "gbt_model = gbt.fit(data_train)\n",
    "\n",
    "#transfrom model to data test\n",
    "gbt_result = gbt_model.transform(data_test)"
   ]
  },
  {
   "cell_type": "code",
   "execution_count": 114,
   "metadata": {},
   "outputs": [
    {
     "name": "stdout",
     "output_type": "stream",
     "text": [
      "+-----------+-----+----------+--------------------+\n",
      "|QuoteNumber|label|prediction|         probability|\n",
      "+-----------+-----+----------+--------------------+\n",
      "|          1|    0|       0.0|[0.92947436919380...|\n",
      "|          2|    0|       0.0|[0.89769279941372...|\n",
      "|          6|    0|       0.0|[0.92664383201093...|\n",
      "|         12|    0|       0.0|[0.89098783539883...|\n",
      "|         13|    0|       0.0|[0.92957194874559...|\n",
      "+-----------+-----+----------+--------------------+\n",
      "only showing top 5 rows\n",
      "\n"
     ]
    }
   ],
   "source": [
    "#view id, label, prediction and probability from result of modelling\n",
    "gbt_result.select('Id', 'label', 'prediction', 'probability').show(5)"
   ]
  },
  {
   "cell_type": "markdown",
   "metadata": {},
   "source": [
    "##### Gradient Boosting Evaluation"
   ]
  },
  {
   "cell_type": "code",
   "execution_count": 115,
   "metadata": {},
   "outputs": [
    {
     "name": "stdout",
     "output_type": "stream",
     "text": [
      "Gradient Boosted Tree Performance Measure\n",
      "Accuracy = 0.91\n",
      "AUC = 0.95\n"
     ]
    }
   ],
   "source": [
    "#Evaluate model by calculating accuracy and area under curve (AUC)\n",
    "gbt_eval = BinaryClassificationEvaluator(rawPredictionCol=\"probability\",labelCol=\"label\")\n",
    "gbt_eval2= MulticlassClassificationEvaluator(predictionCol=\"prediction\", labelCol=\"label\")\n",
    "gbt_AUC  = gbt_eval.evaluate(gbt_result)\n",
    "gbt_ACC  = gbt_eval2.evaluate(gbt_result, {gbt_eval2.metricName:\"accuracy\"})\n",
    "\n",
    "print(\"Gradient Boosted Tree Performance Measure\")\n",
    "print(\"Accuracy = %0.2f\" % gbt_ACC)\n",
    "print(\"AUC = %.2f\" % gbt_AUC)"
   ]
  },
  {
   "cell_type": "markdown",
   "metadata": {},
   "source": [
    "##### ROC Grafik"
   ]
  },
  {
   "cell_type": "code",
   "execution_count": 116,
   "metadata": {},
   "outputs": [
    {
     "name": "stdout",
     "output_type": "stream",
     "text": [
      "Gradient Boosting Area Under ROC\n",
      "Area under ROC = 0.95\n"
     ]
    },
    {
     "data": {
      "image/png": "[encoded data removed]",
      "text/plain": [
       "<matplotlib.figure.Figure at 0x208225fdb38>"
      ]
     },
     "metadata": {},
     "output_type": "display_data"
    }
   ],
   "source": [
    "PredAndLabels           = gbt_result.select(\"probability\", \"label\")\n",
    "PredAndLabels_collect   = PredAndLabels.collect()\n",
    "PredAndLabels_list      = [(float(i[0][0]), 1.0-float(i[1])) for i in PredAndLabels_collect]\n",
    "PredAndLabels           = sc.parallelize(PredAndLabels_list)\n",
    "\n",
    "metrics = BinaryClassificationMetrics(PredAndLabels)\n",
    "\n",
    "# Area under ROC\n",
    "print(\"Gradient Boosting Area Under ROC\")\n",
    "print(\"Area under ROC = %.2f\" % metrics.areaUnderROC)\n",
    "\n",
    "# Visualization\n",
    "FPR = dict()                                                        # FPR: False Positive Rate\n",
    "tpr = dict()                                                        # TPR: True Positive Rate\n",
    "roc_auc = dict()\n",
    " \n",
    "y_test = [i[1] for i in PredAndLabels_list]\n",
    "y_score = [i[0] for i in PredAndLabels_list]\n",
    " \n",
    "fpr, tpr, _ = roc_curve(y_test, y_score)\n",
    "roc_auc = auc(fpr, tpr)\n",
    " \n",
    "plt.figure(figsize=(5,4))\n",
    "plt.plot(fpr, tpr, label='ROC curve (area = %0.2f)' % roc_auc)\n",
    "plt.plot([0, 1], [0, 1], 'k--')\n",
    "plt.xlim([0.0, 1.0])\n",
    "plt.ylim([0.0, 1.05])\n",
    "plt.xlabel('False Positive Rate')\n",
    "plt.ylabel('True Positive Rate')\n",
    "plt.title('ROC Curve - Gradient Boosting')\n",
    "plt.legend(loc=\"lower right\")\n",
    "plt.show()"
   ]
  },
  {
   "cell_type": "markdown",
   "metadata": {},
   "source": [
    "##### Confusion Matrix "
   ]
  },
  {
   "cell_type": "code",
   "execution_count": 117,
   "metadata": {},
   "outputs": [
    {
     "data": {
      "text/html": [
       "<div>\n",
       "<style>\n",
       "    .dataframe thead tr:only-child th {\n",
       "        text-align: right;\n",
       "    }\n",
       "\n",
       "    .dataframe thead th {\n",
       "        text-align: left;\n",
       "    }\n",
       "\n",
       "    .dataframe tbody tr th {\n",
       "        vertical-align: top;\n",
       "    }\n",
       "</style>\n",
       "<table border=\"1\" class=\"dataframe\">\n",
       "  <thead>\n",
       "    <tr style=\"text-align: right;\">\n",
       "      <th></th>\n",
       "      <th>prediction_label</th>\n",
       "      <th>0</th>\n",
       "      <th>1</th>\n",
       "    </tr>\n",
       "  </thead>\n",
       "  <tbody>\n",
       "    <tr>\n",
       "      <th>0</th>\n",
       "      <td>1.0</td>\n",
       "      <td>266</td>\n",
       "      <td>8294</td>\n",
       "    </tr>\n",
       "    <tr>\n",
       "      <th>1</th>\n",
       "      <td>0.0</td>\n",
       "      <td>63538</td>\n",
       "      <td>6451</td>\n",
       "    </tr>\n",
       "  </tbody>\n",
       "</table>\n",
       "</div>"
      ],
      "text/plain": [
       "  prediction_label      0     1\n",
       "0              1.0    266  8294\n",
       "1              0.0  63538  6451"
      ]
     },
     "execution_count": 117,
     "metadata": {},
     "output_type": "execute_result"
    }
   ],
   "source": [
    "cm_gbt_result = gbt_result.crosstab(\"prediction\", \"label\")\n",
    "cm_gbt_result = cm_gbt_result.toPandas()\n",
    "cm_gbt_result"
   ]
  },
  {
   "cell_type": "code",
   "execution_count": 118,
   "metadata": {},
   "outputs": [
    {
     "name": "stdout",
     "output_type": "stream",
     "text": [
      "Accuracy = 0.91\n",
      "Sensitivity = 0.56\n",
      "Specificity = 1.00\n",
      "Precision = 0.97\n"
     ]
    }
   ],
   "source": [
    "#calculate accuracy, sensitivity, specificity and precision\n",
    "TP = cm_gbt_result[\"1\"][0]\n",
    "FP = cm_gbt_result[\"0\"][0]\n",
    "TN = cm_gbt_result[\"0\"][1]\n",
    "FN = cm_gbt_result[\"1\"][1]\n",
    "Accuracy = (TP+TN)/(TP+FP+TN+FN)\n",
    "Sensitivity = TP/(TP+FN)\n",
    "Specificity = TN/(TN+FP)\n",
    "Precision = TP/(TP+FP)\n",
    "\n",
    "print (\"Accuracy = %0.2f\" %Accuracy )\n",
    "print (\"Sensitivity = %0.2f\" %Sensitivity )\n",
    "print (\"Specificity = %0.2f\" %Specificity )\n",
    "print (\"Precision = %0.2f\" %Precision )"
   ]
  },
  {
   "cell_type": "markdown",
   "metadata": {},
   "source": [
    "##### Calculate Gini Coefficient from AUC"
   ]
  },
  {
   "cell_type": "code",
   "execution_count": 119,
   "metadata": {},
   "outputs": [
    {
     "name": "stdout",
     "output_type": "stream",
     "text": [
      "AUC=0.95\n",
      "GINI ~=0.89\n"
     ]
    }
   ],
   "source": [
    "AUC = gbt_AUC\n",
    "Gini_gbt= (2 * AUC -1)\n",
    "\n",
    "print(\"AUC=%.2f\" % AUC)\n",
    "print(\"GINI ~=%.2f\" % Gini_gbt)"
   ]
  },
  {
   "cell_type": "markdown",
   "metadata": {},
   "source": [
    "##### Calculate Log Loss in pandas dataframe"
   ]
  },
  {
   "cell_type": "code",
   "execution_count": 120,
   "metadata": {
    "collapsed": true
   },
   "outputs": [],
   "source": [
    "#Create Dataframe to Calculate Log Loss\n",
    "y_test= data_test.select('label')\n",
    "gbt_proba=gbt_result.select('probability')"
   ]
  },
  {
   "cell_type": "code",
   "execution_count": 121,
   "metadata": {
    "collapsed": true
   },
   "outputs": [],
   "source": [
    "#Convert pyspark dataframe to numpy array\n",
    "gbt_proba= np.array(gbt_proba.select('probability').collect())\n",
    "\n",
    "#Convert numpy array 3 dimentional to 2 dimentional\n",
    "gbt_proba=gbt_proba.reshape(-1, gbt_proba.shape[-1])\n",
    "\n",
    "#Convert y_test dataframe to pandas dataframe\n",
    "y_test=y_test.toPandas()\n",
    "\n",
    "#Convert y_test pandas dataframe to pandas series\n",
    "y_test=pd.Series(y_test['label'].values)"
   ]
  },
  {
   "cell_type": "code",
   "execution_count": 122,
   "metadata": {},
   "outputs": [
    {
     "name": "stdout",
     "output_type": "stream",
     "text": [
      "Log Loss Gradient Boosting:0.2402\n"
     ]
    }
   ],
   "source": [
    "#Calculate log loss from Gradient Boosting\n",
    "LogLoss = log_loss(y_test, gbt_proba) \n",
    "\n",
    "print(\"Log Loss Gradient Boosting:%.4f\" % LogLoss)"
   ]
  },
  {
   "cell_type": "markdown",
   "metadata": {},
   "source": [
    "#### Gradient Boosting With Hyper-Parameter"
   ]
  },
  {
   "cell_type": "code",
   "execution_count": null,
   "metadata": {
    "collapsed": true
   },
   "outputs": [],
   "source": [
    "#define gradient boosting model\n",
    "gbt_hyper= GBTClassifier(featuresCol=\"features\", labelCol=\"label\")\n",
    "\n",
    "# Hyper-Parameter Tuning\n",
    "paramGrid_gbt = ParamGridBuilder() \\\n",
    "    .addGrid(gbt_hyper.maxIter, [10])\\\n",
    "    .addGrid(gbt_hyper.maxDepth, [6, 7,10]) \\\n",
    "    .build()\n",
    "crossval_gbt = CrossValidator(estimator=gbt_hyper,\n",
    "                             estimatorParamMaps=paramGrid_gbt,\n",
    "                             evaluator=BinaryClassificationEvaluator(),\n",
    "                             numFolds=3)\n",
    "#fit model to data train\n",
    "gbt_model_hyper = crossval_gbt.fit(data_train)"
   ]
  },
  {
   "cell_type": "code",
   "execution_count": null,
   "metadata": {
    "collapsed": true
   },
   "outputs": [],
   "source": [
    "#transfrom model to data test\n",
    "gbt_result_hyper = gbt_model_hyper.transform(data_test)"
   ]
  },
  {
   "cell_type": "code",
   "execution_count": null,
   "metadata": {
    "collapsed": true
   },
   "outputs": [],
   "source": [
    "#view id, label, prediction and probability from result of modelling\n",
    "gbt_result_hyper.select('Id', 'label', 'prediction', 'probability').show(5)"
   ]
  },
  {
   "cell_type": "markdown",
   "metadata": {},
   "source": [
    "#### Gradient Boosting With Hyper-Parameter Evaluation"
   ]
  },
  {
   "cell_type": "code",
   "execution_count": null,
   "metadata": {
    "collapsed": true
   },
   "outputs": [],
   "source": [
    "#Evaluate model by calculating accuracy and area under curve (AUC)\n",
    "gbt_eval_hyper = BinaryClassificationEvaluator(rawPredictionCol=\"probability\", labelCol=\"label\")\n",
    "gbt_eval_hyper2= MulticlassClassificationEvaluator(predictionCol=\"prediction\", labelCol=\"label\")\n",
    "gbt_hyper_AUC  = gbt_eval_hyper.evaluate(gbt_result_hyper)\n",
    "gbt_hyper_ACC  = gbt_eval_hyper2.evaluate(gbt_result_hyper, {gbt_eval_hyper2.metricName:\"accuracy\"})\n",
    "\n",
    "\n",
    "print(\"Gradient Boosted Tree Performance Measure\")\n",
    "print(\"Accuracy = %0.2f\" % gbt_hyper_ACC)\n",
    "print(\"AUC = %.2f\" % gbt_hyper_AUC)"
   ]
  },
  {
   "cell_type": "markdown",
   "metadata": {},
   "source": [
    "##### ROC Grafik"
   ]
  },
  {
   "cell_type": "code",
   "execution_count": null,
   "metadata": {
    "collapsed": true
   },
   "outputs": [],
   "source": [
    "PredAndLabels           = gbt_result_hyper.select(\"probability\", \"label\")\n",
    "PredAndLabels_collect   = PredAndLabels.collect()\n",
    "PredAndLabels_list      = [(float(i[0][0]), 1.0-float(i[1])) for i in PredAndLabels_collect]\n",
    "PredAndLabels           = sc.parallelize(PredAndLabels_list)\n",
    "\n",
    "metrics = BinaryClassificationMetrics(PredAndLabels)\n",
    "\n",
    "# Area under ROC\n",
    "print(\"Gradient Boosting Area Under ROC\")\n",
    "print(\"Area under ROC = %.2f\" % metrics.areaUnderROC)\n",
    "\n",
    "# Visualization\n",
    "FPR = dict()                                                        # FPR: False Positive Rate\n",
    "tpr = dict()                                                        # TPR: True Positive Rate\n",
    "roc_auc = dict()\n",
    " \n",
    "y_test = [i[1] for i in PredAndLabels_list]\n",
    "y_score = [i[0] for i in PredAndLabels_list]\n",
    " \n",
    "fpr, tpr, _ = roc_curve(y_test, y_score)\n",
    "roc_auc = auc(fpr, tpr)\n",
    " \n",
    "plt.figure(figsize=(5,4))\n",
    "plt.plot(fpr, tpr, label='ROC curve (area = %0.2f)' % roc_auc)\n",
    "plt.plot([0, 1], [0, 1], 'k--')\n",
    "plt.xlim([0.0, 1.0])\n",
    "plt.ylim([0.0, 1.05])\n",
    "plt.xlabel('False Positive Rate')\n",
    "plt.ylabel('True Positive Rate')\n",
    "plt.title('ROC Curve - Gradient Boosting')\n",
    "plt.legend(loc=\"lower right\")\n",
    "plt.show()"
   ]
  },
  {
   "cell_type": "markdown",
   "metadata": {},
   "source": [
    "##### Confusion Matrix"
   ]
  },
  {
   "cell_type": "code",
   "execution_count": null,
   "metadata": {
    "collapsed": true
   },
   "outputs": [],
   "source": [
    "cm_gbt_result_hyper = gbt_result_hyper.crosstab(\"prediction\", \"label\")\n",
    "cm_gbt_result_hyper = cm_gbt_result_hyper.toPandas()\n",
    "cm_gbt_result_hyper"
   ]
  },
  {
   "cell_type": "code",
   "execution_count": null,
   "metadata": {
    "collapsed": true
   },
   "outputs": [],
   "source": [
    "#calculate accuracy, sensitivity, specificity and precision\n",
    "TP = cm_gbt_result_hyper[\"1\"][0]\n",
    "FP = cm_gbt_result_hyper[\"0\"][0]\n",
    "TN = cm_gbt_result_hyper[\"0\"][1]\n",
    "FN = cm_gbt_result_hyper[\"1\"][1]\n",
    "Accuracy = (TP+TN)/(TP+FP+TN+FN)\n",
    "Sensitivity = TP/(TP+FN)\n",
    "Specificity = TN/(TN+FP)\n",
    "Precision = TP/(TP+FP)\n",
    "\n",
    "print (\"Accuracy = %0.2f\" %Accuracy )\n",
    "print (\"Sensitivity = %0.2f\" %Sensitivity )\n",
    "print (\"Specificity = %0.2f\" %Specificity )\n",
    "print (\"Precision = %0.2f\" %Precision )"
   ]
  },
  {
   "cell_type": "markdown",
   "metadata": {},
   "source": [
    "##### Calculate Gini Coefficient from AUC"
   ]
  },
  {
   "cell_type": "code",
   "execution_count": null,
   "metadata": {
    "collapsed": true
   },
   "outputs": [],
   "source": [
    "AUC = gbt_hyper_AUC\n",
    "Gini_gbt_hyper= (2 * AUC -1)\n",
    "\n",
    "print(\"AUC=%.2f\" % AUC)\n",
    "print(\"GINI ~=%.2f\" % Gini_gbt_hyper)"
   ]
  },
  {
   "cell_type": "markdown",
   "metadata": {},
   "source": [
    "##### Calculate Log Loss in pandas dataframe"
   ]
  },
  {
   "cell_type": "code",
   "execution_count": null,
   "metadata": {
    "collapsed": true
   },
   "outputs": [],
   "source": [
    "#Create Dataframe to Calculate Log Loss\n",
    "y_test= data_test.select('label')\n",
    "gbt_hyper_proba=gbt_result_hyper.select('probability')"
   ]
  },
  {
   "cell_type": "code",
   "execution_count": null,
   "metadata": {
    "collapsed": true
   },
   "outputs": [],
   "source": [
    "#Convert pyspark dataframe to numpy array\n",
    "gbt_hyper_proba= np.array(gbt_hyper_proba.select('probability').collect())\n",
    "\n",
    "#Convert numpy array 3 dimentional to 2 dimentional\n",
    "gbt_hyper_proba=gbt_hyper_proba.reshape(-1, gbt_hyper_proba.shape[-1])\n",
    "\n",
    "#Convert y_test dataframe to pandas dataframe\n",
    "y_test=y_test.toPandas()\n",
    "\n",
    "#Convert y_test pandas dataframe to pandas series\n",
    "y_test=pd.Series(y_test['label'].values)"
   ]
  },
  {
   "cell_type": "code",
   "execution_count": null,
   "metadata": {
    "collapsed": true
   },
   "outputs": [],
   "source": [
    "#Calculate log loss from Gradient Boosting hyper parameter\n",
    "LogLoss = log_loss(y_test, gbt_hyper_proba) \n",
    "\n",
    "print(\"Log Loss Gradient Boosting:%.4f\" % LogLoss)"
   ]
  },
  {
   "cell_type": "markdown",
   "metadata": {},
   "source": [
    "### Implementation Modelling to data test"
   ]
  },
  {
   "cell_type": "markdown",
   "metadata": {},
   "source": [
    "#### Prediction using Logistic Regression"
   ]
  },
  {
   "cell_type": "code",
   "execution_count": 84,
   "metadata": {
    "collapsed": true
   },
   "outputs": [],
   "source": [
    "#transform logistic regression to data test\n",
    "lr_predict = lr_model.transform(test2)"
   ]
  },
  {
   "cell_type": "code",
   "execution_count": 85,
   "metadata": {},
   "outputs": [
    {
     "name": "stdout",
     "output_type": "stream",
     "text": [
      "+-----------+----------+--------------------+\n",
      "|QuoteNumber|prediction|         probability|\n",
      "+-----------+----------+--------------------+\n",
      "|          3|       0.0|[0.83791364398138...|\n",
      "|          5|       0.0|[0.92952193248116...|\n",
      "|          7|       0.0|[0.95741665141917...|\n",
      "|          9|       0.0|[0.97971792414083...|\n",
      "|         10|       0.0|[0.99136899854054...|\n",
      "+-----------+----------+--------------------+\n",
      "only showing top 5 rows\n",
      "\n"
     ]
    }
   ],
   "source": [
    "#view id, label, prediction and probability from result of modelling\n",
    "lr_predict.select('Id', 'prediction', 'probability').show(5)"
   ]
  },
  {
   "cell_type": "code",
   "execution_count": 125,
   "metadata": {
    "collapsed": true
   },
   "outputs": [],
   "source": [
    "#select id and prediction from result of modelling and save in data frame called my_submission\n",
    "my_submission=lr_predict.select(\"Id\",\"prediction\")"
   ]
  },
  {
   "cell_type": "code",
   "execution_count": 126,
   "metadata": {
    "collapsed": true
   },
   "outputs": [],
   "source": [
    "#convert to Pandas dataframe\n",
    "my_submission=my_submission.toPandas()"
   ]
  },
  {
   "cell_type": "code",
   "execution_count": 127,
   "metadata": {
    "collapsed": true
   },
   "outputs": [],
   "source": [
    "#save to csv\n",
    "my_submission.to_csv('E:/Datalabs/Classification/Home_Quote_conversion/my_submission.csv', index = False, header = True)"
   ]
  },
  {
   "cell_type": "markdown",
   "metadata": {},
   "source": [
    "#### Prediction using Gradient Boosting"
   ]
  },
  {
   "cell_type": "code",
   "execution_count": 123,
   "metadata": {
    "collapsed": true
   },
   "outputs": [],
   "source": [
    "#transfrom gradient boosting model to data test\n",
    "gbt_predict = gbt_model.transform(test2)"
   ]
  },
  {
   "cell_type": "code",
   "execution_count": 124,
   "metadata": {},
   "outputs": [
    {
     "name": "stdout",
     "output_type": "stream",
     "text": [
      "+-----------+----------+--------------------+\n",
      "|QuoteNumber|prediction|         probability|\n",
      "+-----------+----------+--------------------+\n",
      "|          3|       0.0|[0.92769229359160...|\n",
      "|          5|       0.0|[0.90001675024220...|\n",
      "|          7|       0.0|[0.90051101019602...|\n",
      "|          9|       0.0|[0.91877741316781...|\n",
      "|         10|       0.0|[0.80122160794555...|\n",
      "+-----------+----------+--------------------+\n",
      "only showing top 5 rows\n",
      "\n"
     ]
    }
   ],
   "source": [
    "#view id, label, prediction and probability from result of modelling\n",
    "gbt_predict.select('Id', 'prediction', 'probability').show(5)"
   ]
  },
  {
   "cell_type": "code",
   "execution_count": 129,
   "metadata": {
    "collapsed": true
   },
   "outputs": [],
   "source": [
    "#select id and prediction from result of modelling and save in data frame called my_submission\n",
    "my_submission2=gbt_predict.select(\"Id\",\"prediction\")"
   ]
  },
  {
   "cell_type": "code",
   "execution_count": 130,
   "metadata": {
    "collapsed": true
   },
   "outputs": [],
   "source": [
    "#convert to Pandas dataframe\n",
    "my_submission2=my_submission2.toPandas()"
   ]
  },
  {
   "cell_type": "code",
   "execution_count": 131,
   "metadata": {
    "collapsed": true
   },
   "outputs": [],
   "source": [
    "#save to csv\n",
    "my_submission2.to_csv('E:/Datalabs/Classification/Home_Quote_conversion/my_submission2.csv', index = False, header = True)"
   ]
  },
  {
   "cell_type": "code",
   "execution_count": null,
   "metadata": {
    "collapsed": true
   },
   "outputs": [],
   "source": []
  }
 ],
 "metadata": {
  "kernelspec": {
   "display_name": "Python 3",
   "language": "python",
   "name": "python3"
  },
  "language_info": {
   "codemirror_mode": {
    "name": "ipython",
    "version": 3
   },
   "file_extension": ".py",
   "mimetype": "text/x-python",
   "name": "python",
   "nbconvert_exporter": "python",
   "pygments_lexer": "ipython3",
   "version": "3.6.1"
  }
 },
 "nbformat": 4,
 "nbformat_minor": 2
}
